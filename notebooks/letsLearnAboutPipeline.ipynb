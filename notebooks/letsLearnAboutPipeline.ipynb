{
 "metadata": {
  "language_info": {
   "codemirror_mode": {
    "name": "ipython",
    "version": 3
   },
   "file_extension": ".py",
   "mimetype": "text/x-python",
   "name": "python",
   "nbconvert_exporter": "python",
   "pygments_lexer": "ipython3",
   "version": "3.8.5-final"
  },
  "orig_nbformat": 2,
  "kernelspec": {
   "name": "python3",
   "display_name": "Python 3",
   "language": "python"
  }
 },
 "nbformat": 4,
 "nbformat_minor": 2,
 "cells": [
  {
   "cell_type": "code",
   "execution_count": 1,
   "metadata": {},
   "outputs": [],
   "source": [
    "import pandas as pd\n",
    "import numpy as np\n",
    "# custom made functions (can be a pain to import sometimes)\n",
    "import sys\n",
    "sys.path.insert(0,os.path.abspath('../src/helper'))\n",
    "from customPandas import *"
   ]
  },
  {
   "cell_type": "code",
   "execution_count": 2,
   "metadata": {},
   "outputs": [],
   "source": [
    "# https://stackoverflow.com/questions/39125532/file-does-not-exist-in-jupyter-notebook\n",
    "dataPath = os.path.abspath('../data')\n",
    "fileName = 'ramen-ratings.csv'\n",
    "df = pd.read_csv(f'{dataPath}/{fileName}') "
   ]
  },
  {
   "cell_type": "code",
   "execution_count": 3,
   "metadata": {},
   "outputs": [
    {
     "output_type": "execute_result",
     "data": {
      "text/plain": [
       "Series([], Name: Stars, dtype: object)"
      ]
     },
     "metadata": {},
     "execution_count": 3
    }
   ],
   "source": [
    "def cleanStars(value):\n",
    "    if value == 'Unrated':\n",
    "        return np.nan\n",
    "    else:\n",
    "        return value\n",
    "df.Stars = df.Stars.apply(cleanStars) \n",
    "df[df.Stars == 'Unrated'].Stars"
   ]
  },
  {
   "cell_type": "code",
   "execution_count": 4,
   "metadata": {},
   "outputs": [],
   "source": [
    "df = df.drop(['Review #','Top Ten'],axis=1)"
   ]
  },
  {
   "cell_type": "code",
   "execution_count": 5,
   "metadata": {},
   "outputs": [],
   "source": [
    "df = df.fillna(method='ffill')"
   ]
  },
  {
   "cell_type": "code",
   "execution_count": 6,
   "metadata": {},
   "outputs": [
    {
     "output_type": "execute_result",
     "data": {
      "text/plain": [
       "Empty DataFrame\n",
       "Columns: [Total, Percent]\n",
       "Index: []"
      ],
      "text/html": "<div>\n<style scoped>\n    .dataframe tbody tr th:only-of-type {\n        vertical-align: middle;\n    }\n\n    .dataframe tbody tr th {\n        vertical-align: top;\n    }\n\n    .dataframe thead th {\n        text-align: right;\n    }\n</style>\n<table border=\"1\" class=\"dataframe\">\n  <thead>\n    <tr style=\"text-align: right;\">\n      <th></th>\n      <th>Total</th>\n      <th>Percent</th>\n    </tr>\n  </thead>\n  <tbody>\n  </tbody>\n</table>\n</div>"
     },
     "metadata": {},
     "execution_count": 6
    }
   ],
   "source": [
    "totalPercentageNullData(df)"
   ]
  },
  {
   "cell_type": "code",
   "execution_count": 7,
   "metadata": {},
   "outputs": [],
   "source": [
    "# changing an incorrect dtype\n",
    "df = df.astype({'Stars':'float64'})"
   ]
  },
  {
   "cell_type": "code",
   "execution_count": 8,
   "metadata": {},
   "outputs": [
    {
     "output_type": "execute_result",
     "data": {
      "text/plain": [
       "             Stars\n",
       "count  2580.000000\n",
       "mean      3.654884\n",
       "std       1.014886\n",
       "min       0.000000\n",
       "25%       3.250000\n",
       "50%       3.750000\n",
       "75%       4.250000\n",
       "max       5.000000"
      ],
      "text/html": "<div>\n<style scoped>\n    .dataframe tbody tr th:only-of-type {\n        vertical-align: middle;\n    }\n\n    .dataframe tbody tr th {\n        vertical-align: top;\n    }\n\n    .dataframe thead th {\n        text-align: right;\n    }\n</style>\n<table border=\"1\" class=\"dataframe\">\n  <thead>\n    <tr style=\"text-align: right;\">\n      <th></th>\n      <th>Stars</th>\n    </tr>\n  </thead>\n  <tbody>\n    <tr>\n      <th>count</th>\n      <td>2580.000000</td>\n    </tr>\n    <tr>\n      <th>mean</th>\n      <td>3.654884</td>\n    </tr>\n    <tr>\n      <th>std</th>\n      <td>1.014886</td>\n    </tr>\n    <tr>\n      <th>min</th>\n      <td>0.000000</td>\n    </tr>\n    <tr>\n      <th>25%</th>\n      <td>3.250000</td>\n    </tr>\n    <tr>\n      <th>50%</th>\n      <td>3.750000</td>\n    </tr>\n    <tr>\n      <th>75%</th>\n      <td>4.250000</td>\n    </tr>\n    <tr>\n      <th>max</th>\n      <td>5.000000</td>\n    </tr>\n  </tbody>\n</table>\n</div>"
     },
     "metadata": {},
     "execution_count": 8
    }
   ],
   "source": [
    "df.describe()"
   ]
  },
  {
   "cell_type": "code",
   "execution_count": 9,
   "metadata": {},
   "outputs": [],
   "source": [
    "Y = df['Stars']\n",
    "df = df.drop(['Stars'],axis=1)"
   ]
  },
  {
   "cell_type": "code",
   "execution_count": 10,
   "metadata": {},
   "outputs": [
    {
     "output_type": "execute_result",
     "data": {
      "text/plain": [
       "               Brand                                            Variety Style  \\\n",
       "0          New Touch                          T's Restaurant Tantanmen    Cup   \n",
       "1           Just Way  Noodles Spicy Hot Sesame Spicy Hot Sesame Guan...  Pack   \n",
       "2             Nissin                      Cup Noodles Chicken Vegetable   Cup   \n",
       "3            Wei Lih                      GGE Ramen Snack Tomato Flavor  Pack   \n",
       "4     Ching's Secret                                    Singapore Curry  Pack   \n",
       "...              ...                                                ...   ...   \n",
       "2575           Vifon  Hu Tiu Nam Vang [\"Phnom Penh\" style] Asian Sty...  Bowl   \n",
       "2576         Wai Wai                     Oriental Style Instant Noodles  Pack   \n",
       "2577         Wai Wai                                     Tom Yum Shrimp  Pack   \n",
       "2578         Wai Wai                               Tom Yum Chili Flavor  Pack   \n",
       "2579        Westbrae                                         Miso Ramen  Pack   \n",
       "\n",
       "       Country  \n",
       "0        Japan  \n",
       "1       Taiwan  \n",
       "2          USA  \n",
       "3       Taiwan  \n",
       "4        India  \n",
       "...        ...  \n",
       "2575   Vietnam  \n",
       "2576  Thailand  \n",
       "2577  Thailand  \n",
       "2578  Thailand  \n",
       "2579       USA  \n",
       "\n",
       "[2580 rows x 4 columns]"
      ],
      "text/html": "<div>\n<style scoped>\n    .dataframe tbody tr th:only-of-type {\n        vertical-align: middle;\n    }\n\n    .dataframe tbody tr th {\n        vertical-align: top;\n    }\n\n    .dataframe thead th {\n        text-align: right;\n    }\n</style>\n<table border=\"1\" class=\"dataframe\">\n  <thead>\n    <tr style=\"text-align: right;\">\n      <th></th>\n      <th>Brand</th>\n      <th>Variety</th>\n      <th>Style</th>\n      <th>Country</th>\n    </tr>\n  </thead>\n  <tbody>\n    <tr>\n      <th>0</th>\n      <td>New Touch</td>\n      <td>T's Restaurant Tantanmen</td>\n      <td>Cup</td>\n      <td>Japan</td>\n    </tr>\n    <tr>\n      <th>1</th>\n      <td>Just Way</td>\n      <td>Noodles Spicy Hot Sesame Spicy Hot Sesame Guan...</td>\n      <td>Pack</td>\n      <td>Taiwan</td>\n    </tr>\n    <tr>\n      <th>2</th>\n      <td>Nissin</td>\n      <td>Cup Noodles Chicken Vegetable</td>\n      <td>Cup</td>\n      <td>USA</td>\n    </tr>\n    <tr>\n      <th>3</th>\n      <td>Wei Lih</td>\n      <td>GGE Ramen Snack Tomato Flavor</td>\n      <td>Pack</td>\n      <td>Taiwan</td>\n    </tr>\n    <tr>\n      <th>4</th>\n      <td>Ching's Secret</td>\n      <td>Singapore Curry</td>\n      <td>Pack</td>\n      <td>India</td>\n    </tr>\n    <tr>\n      <th>...</th>\n      <td>...</td>\n      <td>...</td>\n      <td>...</td>\n      <td>...</td>\n    </tr>\n    <tr>\n      <th>2575</th>\n      <td>Vifon</td>\n      <td>Hu Tiu Nam Vang [\"Phnom Penh\" style] Asian Sty...</td>\n      <td>Bowl</td>\n      <td>Vietnam</td>\n    </tr>\n    <tr>\n      <th>2576</th>\n      <td>Wai Wai</td>\n      <td>Oriental Style Instant Noodles</td>\n      <td>Pack</td>\n      <td>Thailand</td>\n    </tr>\n    <tr>\n      <th>2577</th>\n      <td>Wai Wai</td>\n      <td>Tom Yum Shrimp</td>\n      <td>Pack</td>\n      <td>Thailand</td>\n    </tr>\n    <tr>\n      <th>2578</th>\n      <td>Wai Wai</td>\n      <td>Tom Yum Chili Flavor</td>\n      <td>Pack</td>\n      <td>Thailand</td>\n    </tr>\n    <tr>\n      <th>2579</th>\n      <td>Westbrae</td>\n      <td>Miso Ramen</td>\n      <td>Pack</td>\n      <td>USA</td>\n    </tr>\n  </tbody>\n</table>\n<p>2580 rows × 4 columns</p>\n</div>"
     },
     "metadata": {},
     "execution_count": 10
    }
   ],
   "source": [
    "df"
   ]
  },
  {
   "cell_type": "code",
   "execution_count": 11,
   "metadata": {},
   "outputs": [
    {
     "output_type": "execute_result",
     "data": {
      "text/plain": [
       "0       3.75\n",
       "1       1.00\n",
       "2       2.25\n",
       "3       2.75\n",
       "4       3.75\n",
       "        ... \n",
       "2575    3.50\n",
       "2576    1.00\n",
       "2577    2.00\n",
       "2578    2.00\n",
       "2579    0.50\n",
       "Name: Stars, Length: 2580, dtype: float64"
      ]
     },
     "metadata": {},
     "execution_count": 11
    }
   ],
   "source": [
    "Y"
   ]
  },
  {
   "cell_type": "code",
   "execution_count": 12,
   "metadata": {},
   "outputs": [],
   "source": [
    "from sklearn.preprocessing import FunctionTransformer\n",
    "catFeats = df.dtypes[df.dtypes == 'object'].index.tolist()\n",
    "\n",
    "def catFeat(df):\n",
    "    return df[catFeats]\n",
    "\n",
    "keepCat = FunctionTransformer(catFeat)"
   ]
  },
  {
   "cell_type": "code",
   "execution_count": 13,
   "metadata": {},
   "outputs": [],
   "source": [
    "from sklearn.impute import SimpleImputer\n",
    "from sklearn.pipeline import Pipeline\n",
    "from sklearn.preprocessing import OneHotEncoder\n",
    "from sklearn.decomposition import PCA\n",
    "pipeline = Pipeline(steps=[\n",
    "    ('imputer', SimpleImputer(strategy='constant', fill_value='missing')),\n",
    "    ('ohc',OneHotEncoder(handle_unknown='ignore')),\n",
    "    ('to_dense',ToDenseTransformer()),\n",
    "    ('pca',PCA(n_components=3))\n",
    "    ])"
   ]
  },
  {
   "cell_type": "code",
   "execution_count": 14,
   "metadata": {},
   "outputs": [
    {
     "output_type": "execute_result",
     "data": {
      "text/plain": [
       "Pipeline(steps=[('imputer',\n",
       "                 SimpleImputer(fill_value='missing', strategy='constant')),\n",
       "                ('ohc', OneHotEncoder(handle_unknown='ignore')),\n",
       "                ('to_dense',\n",
       "                 <customPandas.ToDenseTransformer object at 0x7fa21c4ab310>),\n",
       "                ('pca', PCA(n_components=3))])"
      ],
      "text/html": "<style>div.sk-top-container {color: black;background-color: white;}div.sk-toggleable {background-color: white;}label.sk-toggleable__label {cursor: pointer;display: block;width: 100%;margin-bottom: 0;padding: 0.2em 0.3em;box-sizing: border-box;text-align: center;}div.sk-toggleable__content {max-height: 0;max-width: 0;overflow: hidden;text-align: left;background-color: #f0f8ff;}div.sk-toggleable__content pre {margin: 0.2em;color: black;border-radius: 0.25em;background-color: #f0f8ff;}input.sk-toggleable__control:checked~div.sk-toggleable__content {max-height: 200px;max-width: 100%;overflow: auto;}div.sk-estimator input.sk-toggleable__control:checked~label.sk-toggleable__label {background-color: #d4ebff;}div.sk-label input.sk-toggleable__control:checked~label.sk-toggleable__label {background-color: #d4ebff;}input.sk-hidden--visually {border: 0;clip: rect(1px 1px 1px 1px);clip: rect(1px, 1px, 1px, 1px);height: 1px;margin: -1px;overflow: hidden;padding: 0;position: absolute;width: 1px;}div.sk-estimator {font-family: monospace;background-color: #f0f8ff;margin: 0.25em 0.25em;border: 1px dotted black;border-radius: 0.25em;box-sizing: border-box;}div.sk-estimator:hover {background-color: #d4ebff;}div.sk-parallel-item::after {content: \"\";width: 100%;border-bottom: 1px solid gray;flex-grow: 1;}div.sk-label:hover label.sk-toggleable__label {background-color: #d4ebff;}div.sk-serial::before {content: \"\";position: absolute;border-left: 1px solid gray;box-sizing: border-box;top: 2em;bottom: 0;left: 50%;}div.sk-serial {display: flex;flex-direction: column;align-items: center;background-color: white;}div.sk-item {z-index: 1;}div.sk-parallel {display: flex;align-items: stretch;justify-content: center;background-color: white;}div.sk-parallel-item {display: flex;flex-direction: column;position: relative;background-color: white;}div.sk-parallel-item:first-child::after {align-self: flex-end;width: 50%;}div.sk-parallel-item:last-child::after {align-self: flex-start;width: 50%;}div.sk-parallel-item:only-child::after {width: 0;}div.sk-dashed-wrapped {border: 1px dashed gray;margin: 0.2em;box-sizing: border-box;padding-bottom: 0.1em;background-color: white;position: relative;}div.sk-label label {font-family: monospace;font-weight: bold;background-color: white;display: inline-block;line-height: 1.2em;}div.sk-label-container {position: relative;z-index: 2;text-align: center;}div.sk-container {display: inline-block;position: relative;}</style><div class=\"sk-top-container\"><div class=\"sk-container\"><div class=\"sk-item sk-dashed-wrapped\"><div class=\"sk-label-container\"><div class=\"sk-label sk-toggleable\"><input class=\"sk-toggleable__control sk-hidden--visually\" id=\"3f7ae198-03e3-4eab-aa2e-49ff6e9dd5c7\" type=\"checkbox\" ><label class=\"sk-toggleable__label\" for=\"3f7ae198-03e3-4eab-aa2e-49ff6e9dd5c7\">Pipeline</label><div class=\"sk-toggleable__content\"><pre>Pipeline(steps=[('imputer',\n                 SimpleImputer(fill_value='missing', strategy='constant')),\n                ('ohc', OneHotEncoder(handle_unknown='ignore')),\n                ('to_dense',\n                 <customPandas.ToDenseTransformer object at 0x7fa21c4ab310>),\n                ('pca', PCA(n_components=3))])</pre></div></div></div><div class=\"sk-serial\"><div class=\"sk-item\"><div class=\"sk-estimator sk-toggleable\"><input class=\"sk-toggleable__control sk-hidden--visually\" id=\"1968e379-8945-4b31-b2cc-641fca36efaf\" type=\"checkbox\" ><label class=\"sk-toggleable__label\" for=\"1968e379-8945-4b31-b2cc-641fca36efaf\">SimpleImputer</label><div class=\"sk-toggleable__content\"><pre>SimpleImputer(fill_value='missing', strategy='constant')</pre></div></div></div><div class=\"sk-item\"><div class=\"sk-estimator sk-toggleable\"><input class=\"sk-toggleable__control sk-hidden--visually\" id=\"7a432856-03b9-46cc-abfb-ffcbe119b285\" type=\"checkbox\" ><label class=\"sk-toggleable__label\" for=\"7a432856-03b9-46cc-abfb-ffcbe119b285\">OneHotEncoder</label><div class=\"sk-toggleable__content\"><pre>OneHotEncoder(handle_unknown='ignore')</pre></div></div></div><div class=\"sk-item\"><div class=\"sk-estimator sk-toggleable\"><input class=\"sk-toggleable__control sk-hidden--visually\" id=\"096c9008-b158-4c20-90aa-6aa17e6fb353\" type=\"checkbox\" ><label class=\"sk-toggleable__label\" for=\"096c9008-b158-4c20-90aa-6aa17e6fb353\">ToDenseTransformer</label><div class=\"sk-toggleable__content\"><pre><customPandas.ToDenseTransformer object at 0x7fa21c4ab310></pre></div></div></div><div class=\"sk-item\"><div class=\"sk-estimator sk-toggleable\"><input class=\"sk-toggleable__control sk-hidden--visually\" id=\"122a4c4a-16df-410f-a2ad-19895393a362\" type=\"checkbox\" ><label class=\"sk-toggleable__label\" for=\"122a4c4a-16df-410f-a2ad-19895393a362\">PCA</label><div class=\"sk-toggleable__content\"><pre>PCA(n_components=3)</pre></div></div></div></div></div></div></div>"
     },
     "metadata": {},
     "execution_count": 14
    }
   ],
   "source": [
    "# very usefull pipeline visualization\n",
    "from sklearn import set_config\n",
    "set_config(display='diagram')\n",
    "pipeline"
   ]
  },
  {
   "cell_type": "code",
   "execution_count": 23,
   "metadata": {},
   "outputs": [],
   "source": [
    "from sklearn.model_selection import RandomizedSearchCV\n",
    "from sklearn.linear_model import BayesianRidge, Lasso, Ridge\n",
    "regressors = [BayesianRidge(),Lasso(), Ridge()]\n",
    "# hyperparameter tuning for the Randomized Search\n",
    "params = [{'regressors':[Lasso()],\n",
    "'regressors__alpha' : [round(x,2) for x in np.linspace(start=0.01,stop =1,num=8)]\n",
    "# preprocessing pipeline\n",
    "# 'pipeline__pca__n_components':range(3,5,1)\n",
    "},\n",
    "\n",
    "{'regressors':[Ridge()],\n",
    "'regressors__alpha' : [round(x,2) for x in np.linspace(start=0.01,stop =1,num=8)]\n",
    "# preprocessing pipeline\n",
    "# 'pipeline__pca__n_components':range(3,5,1)\n",
    "}]\n",
    "# if looking for specific parameters use the get_params methods (e.g.Lasso().get_params())"
   ]
  },
  {
   "cell_type": "code",
   "execution_count": 24,
   "metadata": {},
   "outputs": [],
   "source": [
    "baseModel = Pipeline([('categories', pipeline),\n",
    "                      ('regressors', regressors[0])])"
   ]
  },
  {
   "cell_type": "code",
   "execution_count": 25,
   "metadata": {},
   "outputs": [],
   "source": [
    "from sklearn.model_selection import train_test_split\n",
    "# split of the datasla\n",
    "X_train, X_test, y_train, y_test = train_test_split(df,Y,test_size=0.33, random_state=42)"
   ]
  },
  {
   "cell_type": "code",
   "execution_count": 26,
   "metadata": {},
   "outputs": [
    {
     "output_type": "stream",
     "name": "stdout",
     "text": [
      "Fitting 5 folds for each of 16 candidates, totalling 80 fits\n"
     ]
    }
   ],
   "source": [
    "tunedModel = RandomizedSearchCV(baseModel,params,verbose=1,n_iter=150, cv=5,random_state=42).fit(X_train, y_train)"
   ]
  },
  {
   "cell_type": "code",
   "execution_count": 27,
   "metadata": {},
   "outputs": [
    {
     "output_type": "execute_result",
     "data": {
      "text/plain": [
       "{'alpha_1': 1e-06,\n",
       " 'alpha_2': 1e-06,\n",
       " 'alpha_init': None,\n",
       " 'compute_score': False,\n",
       " 'copy_X': True,\n",
       " 'fit_intercept': True,\n",
       " 'lambda_1': 1e-06,\n",
       " 'lambda_2': 1e-06,\n",
       " 'lambda_init': None,\n",
       " 'n_iter': 300,\n",
       " 'normalize': False,\n",
       " 'tol': 0.001,\n",
       " 'verbose': False}"
      ]
     },
     "metadata": {},
     "execution_count": 27
    }
   ],
   "source": [
    "BayesianRidge().get_params()"
   ]
  },
  {
   "cell_type": "code",
   "execution_count": 28,
   "metadata": {},
   "outputs": [
    {
     "output_type": "stream",
     "name": "stdout",
     "text": [
      "model score training data: 0.025\nmodel score test data: -0.000\n<bound method Pipeline.get_params of Pipeline(steps=[('categories',\n                 Pipeline(steps=[('imputer',\n                                  SimpleImputer(fill_value='missing',\n                                                strategy='constant')),\n                                 ('ohc',\n                                  OneHotEncoder(handle_unknown='ignore')),\n                                 ('to_dense',\n                                  <customPandas.ToDenseTransformer object at 0x7fa218db1af0>),\n                                 ('pca', PCA(n_components=3))])),\n                ('regressors', Ridge(alpha=0.86))])>\n"
     ]
    },
    {
     "output_type": "execute_result",
     "data": {
      "text/plain": [
       "{'regressors__alpha': 0.86, 'regressors': Ridge(alpha=0.86)}"
      ]
     },
     "metadata": {},
     "execution_count": 28
    }
   ],
   "source": [
    "print(\"model score training data: %.3f\" % tunedModel.score(X_train, y_train)) \n",
    "print(\"model score test data: %.3f\" % tunedModel.score(X_test, y_test))\n",
    "print(tunedModel.best_estimator_.get_params)\n",
    "tunedModel.best_params_"
   ]
  },
  {
   "cell_type": "code",
   "execution_count": 29,
   "metadata": {},
   "outputs": [
    {
     "output_type": "execute_result",
     "data": {
      "text/plain": [
       "0.7258020026014753"
      ]
     },
     "metadata": {},
     "execution_count": 29
    }
   ],
   "source": [
    "y_pred = tunedModel.predict(X_test)\n",
    "from sklearn.metrics import mean_absolute_error,mean_squared_error,r2_score\n",
    "mean_absolute_error(y_test,y_pred)"
   ]
  },
  {
   "cell_type": "code",
   "execution_count": 30,
   "metadata": {},
   "outputs": [
    {
     "output_type": "execute_result",
     "data": {
      "text/plain": [
       "<matplotlib.axes._subplots.AxesSubplot at 0x7fa218de8340>"
      ]
     },
     "metadata": {},
     "execution_count": 30
    },
    {
     "output_type": "display_data",
     "data": {
      "text/plain": "<Figure size 432x288 with 1 Axes>",
      "image/svg+xml": "<?xml version=\"1.0\" encoding=\"utf-8\" standalone=\"no\"?>\n<!DOCTYPE svg PUBLIC \"-//W3C//DTD SVG 1.1//EN\"\n  \"http://www.w3.org/Graphics/SVG/1.1/DTD/svg11.dtd\">\n<!-- Created with matplotlib (https://matplotlib.org/) -->\n<svg height=\"248.518125pt\" version=\"1.1\" viewBox=\"0 0 388.965625 248.518125\" width=\"388.965625pt\" xmlns=\"http://www.w3.org/2000/svg\" xmlns:xlink=\"http://www.w3.org/1999/xlink\">\n <defs>\n  <style type=\"text/css\">\n*{stroke-linecap:butt;stroke-linejoin:round;}\n  </style>\n </defs>\n <g id=\"figure_1\">\n  <g id=\"patch_1\">\n   <path d=\"M 0 248.518125 \nL 388.965625 248.518125 \nL 388.965625 0 \nL 0 0 \nz\n\" style=\"fill:none;\"/>\n  </g>\n  <g id=\"axes_1\">\n   <g id=\"patch_2\">\n    <path d=\"M 46.965625 224.64 \nL 381.765625 224.64 \nL 381.765625 7.2 \nL 46.965625 7.2 \nz\n\" style=\"fill:#ffffff;\"/>\n   </g>\n   <g id=\"patch_3\">\n    <path clip-path=\"url(#pac1872df22)\" d=\"M 62.183807 224.64 \nL 66.795377 224.64 \nL 66.795377 224.64 \nL 62.183807 224.64 \nz\n\" style=\"fill:#ff7f0e;fill-opacity:0.75;stroke:#000000;stroke-linejoin:miter;stroke-width:0.461157;\"/>\n   </g>\n   <g id=\"patch_4\">\n    <path clip-path=\"url(#pac1872df22)\" d=\"M 66.795377 224.64 \nL 71.406947 224.64 \nL 71.406947 224.64 \nL 66.795377 224.64 \nz\n\" style=\"fill:#ff7f0e;fill-opacity:0.75;stroke:#000000;stroke-linejoin:miter;stroke-width:0.461157;\"/>\n   </g>\n   <g id=\"patch_5\">\n    <path clip-path=\"url(#pac1872df22)\" d=\"M 71.406947 224.64 \nL 76.018518 224.64 \nL 76.018518 224.64 \nL 71.406947 224.64 \nz\n\" style=\"fill:#ff7f0e;fill-opacity:0.75;stroke:#000000;stroke-linejoin:miter;stroke-width:0.461157;\"/>\n   </g>\n   <g id=\"patch_6\">\n    <path clip-path=\"url(#pac1872df22)\" d=\"M 76.018518 224.64 \nL 80.630088 224.64 \nL 80.630088 224.64 \nL 76.018518 224.64 \nz\n\" style=\"fill:#ff7f0e;fill-opacity:0.75;stroke:#000000;stroke-linejoin:miter;stroke-width:0.461157;\"/>\n   </g>\n   <g id=\"patch_7\">\n    <path clip-path=\"url(#pac1872df22)\" d=\"M 80.630088 224.64 \nL 85.241658 224.64 \nL 85.241658 224.64 \nL 80.630088 224.64 \nz\n\" style=\"fill:#ff7f0e;fill-opacity:0.75;stroke:#000000;stroke-linejoin:miter;stroke-width:0.461157;\"/>\n   </g>\n   <g id=\"patch_8\">\n    <path clip-path=\"url(#pac1872df22)\" d=\"M 85.241658 224.64 \nL 89.853228 224.64 \nL 89.853228 224.64 \nL 85.241658 224.64 \nz\n\" style=\"fill:#ff7f0e;fill-opacity:0.75;stroke:#000000;stroke-linejoin:miter;stroke-width:0.461157;\"/>\n   </g>\n   <g id=\"patch_9\">\n    <path clip-path=\"url(#pac1872df22)\" d=\"M 89.853228 224.64 \nL 94.464799 224.64 \nL 94.464799 224.64 \nL 89.853228 224.64 \nz\n\" style=\"fill:#ff7f0e;fill-opacity:0.75;stroke:#000000;stroke-linejoin:miter;stroke-width:0.461157;\"/>\n   </g>\n   <g id=\"patch_10\">\n    <path clip-path=\"url(#pac1872df22)\" d=\"M 94.464799 224.64 \nL 99.076369 224.64 \nL 99.076369 224.64 \nL 94.464799 224.64 \nz\n\" style=\"fill:#ff7f0e;fill-opacity:0.75;stroke:#000000;stroke-linejoin:miter;stroke-width:0.461157;\"/>\n   </g>\n   <g id=\"patch_11\">\n    <path clip-path=\"url(#pac1872df22)\" d=\"M 99.076369 224.64 \nL 103.687939 224.64 \nL 103.687939 224.64 \nL 99.076369 224.64 \nz\n\" style=\"fill:#ff7f0e;fill-opacity:0.75;stroke:#000000;stroke-linejoin:miter;stroke-width:0.461157;\"/>\n   </g>\n   <g id=\"patch_12\">\n    <path clip-path=\"url(#pac1872df22)\" d=\"M 103.687939 224.64 \nL 108.299509 224.64 \nL 108.299509 224.64 \nL 103.687939 224.64 \nz\n\" style=\"fill:#ff7f0e;fill-opacity:0.75;stroke:#000000;stroke-linejoin:miter;stroke-width:0.461157;\"/>\n   </g>\n   <g id=\"patch_13\">\n    <path clip-path=\"url(#pac1872df22)\" d=\"M 108.299509 224.64 \nL 112.91108 224.64 \nL 112.91108 224.64 \nL 108.299509 224.64 \nz\n\" style=\"fill:#ff7f0e;fill-opacity:0.75;stroke:#000000;stroke-linejoin:miter;stroke-width:0.461157;\"/>\n   </g>\n   <g id=\"patch_14\">\n    <path clip-path=\"url(#pac1872df22)\" d=\"M 112.91108 224.64 \nL 117.52265 224.64 \nL 117.52265 224.64 \nL 112.91108 224.64 \nz\n\" style=\"fill:#ff7f0e;fill-opacity:0.75;stroke:#000000;stroke-linejoin:miter;stroke-width:0.461157;\"/>\n   </g>\n   <g id=\"patch_15\">\n    <path clip-path=\"url(#pac1872df22)\" d=\"M 117.52265 224.64 \nL 122.13422 224.64 \nL 122.13422 224.64 \nL 117.52265 224.64 \nz\n\" style=\"fill:#ff7f0e;fill-opacity:0.75;stroke:#000000;stroke-linejoin:miter;stroke-width:0.461157;\"/>\n   </g>\n   <g id=\"patch_16\">\n    <path clip-path=\"url(#pac1872df22)\" d=\"M 122.13422 224.64 \nL 126.74579 224.64 \nL 126.74579 224.64 \nL 122.13422 224.64 \nz\n\" style=\"fill:#ff7f0e;fill-opacity:0.75;stroke:#000000;stroke-linejoin:miter;stroke-width:0.461157;\"/>\n   </g>\n   <g id=\"patch_17\">\n    <path clip-path=\"url(#pac1872df22)\" d=\"M 126.74579 224.64 \nL 131.357361 224.64 \nL 131.357361 224.64 \nL 126.74579 224.64 \nz\n\" style=\"fill:#ff7f0e;fill-opacity:0.75;stroke:#000000;stroke-linejoin:miter;stroke-width:0.461157;\"/>\n   </g>\n   <g id=\"patch_18\">\n    <path clip-path=\"url(#pac1872df22)\" d=\"M 131.357361 224.64 \nL 135.968931 224.64 \nL 135.968931 224.64 \nL 131.357361 224.64 \nz\n\" style=\"fill:#ff7f0e;fill-opacity:0.75;stroke:#000000;stroke-linejoin:miter;stroke-width:0.461157;\"/>\n   </g>\n   <g id=\"patch_19\">\n    <path clip-path=\"url(#pac1872df22)\" d=\"M 135.968931 224.64 \nL 140.580501 224.64 \nL 140.580501 224.64 \nL 135.968931 224.64 \nz\n\" style=\"fill:#ff7f0e;fill-opacity:0.75;stroke:#000000;stroke-linejoin:miter;stroke-width:0.461157;\"/>\n   </g>\n   <g id=\"patch_20\">\n    <path clip-path=\"url(#pac1872df22)\" d=\"M 140.580501 224.64 \nL 145.192071 224.64 \nL 145.192071 224.64 \nL 140.580501 224.64 \nz\n\" style=\"fill:#ff7f0e;fill-opacity:0.75;stroke:#000000;stroke-linejoin:miter;stroke-width:0.461157;\"/>\n   </g>\n   <g id=\"patch_21\">\n    <path clip-path=\"url(#pac1872df22)\" d=\"M 145.192071 224.64 \nL 149.803642 224.64 \nL 149.803642 224.64 \nL 145.192071 224.64 \nz\n\" style=\"fill:#ff7f0e;fill-opacity:0.75;stroke:#000000;stroke-linejoin:miter;stroke-width:0.461157;\"/>\n   </g>\n   <g id=\"patch_22\">\n    <path clip-path=\"url(#pac1872df22)\" d=\"M 149.803642 224.64 \nL 154.415212 224.64 \nL 154.415212 224.64 \nL 149.803642 224.64 \nz\n\" style=\"fill:#ff7f0e;fill-opacity:0.75;stroke:#000000;stroke-linejoin:miter;stroke-width:0.461157;\"/>\n   </g>\n   <g id=\"patch_23\">\n    <path clip-path=\"url(#pac1872df22)\" d=\"M 154.415212 224.64 \nL 159.026782 224.64 \nL 159.026782 224.64 \nL 154.415212 224.64 \nz\n\" style=\"fill:#ff7f0e;fill-opacity:0.75;stroke:#000000;stroke-linejoin:miter;stroke-width:0.461157;\"/>\n   </g>\n   <g id=\"patch_24\">\n    <path clip-path=\"url(#pac1872df22)\" d=\"M 159.026782 224.64 \nL 163.638352 224.64 \nL 163.638352 224.64 \nL 159.026782 224.64 \nz\n\" style=\"fill:#ff7f0e;fill-opacity:0.75;stroke:#000000;stroke-linejoin:miter;stroke-width:0.461157;\"/>\n   </g>\n   <g id=\"patch_25\">\n    <path clip-path=\"url(#pac1872df22)\" d=\"M 163.638352 224.64 \nL 168.249923 224.64 \nL 168.249923 224.64 \nL 163.638352 224.64 \nz\n\" style=\"fill:#ff7f0e;fill-opacity:0.75;stroke:#000000;stroke-linejoin:miter;stroke-width:0.461157;\"/>\n   </g>\n   <g id=\"patch_26\">\n    <path clip-path=\"url(#pac1872df22)\" d=\"M 168.249923 224.64 \nL 172.861493 224.64 \nL 172.861493 224.64 \nL 168.249923 224.64 \nz\n\" style=\"fill:#ff7f0e;fill-opacity:0.75;stroke:#000000;stroke-linejoin:miter;stroke-width:0.461157;\"/>\n   </g>\n   <g id=\"patch_27\">\n    <path clip-path=\"url(#pac1872df22)\" d=\"M 172.861493 224.64 \nL 177.473063 224.64 \nL 177.473063 224.64 \nL 172.861493 224.64 \nz\n\" style=\"fill:#ff7f0e;fill-opacity:0.75;stroke:#000000;stroke-linejoin:miter;stroke-width:0.461157;\"/>\n   </g>\n   <g id=\"patch_28\">\n    <path clip-path=\"url(#pac1872df22)\" d=\"M 177.473063 224.64 \nL 182.084633 224.64 \nL 182.084633 224.64 \nL 177.473063 224.64 \nz\n\" style=\"fill:#ff7f0e;fill-opacity:0.75;stroke:#000000;stroke-linejoin:miter;stroke-width:0.461157;\"/>\n   </g>\n   <g id=\"patch_29\">\n    <path clip-path=\"url(#pac1872df22)\" d=\"M 182.084633 224.64 \nL 186.696204 224.64 \nL 186.696204 224.64 \nL 182.084633 224.64 \nz\n\" style=\"fill:#ff7f0e;fill-opacity:0.75;stroke:#000000;stroke-linejoin:miter;stroke-width:0.461157;\"/>\n   </g>\n   <g id=\"patch_30\">\n    <path clip-path=\"url(#pac1872df22)\" d=\"M 186.696204 224.64 \nL 191.307774 224.64 \nL 191.307774 224.64 \nL 186.696204 224.64 \nz\n\" style=\"fill:#ff7f0e;fill-opacity:0.75;stroke:#000000;stroke-linejoin:miter;stroke-width:0.461157;\"/>\n   </g>\n   <g id=\"patch_31\">\n    <path clip-path=\"url(#pac1872df22)\" d=\"M 191.307774 224.64 \nL 195.919344 224.64 \nL 195.919344 224.64 \nL 191.307774 224.64 \nz\n\" style=\"fill:#ff7f0e;fill-opacity:0.75;stroke:#000000;stroke-linejoin:miter;stroke-width:0.461157;\"/>\n   </g>\n   <g id=\"patch_32\">\n    <path clip-path=\"url(#pac1872df22)\" d=\"M 195.919344 224.64 \nL 200.530914 224.64 \nL 200.530914 224.64 \nL 195.919344 224.64 \nz\n\" style=\"fill:#ff7f0e;fill-opacity:0.75;stroke:#000000;stroke-linejoin:miter;stroke-width:0.461157;\"/>\n   </g>\n   <g id=\"patch_33\">\n    <path clip-path=\"url(#pac1872df22)\" d=\"M 200.530914 224.64 \nL 205.142485 224.64 \nL 205.142485 224.64 \nL 200.530914 224.64 \nz\n\" style=\"fill:#ff7f0e;fill-opacity:0.75;stroke:#000000;stroke-linejoin:miter;stroke-width:0.461157;\"/>\n   </g>\n   <g id=\"patch_34\">\n    <path clip-path=\"url(#pac1872df22)\" d=\"M 205.142485 224.64 \nL 209.754055 224.64 \nL 209.754055 224.64 \nL 205.142485 224.64 \nz\n\" style=\"fill:#ff7f0e;fill-opacity:0.75;stroke:#000000;stroke-linejoin:miter;stroke-width:0.461157;\"/>\n   </g>\n   <g id=\"patch_35\">\n    <path clip-path=\"url(#pac1872df22)\" d=\"M 209.754055 224.64 \nL 214.365625 224.64 \nL 214.365625 224.64 \nL 209.754055 224.64 \nz\n\" style=\"fill:#ff7f0e;fill-opacity:0.75;stroke:#000000;stroke-linejoin:miter;stroke-width:0.461157;\"/>\n   </g>\n   <g id=\"patch_36\">\n    <path clip-path=\"url(#pac1872df22)\" d=\"M 214.365625 224.64 \nL 218.977195 224.64 \nL 218.977195 224.64 \nL 214.365625 224.64 \nz\n\" style=\"fill:#ff7f0e;fill-opacity:0.75;stroke:#000000;stroke-linejoin:miter;stroke-width:0.461157;\"/>\n   </g>\n   <g id=\"patch_37\">\n    <path clip-path=\"url(#pac1872df22)\" d=\"M 218.977195 224.64 \nL 223.588765 224.64 \nL 223.588765 224.64 \nL 218.977195 224.64 \nz\n\" style=\"fill:#ff7f0e;fill-opacity:0.75;stroke:#000000;stroke-linejoin:miter;stroke-width:0.461157;\"/>\n   </g>\n   <g id=\"patch_38\">\n    <path clip-path=\"url(#pac1872df22)\" d=\"M 223.588765 224.64 \nL 228.200336 224.64 \nL 228.200336 224.64 \nL 223.588765 224.64 \nz\n\" style=\"fill:#ff7f0e;fill-opacity:0.75;stroke:#000000;stroke-linejoin:miter;stroke-width:0.461157;\"/>\n   </g>\n   <g id=\"patch_39\">\n    <path clip-path=\"url(#pac1872df22)\" d=\"M 228.200336 224.64 \nL 232.811906 224.64 \nL 232.811906 224.64 \nL 228.200336 224.64 \nz\n\" style=\"fill:#ff7f0e;fill-opacity:0.75;stroke:#000000;stroke-linejoin:miter;stroke-width:0.461157;\"/>\n   </g>\n   <g id=\"patch_40\">\n    <path clip-path=\"url(#pac1872df22)\" d=\"M 232.811906 224.64 \nL 237.423476 224.64 \nL 237.423476 224.64 \nL 232.811906 224.64 \nz\n\" style=\"fill:#ff7f0e;fill-opacity:0.75;stroke:#000000;stroke-linejoin:miter;stroke-width:0.461157;\"/>\n   </g>\n   <g id=\"patch_41\">\n    <path clip-path=\"url(#pac1872df22)\" d=\"M 237.423476 224.64 \nL 242.035046 224.64 \nL 242.035046 224.64 \nL 237.423476 224.64 \nz\n\" style=\"fill:#ff7f0e;fill-opacity:0.75;stroke:#000000;stroke-linejoin:miter;stroke-width:0.461157;\"/>\n   </g>\n   <g id=\"patch_42\">\n    <path clip-path=\"url(#pac1872df22)\" d=\"M 242.035046 224.64 \nL 246.646617 224.64 \nL 246.646617 224.64 \nL 242.035046 224.64 \nz\n\" style=\"fill:#ff7f0e;fill-opacity:0.75;stroke:#000000;stroke-linejoin:miter;stroke-width:0.461157;\"/>\n   </g>\n   <g id=\"patch_43\">\n    <path clip-path=\"url(#pac1872df22)\" d=\"M 246.646617 224.64 \nL 251.258187 224.64 \nL 251.258187 224.64 \nL 246.646617 224.64 \nz\n\" style=\"fill:#ff7f0e;fill-opacity:0.75;stroke:#000000;stroke-linejoin:miter;stroke-width:0.461157;\"/>\n   </g>\n   <g id=\"patch_44\">\n    <path clip-path=\"url(#pac1872df22)\" d=\"M 251.258187 224.64 \nL 255.869757 224.64 \nL 255.869757 224.64 \nL 251.258187 224.64 \nz\n\" style=\"fill:#ff7f0e;fill-opacity:0.75;stroke:#000000;stroke-linejoin:miter;stroke-width:0.461157;\"/>\n   </g>\n   <g id=\"patch_45\">\n    <path clip-path=\"url(#pac1872df22)\" d=\"M 255.869757 224.64 \nL 260.481327 224.64 \nL 260.481327 215.764898 \nL 255.869757 215.764898 \nz\n\" style=\"fill:#ff7f0e;fill-opacity:0.75;stroke:#000000;stroke-linejoin:miter;stroke-width:0.461157;\"/>\n   </g>\n   <g id=\"patch_46\">\n    <path clip-path=\"url(#pac1872df22)\" d=\"M 260.481327 224.64 \nL 265.092898 224.64 \nL 265.092898 224.64 \nL 260.481327 224.64 \nz\n\" style=\"fill:#ff7f0e;fill-opacity:0.75;stroke:#000000;stroke-linejoin:miter;stroke-width:0.461157;\"/>\n   </g>\n   <g id=\"patch_47\">\n    <path clip-path=\"url(#pac1872df22)\" d=\"M 265.092898 224.64 \nL 269.704468 224.64 \nL 269.704468 181.447837 \nL 265.092898 181.447837 \nz\n\" style=\"fill:#ff7f0e;fill-opacity:0.75;stroke:#000000;stroke-linejoin:miter;stroke-width:0.461157;\"/>\n   </g>\n   <g id=\"patch_48\">\n    <path clip-path=\"url(#pac1872df22)\" d=\"M 269.704468 224.64 \nL 274.316038 224.64 \nL 274.316038 206.298122 \nL 269.704468 206.298122 \nz\n\" style=\"fill:#ff7f0e;fill-opacity:0.75;stroke:#000000;stroke-linejoin:miter;stroke-width:0.461157;\"/>\n   </g>\n   <g id=\"patch_49\">\n    <path clip-path=\"url(#pac1872df22)\" d=\"M 274.316038 224.64 \nL 278.927608 224.64 \nL 278.927608 145.947429 \nL 274.316038 145.947429 \nz\n\" style=\"fill:#ff7f0e;fill-opacity:0.75;stroke:#000000;stroke-linejoin:miter;stroke-width:0.461157;\"/>\n   </g>\n   <g id=\"patch_50\">\n    <path clip-path=\"url(#pac1872df22)\" d=\"M 278.927608 224.64 \nL 283.539179 224.64 \nL 283.539179 172.572735 \nL 278.927608 172.572735 \nz\n\" style=\"fill:#ff7f0e;fill-opacity:0.75;stroke:#000000;stroke-linejoin:miter;stroke-width:0.461157;\"/>\n   </g>\n   <g id=\"patch_51\">\n    <path clip-path=\"url(#pac1872df22)\" d=\"M 283.539179 224.64 \nL 288.150749 224.64 \nL 288.150749 17.554286 \nL 283.539179 17.554286 \nz\n\" style=\"fill:#ff7f0e;fill-opacity:0.75;stroke:#000000;stroke-linejoin:miter;stroke-width:0.461157;\"/>\n   </g>\n   <g id=\"patch_52\">\n    <path clip-path=\"url(#pac1872df22)\" d=\"M 288.150749 224.64 \nL 292.762319 224.64 \nL 292.762319 210.439837 \nL 288.150749 210.439837 \nz\n\" style=\"fill:#ff7f0e;fill-opacity:0.75;stroke:#000000;stroke-linejoin:miter;stroke-width:0.461157;\"/>\n   </g>\n   <g id=\"patch_53\">\n    <path clip-path=\"url(#pac1872df22)\" d=\"M 292.762319 224.64 \nL 297.373889 224.64 \nL 297.373889 184.406204 \nL 292.762319 184.406204 \nz\n\" style=\"fill:#ff7f0e;fill-opacity:0.75;stroke:#000000;stroke-linejoin:miter;stroke-width:0.461157;\"/>\n   </g>\n   <g id=\"patch_54\">\n    <path clip-path=\"url(#pac1872df22)\" d=\"M 297.373889 224.64 \nL 301.98546 224.64 \nL 301.98546 220.498286 \nL 297.373889 220.498286 \nz\n\" style=\"fill:#ff7f0e;fill-opacity:0.75;stroke:#000000;stroke-linejoin:miter;stroke-width:0.461157;\"/>\n   </g>\n   <g id=\"patch_55\">\n    <path clip-path=\"url(#pac1872df22)\" d=\"M 301.98546 224.64 \nL 306.59703 224.64 \nL 306.59703 195.056327 \nL 301.98546 195.056327 \nz\n\" style=\"fill:#ff7f0e;fill-opacity:0.75;stroke:#000000;stroke-linejoin:miter;stroke-width:0.461157;\"/>\n   </g>\n   <g id=\"patch_56\">\n    <path clip-path=\"url(#pac1872df22)\" d=\"M 306.59703 224.64 \nL 311.2086 224.64 \nL 311.2086 224.64 \nL 306.59703 224.64 \nz\n\" style=\"fill:#ff7f0e;fill-opacity:0.75;stroke:#000000;stroke-linejoin:miter;stroke-width:0.461157;\"/>\n   </g>\n   <g id=\"patch_57\">\n    <path clip-path=\"url(#pac1872df22)\" d=\"M 311.2086 224.64 \nL 315.82017 224.64 \nL 315.82017 216.948245 \nL 311.2086 216.948245 \nz\n\" style=\"fill:#ff7f0e;fill-opacity:0.75;stroke:#000000;stroke-linejoin:miter;stroke-width:0.461157;\"/>\n   </g>\n   <g id=\"patch_58\">\n    <path clip-path=\"url(#pac1872df22)\" d=\"M 315.82017 224.64 \nL 320.431741 224.64 \nL 320.431741 224.64 \nL 315.82017 224.64 \nz\n\" style=\"fill:#ff7f0e;fill-opacity:0.75;stroke:#000000;stroke-linejoin:miter;stroke-width:0.461157;\"/>\n   </g>\n   <g id=\"patch_59\">\n    <path clip-path=\"url(#pac1872df22)\" d=\"M 320.431741 224.64 \nL 325.043311 224.64 \nL 325.043311 224.64 \nL 320.431741 224.64 \nz\n\" style=\"fill:#ff7f0e;fill-opacity:0.75;stroke:#000000;stroke-linejoin:miter;stroke-width:0.461157;\"/>\n   </g>\n   <g id=\"patch_60\">\n    <path clip-path=\"url(#pac1872df22)\" d=\"M 325.043311 224.64 \nL 329.654881 224.64 \nL 329.654881 224.64 \nL 325.043311 224.64 \nz\n\" style=\"fill:#ff7f0e;fill-opacity:0.75;stroke:#000000;stroke-linejoin:miter;stroke-width:0.461157;\"/>\n   </g>\n   <g id=\"patch_61\">\n    <path clip-path=\"url(#pac1872df22)\" d=\"M 329.654881 224.64 \nL 334.266451 224.64 \nL 334.266451 224.64 \nL 329.654881 224.64 \nz\n\" style=\"fill:#ff7f0e;fill-opacity:0.75;stroke:#000000;stroke-linejoin:miter;stroke-width:0.461157;\"/>\n   </g>\n   <g id=\"patch_62\">\n    <path clip-path=\"url(#pac1872df22)\" d=\"M 334.266451 224.64 \nL 338.878022 224.64 \nL 338.878022 224.64 \nL 334.266451 224.64 \nz\n\" style=\"fill:#ff7f0e;fill-opacity:0.75;stroke:#000000;stroke-linejoin:miter;stroke-width:0.461157;\"/>\n   </g>\n   <g id=\"patch_63\">\n    <path clip-path=\"url(#pac1872df22)\" d=\"M 338.878022 224.64 \nL 343.489592 224.64 \nL 343.489592 224.64 \nL 338.878022 224.64 \nz\n\" style=\"fill:#ff7f0e;fill-opacity:0.75;stroke:#000000;stroke-linejoin:miter;stroke-width:0.461157;\"/>\n   </g>\n   <g id=\"patch_64\">\n    <path clip-path=\"url(#pac1872df22)\" d=\"M 343.489592 224.64 \nL 348.101162 224.64 \nL 348.101162 224.64 \nL 343.489592 224.64 \nz\n\" style=\"fill:#ff7f0e;fill-opacity:0.75;stroke:#000000;stroke-linejoin:miter;stroke-width:0.461157;\"/>\n   </g>\n   <g id=\"patch_65\">\n    <path clip-path=\"url(#pac1872df22)\" d=\"M 348.101162 224.64 \nL 352.712732 224.64 \nL 352.712732 224.64 \nL 348.101162 224.64 \nz\n\" style=\"fill:#ff7f0e;fill-opacity:0.75;stroke:#000000;stroke-linejoin:miter;stroke-width:0.461157;\"/>\n   </g>\n   <g id=\"patch_66\">\n    <path clip-path=\"url(#pac1872df22)\" d=\"M 352.712732 224.64 \nL 357.324303 224.64 \nL 357.324303 224.64 \nL 352.712732 224.64 \nz\n\" style=\"fill:#ff7f0e;fill-opacity:0.75;stroke:#000000;stroke-linejoin:miter;stroke-width:0.461157;\"/>\n   </g>\n   <g id=\"patch_67\">\n    <path clip-path=\"url(#pac1872df22)\" d=\"M 357.324303 224.64 \nL 361.935873 224.64 \nL 361.935873 224.64 \nL 357.324303 224.64 \nz\n\" style=\"fill:#ff7f0e;fill-opacity:0.75;stroke:#000000;stroke-linejoin:miter;stroke-width:0.461157;\"/>\n   </g>\n   <g id=\"patch_68\">\n    <path clip-path=\"url(#pac1872df22)\" d=\"M 361.935873 224.64 \nL 366.547443 224.64 \nL 366.547443 224.64 \nL 361.935873 224.64 \nz\n\" style=\"fill:#ff7f0e;fill-opacity:0.75;stroke:#000000;stroke-linejoin:miter;stroke-width:0.461157;\"/>\n   </g>\n   <g id=\"patch_69\">\n    <path clip-path=\"url(#pac1872df22)\" d=\"M 62.183807 224.64 \nL 66.795377 224.64 \nL 66.795377 222.273306 \nL 62.183807 222.273306 \nz\n\" style=\"fill:#1f77b4;fill-opacity:0.75;stroke:#000000;stroke-linejoin:miter;stroke-width:0.461157;\"/>\n   </g>\n   <g id=\"patch_70\">\n    <path clip-path=\"url(#pac1872df22)\" d=\"M 66.795377 224.64 \nL 71.406947 224.64 \nL 71.406947 224.64 \nL 66.795377 224.64 \nz\n\" style=\"fill:#1f77b4;fill-opacity:0.75;stroke:#000000;stroke-linejoin:miter;stroke-width:0.461157;\"/>\n   </g>\n   <g id=\"patch_71\">\n    <path clip-path=\"url(#pac1872df22)\" d=\"M 71.406947 224.64 \nL 76.018518 224.64 \nL 76.018518 224.64 \nL 71.406947 224.64 \nz\n\" style=\"fill:#1f77b4;fill-opacity:0.75;stroke:#000000;stroke-linejoin:miter;stroke-width:0.461157;\"/>\n   </g>\n   <g id=\"patch_72\">\n    <path clip-path=\"url(#pac1872df22)\" d=\"M 76.018518 224.64 \nL 80.630088 224.64 \nL 80.630088 221.681633 \nL 76.018518 221.681633 \nz\n\" style=\"fill:#1f77b4;fill-opacity:0.75;stroke:#000000;stroke-linejoin:miter;stroke-width:0.461157;\"/>\n   </g>\n   <g id=\"patch_73\">\n    <path clip-path=\"url(#pac1872df22)\" d=\"M 80.630088 224.64 \nL 85.241658 224.64 \nL 85.241658 224.64 \nL 80.630088 224.64 \nz\n\" style=\"fill:#1f77b4;fill-opacity:0.75;stroke:#000000;stroke-linejoin:miter;stroke-width:0.461157;\"/>\n   </g>\n   <g id=\"patch_74\">\n    <path clip-path=\"url(#pac1872df22)\" d=\"M 85.241658 224.64 \nL 89.853228 224.64 \nL 89.853228 224.64 \nL 85.241658 224.64 \nz\n\" style=\"fill:#1f77b4;fill-opacity:0.75;stroke:#000000;stroke-linejoin:miter;stroke-width:0.461157;\"/>\n   </g>\n   <g id=\"patch_75\">\n    <path clip-path=\"url(#pac1872df22)\" d=\"M 89.853228 224.64 \nL 94.464799 224.64 \nL 94.464799 221.681633 \nL 89.853228 221.681633 \nz\n\" style=\"fill:#1f77b4;fill-opacity:0.75;stroke:#000000;stroke-linejoin:miter;stroke-width:0.461157;\"/>\n   </g>\n   <g id=\"patch_76\">\n    <path clip-path=\"url(#pac1872df22)\" d=\"M 94.464799 224.64 \nL 99.076369 224.64 \nL 99.076369 224.64 \nL 94.464799 224.64 \nz\n\" style=\"fill:#1f77b4;fill-opacity:0.75;stroke:#000000;stroke-linejoin:miter;stroke-width:0.461157;\"/>\n   </g>\n   <g id=\"patch_77\">\n    <path clip-path=\"url(#pac1872df22)\" d=\"M 99.076369 224.64 \nL 103.687939 224.64 \nL 103.687939 224.64 \nL 99.076369 224.64 \nz\n\" style=\"fill:#1f77b4;fill-opacity:0.75;stroke:#000000;stroke-linejoin:miter;stroke-width:0.461157;\"/>\n   </g>\n   <g id=\"patch_78\">\n    <path clip-path=\"url(#pac1872df22)\" d=\"M 103.687939 224.64 \nL 108.299509 224.64 \nL 108.299509 224.64 \nL 103.687939 224.64 \nz\n\" style=\"fill:#1f77b4;fill-opacity:0.75;stroke:#000000;stroke-linejoin:miter;stroke-width:0.461157;\"/>\n   </g>\n   <g id=\"patch_79\">\n    <path clip-path=\"url(#pac1872df22)\" d=\"M 108.299509 224.64 \nL 112.91108 224.64 \nL 112.91108 224.64 \nL 108.299509 224.64 \nz\n\" style=\"fill:#1f77b4;fill-opacity:0.75;stroke:#000000;stroke-linejoin:miter;stroke-width:0.461157;\"/>\n   </g>\n   <g id=\"patch_80\">\n    <path clip-path=\"url(#pac1872df22)\" d=\"M 112.91108 224.64 \nL 117.52265 224.64 \nL 117.52265 224.64 \nL 112.91108 224.64 \nz\n\" style=\"fill:#1f77b4;fill-opacity:0.75;stroke:#000000;stroke-linejoin:miter;stroke-width:0.461157;\"/>\n   </g>\n   <g id=\"patch_81\">\n    <path clip-path=\"url(#pac1872df22)\" d=\"M 117.52265 224.64 \nL 122.13422 224.64 \nL 122.13422 224.64 \nL 117.52265 224.64 \nz\n\" style=\"fill:#1f77b4;fill-opacity:0.75;stroke:#000000;stroke-linejoin:miter;stroke-width:0.461157;\"/>\n   </g>\n   <g id=\"patch_82\">\n    <path clip-path=\"url(#pac1872df22)\" d=\"M 122.13422 224.64 \nL 126.74579 224.64 \nL 126.74579 219.314939 \nL 122.13422 219.314939 \nz\n\" style=\"fill:#1f77b4;fill-opacity:0.75;stroke:#000000;stroke-linejoin:miter;stroke-width:0.461157;\"/>\n   </g>\n   <g id=\"patch_83\">\n    <path clip-path=\"url(#pac1872df22)\" d=\"M 126.74579 224.64 \nL 131.357361 224.64 \nL 131.357361 224.64 \nL 126.74579 224.64 \nz\n\" style=\"fill:#1f77b4;fill-opacity:0.75;stroke:#000000;stroke-linejoin:miter;stroke-width:0.461157;\"/>\n   </g>\n   <g id=\"patch_84\">\n    <path clip-path=\"url(#pac1872df22)\" d=\"M 131.357361 224.64 \nL 135.968931 224.64 \nL 135.968931 224.64 \nL 131.357361 224.64 \nz\n\" style=\"fill:#1f77b4;fill-opacity:0.75;stroke:#000000;stroke-linejoin:miter;stroke-width:0.461157;\"/>\n   </g>\n   <g id=\"patch_85\">\n    <path clip-path=\"url(#pac1872df22)\" d=\"M 135.968931 224.64 \nL 140.580501 224.64 \nL 140.580501 222.273306 \nL 135.968931 222.273306 \nz\n\" style=\"fill:#1f77b4;fill-opacity:0.75;stroke:#000000;stroke-linejoin:miter;stroke-width:0.461157;\"/>\n   </g>\n   <g id=\"patch_86\">\n    <path clip-path=\"url(#pac1872df22)\" d=\"M 140.580501 224.64 \nL 145.192071 224.64 \nL 145.192071 224.64 \nL 140.580501 224.64 \nz\n\" style=\"fill:#1f77b4;fill-opacity:0.75;stroke:#000000;stroke-linejoin:miter;stroke-width:0.461157;\"/>\n   </g>\n   <g id=\"patch_87\">\n    <path clip-path=\"url(#pac1872df22)\" d=\"M 145.192071 224.64 \nL 149.803642 224.64 \nL 149.803642 224.64 \nL 145.192071 224.64 \nz\n\" style=\"fill:#1f77b4;fill-opacity:0.75;stroke:#000000;stroke-linejoin:miter;stroke-width:0.461157;\"/>\n   </g>\n   <g id=\"patch_88\">\n    <path clip-path=\"url(#pac1872df22)\" d=\"M 149.803642 224.64 \nL 154.415212 224.64 \nL 154.415212 219.906612 \nL 149.803642 219.906612 \nz\n\" style=\"fill:#1f77b4;fill-opacity:0.75;stroke:#000000;stroke-linejoin:miter;stroke-width:0.461157;\"/>\n   </g>\n   <g id=\"patch_89\">\n    <path clip-path=\"url(#pac1872df22)\" d=\"M 154.415212 224.64 \nL 159.026782 224.64 \nL 159.026782 224.64 \nL 154.415212 224.64 \nz\n\" style=\"fill:#1f77b4;fill-opacity:0.75;stroke:#000000;stroke-linejoin:miter;stroke-width:0.461157;\"/>\n   </g>\n   <g id=\"patch_90\">\n    <path clip-path=\"url(#pac1872df22)\" d=\"M 159.026782 224.64 \nL 163.638352 224.64 \nL 163.638352 224.64 \nL 159.026782 224.64 \nz\n\" style=\"fill:#1f77b4;fill-opacity:0.75;stroke:#000000;stroke-linejoin:miter;stroke-width:0.461157;\"/>\n   </g>\n   <g id=\"patch_91\">\n    <path clip-path=\"url(#pac1872df22)\" d=\"M 163.638352 224.64 \nL 168.249923 224.64 \nL 168.249923 224.64 \nL 163.638352 224.64 \nz\n\" style=\"fill:#1f77b4;fill-opacity:0.75;stroke:#000000;stroke-linejoin:miter;stroke-width:0.461157;\"/>\n   </g>\n   <g id=\"patch_92\">\n    <path clip-path=\"url(#pac1872df22)\" d=\"M 168.249923 224.64 \nL 172.861493 224.64 \nL 172.861493 217.539918 \nL 168.249923 217.539918 \nz\n\" style=\"fill:#1f77b4;fill-opacity:0.75;stroke:#000000;stroke-linejoin:miter;stroke-width:0.461157;\"/>\n   </g>\n   <g id=\"patch_93\">\n    <path clip-path=\"url(#pac1872df22)\" d=\"M 172.861493 224.64 \nL 177.473063 224.64 \nL 177.473063 224.64 \nL 172.861493 224.64 \nz\n\" style=\"fill:#1f77b4;fill-opacity:0.75;stroke:#000000;stroke-linejoin:miter;stroke-width:0.461157;\"/>\n   </g>\n   <g id=\"patch_94\">\n    <path clip-path=\"url(#pac1872df22)\" d=\"M 177.473063 224.64 \nL 182.084633 224.64 \nL 182.084633 224.64 \nL 177.473063 224.64 \nz\n\" style=\"fill:#1f77b4;fill-opacity:0.75;stroke:#000000;stroke-linejoin:miter;stroke-width:0.461157;\"/>\n   </g>\n   <g id=\"patch_95\">\n    <path clip-path=\"url(#pac1872df22)\" d=\"M 182.084633 224.64 \nL 186.696204 224.64 \nL 186.696204 206.889796 \nL 182.084633 206.889796 \nz\n\" style=\"fill:#1f77b4;fill-opacity:0.75;stroke:#000000;stroke-linejoin:miter;stroke-width:0.461157;\"/>\n   </g>\n   <g id=\"patch_96\">\n    <path clip-path=\"url(#pac1872df22)\" d=\"M 186.696204 224.64 \nL 191.307774 224.64 \nL 191.307774 224.048327 \nL 186.696204 224.048327 \nz\n\" style=\"fill:#1f77b4;fill-opacity:0.75;stroke:#000000;stroke-linejoin:miter;stroke-width:0.461157;\"/>\n   </g>\n   <g id=\"patch_97\">\n    <path clip-path=\"url(#pac1872df22)\" d=\"M 191.307774 224.64 \nL 195.919344 224.64 \nL 195.919344 224.64 \nL 191.307774 224.64 \nz\n\" style=\"fill:#1f77b4;fill-opacity:0.75;stroke:#000000;stroke-linejoin:miter;stroke-width:0.461157;\"/>\n   </g>\n   <g id=\"patch_98\">\n    <path clip-path=\"url(#pac1872df22)\" d=\"M 195.919344 224.64 \nL 200.530914 224.64 \nL 200.530914 222.273306 \nL 195.919344 222.273306 \nz\n\" style=\"fill:#1f77b4;fill-opacity:0.75;stroke:#000000;stroke-linejoin:miter;stroke-width:0.461157;\"/>\n   </g>\n   <g id=\"patch_99\">\n    <path clip-path=\"url(#pac1872df22)\" d=\"M 200.530914 224.64 \nL 205.142485 224.64 \nL 205.142485 224.64 \nL 200.530914 224.64 \nz\n\" style=\"fill:#1f77b4;fill-opacity:0.75;stroke:#000000;stroke-linejoin:miter;stroke-width:0.461157;\"/>\n   </g>\n   <g id=\"patch_100\">\n    <path clip-path=\"url(#pac1872df22)\" d=\"M 205.142485 224.64 \nL 209.754055 224.64 \nL 209.754055 224.64 \nL 205.142485 224.64 \nz\n\" style=\"fill:#1f77b4;fill-opacity:0.75;stroke:#000000;stroke-linejoin:miter;stroke-width:0.461157;\"/>\n   </g>\n   <g id=\"patch_101\">\n    <path clip-path=\"url(#pac1872df22)\" d=\"M 209.754055 224.64 \nL 214.365625 224.64 \nL 214.365625 224.64 \nL 209.754055 224.64 \nz\n\" style=\"fill:#1f77b4;fill-opacity:0.75;stroke:#000000;stroke-linejoin:miter;stroke-width:0.461157;\"/>\n   </g>\n   <g id=\"patch_102\">\n    <path clip-path=\"url(#pac1872df22)\" d=\"M 214.365625 224.64 \nL 218.977195 224.64 \nL 218.977195 209.848163 \nL 214.365625 209.848163 \nz\n\" style=\"fill:#1f77b4;fill-opacity:0.75;stroke:#000000;stroke-linejoin:miter;stroke-width:0.461157;\"/>\n   </g>\n   <g id=\"patch_103\">\n    <path clip-path=\"url(#pac1872df22)\" d=\"M 218.977195 224.64 \nL 223.588765 224.64 \nL 223.588765 224.64 \nL 218.977195 224.64 \nz\n\" style=\"fill:#1f77b4;fill-opacity:0.75;stroke:#000000;stroke-linejoin:miter;stroke-width:0.461157;\"/>\n   </g>\n   <g id=\"patch_104\">\n    <path clip-path=\"url(#pac1872df22)\" d=\"M 223.588765 224.64 \nL 228.200336 224.64 \nL 228.200336 224.64 \nL 223.588765 224.64 \nz\n\" style=\"fill:#1f77b4;fill-opacity:0.75;stroke:#000000;stroke-linejoin:miter;stroke-width:0.461157;\"/>\n   </g>\n   <g id=\"patch_105\">\n    <path clip-path=\"url(#pac1872df22)\" d=\"M 228.200336 224.64 \nL 232.811906 224.64 \nL 232.811906 206.298122 \nL 228.200336 206.298122 \nz\n\" style=\"fill:#1f77b4;fill-opacity:0.75;stroke:#000000;stroke-linejoin:miter;stroke-width:0.461157;\"/>\n   </g>\n   <g id=\"patch_106\">\n    <path clip-path=\"url(#pac1872df22)\" d=\"M 232.811906 224.64 \nL 237.423476 224.64 \nL 237.423476 224.048327 \nL 232.811906 224.048327 \nz\n\" style=\"fill:#1f77b4;fill-opacity:0.75;stroke:#000000;stroke-linejoin:miter;stroke-width:0.461157;\"/>\n   </g>\n   <g id=\"patch_107\">\n    <path clip-path=\"url(#pac1872df22)\" d=\"M 237.423476 224.64 \nL 242.035046 224.64 \nL 242.035046 224.048327 \nL 237.423476 224.048327 \nz\n\" style=\"fill:#1f77b4;fill-opacity:0.75;stroke:#000000;stroke-linejoin:miter;stroke-width:0.461157;\"/>\n   </g>\n   <g id=\"patch_108\">\n    <path clip-path=\"url(#pac1872df22)\" d=\"M 242.035046 224.64 \nL 246.646617 224.64 \nL 246.646617 194.464653 \nL 242.035046 194.464653 \nz\n\" style=\"fill:#1f77b4;fill-opacity:0.75;stroke:#000000;stroke-linejoin:miter;stroke-width:0.461157;\"/>\n   </g>\n   <g id=\"patch_109\">\n    <path clip-path=\"url(#pac1872df22)\" d=\"M 246.646617 224.64 \nL 251.258187 224.64 \nL 251.258187 224.64 \nL 246.646617 224.64 \nz\n\" style=\"fill:#1f77b4;fill-opacity:0.75;stroke:#000000;stroke-linejoin:miter;stroke-width:0.461157;\"/>\n   </g>\n   <g id=\"patch_110\">\n    <path clip-path=\"url(#pac1872df22)\" d=\"M 251.258187 224.64 \nL 255.869757 224.64 \nL 255.869757 224.048327 \nL 251.258187 224.048327 \nz\n\" style=\"fill:#1f77b4;fill-opacity:0.75;stroke:#000000;stroke-linejoin:miter;stroke-width:0.461157;\"/>\n   </g>\n   <g id=\"patch_111\">\n    <path clip-path=\"url(#pac1872df22)\" d=\"M 255.869757 224.64 \nL 260.481327 224.64 \nL 260.481327 192.689633 \nL 255.869757 192.689633 \nz\n\" style=\"fill:#1f77b4;fill-opacity:0.75;stroke:#000000;stroke-linejoin:miter;stroke-width:0.461157;\"/>\n   </g>\n   <g id=\"patch_112\">\n    <path clip-path=\"url(#pac1872df22)\" d=\"M 260.481327 224.64 \nL 265.092898 224.64 \nL 265.092898 224.64 \nL 260.481327 224.64 \nz\n\" style=\"fill:#1f77b4;fill-opacity:0.75;stroke:#000000;stroke-linejoin:miter;stroke-width:0.461157;\"/>\n   </g>\n   <g id=\"patch_113\">\n    <path clip-path=\"url(#pac1872df22)\" d=\"M 265.092898 224.64 \nL 269.704468 224.64 \nL 269.704468 224.048327 \nL 265.092898 224.048327 \nz\n\" style=\"fill:#1f77b4;fill-opacity:0.75;stroke:#000000;stroke-linejoin:miter;stroke-width:0.461157;\"/>\n   </g>\n   <g id=\"patch_114\">\n    <path clip-path=\"url(#pac1872df22)\" d=\"M 269.704468 224.64 \nL 274.316038 224.64 \nL 274.316038 224.64 \nL 269.704468 224.64 \nz\n\" style=\"fill:#1f77b4;fill-opacity:0.75;stroke:#000000;stroke-linejoin:miter;stroke-width:0.461157;\"/>\n   </g>\n   <g id=\"patch_115\">\n    <path clip-path=\"url(#pac1872df22)\" d=\"M 274.316038 224.64 \nL 278.927608 224.64 \nL 278.927608 165.472653 \nL 274.316038 165.472653 \nz\n\" style=\"fill:#1f77b4;fill-opacity:0.75;stroke:#000000;stroke-linejoin:miter;stroke-width:0.461157;\"/>\n   </g>\n   <g id=\"patch_116\">\n    <path clip-path=\"url(#pac1872df22)\" d=\"M 278.927608 224.64 \nL 283.539179 224.64 \nL 283.539179 224.64 \nL 278.927608 224.64 \nz\n\" style=\"fill:#1f77b4;fill-opacity:0.75;stroke:#000000;stroke-linejoin:miter;stroke-width:0.461157;\"/>\n   </g>\n   <g id=\"patch_117\">\n    <path clip-path=\"url(#pac1872df22)\" d=\"M 283.539179 224.64 \nL 288.150749 224.64 \nL 288.150749 224.64 \nL 283.539179 224.64 \nz\n\" style=\"fill:#1f77b4;fill-opacity:0.75;stroke:#000000;stroke-linejoin:miter;stroke-width:0.461157;\"/>\n   </g>\n   <g id=\"patch_118\">\n    <path clip-path=\"url(#pac1872df22)\" d=\"M 288.150749 224.64 \nL 292.762319 224.64 \nL 292.762319 150.089143 \nL 288.150749 150.089143 \nz\n\" style=\"fill:#1f77b4;fill-opacity:0.75;stroke:#000000;stroke-linejoin:miter;stroke-width:0.461157;\"/>\n   </g>\n   <g id=\"patch_119\">\n    <path clip-path=\"url(#pac1872df22)\" d=\"M 292.762319 224.64 \nL 297.373889 224.64 \nL 297.373889 224.048327 \nL 292.762319 224.048327 \nz\n\" style=\"fill:#1f77b4;fill-opacity:0.75;stroke:#000000;stroke-linejoin:miter;stroke-width:0.461157;\"/>\n   </g>\n   <g id=\"patch_120\">\n    <path clip-path=\"url(#pac1872df22)\" d=\"M 297.373889 224.64 \nL 301.98546 224.64 \nL 301.98546 224.64 \nL 297.373889 224.64 \nz\n\" style=\"fill:#1f77b4;fill-opacity:0.75;stroke:#000000;stroke-linejoin:miter;stroke-width:0.461157;\"/>\n   </g>\n   <g id=\"patch_121\">\n    <path clip-path=\"url(#pac1872df22)\" d=\"M 301.98546 224.64 \nL 306.59703 224.64 \nL 306.59703 142.397388 \nL 301.98546 142.397388 \nz\n\" style=\"fill:#1f77b4;fill-opacity:0.75;stroke:#000000;stroke-linejoin:miter;stroke-width:0.461157;\"/>\n   </g>\n   <g id=\"patch_122\">\n    <path clip-path=\"url(#pac1872df22)\" d=\"M 306.59703 224.64 \nL 311.2086 224.64 \nL 311.2086 224.64 \nL 306.59703 224.64 \nz\n\" style=\"fill:#1f77b4;fill-opacity:0.75;stroke:#000000;stroke-linejoin:miter;stroke-width:0.461157;\"/>\n   </g>\n   <g id=\"patch_123\">\n    <path clip-path=\"url(#pac1872df22)\" d=\"M 311.2086 224.64 \nL 315.82017 224.64 \nL 315.82017 223.456653 \nL 311.2086 223.456653 \nz\n\" style=\"fill:#1f77b4;fill-opacity:0.75;stroke:#000000;stroke-linejoin:miter;stroke-width:0.461157;\"/>\n   </g>\n   <g id=\"patch_124\">\n    <path clip-path=\"url(#pac1872df22)\" d=\"M 315.82017 224.64 \nL 320.431741 224.64 \nL 320.431741 224.64 \nL 315.82017 224.64 \nz\n\" style=\"fill:#1f77b4;fill-opacity:0.75;stroke:#000000;stroke-linejoin:miter;stroke-width:0.461157;\"/>\n   </g>\n   <g id=\"patch_125\">\n    <path clip-path=\"url(#pac1872df22)\" d=\"M 320.431741 224.64 \nL 325.043311 224.64 \nL 325.043311 189.731265 \nL 320.431741 189.731265 \nz\n\" style=\"fill:#1f77b4;fill-opacity:0.75;stroke:#000000;stroke-linejoin:miter;stroke-width:0.461157;\"/>\n   </g>\n   <g id=\"patch_126\">\n    <path clip-path=\"url(#pac1872df22)\" d=\"M 325.043311 224.64 \nL 329.654881 224.64 \nL 329.654881 224.64 \nL 325.043311 224.64 \nz\n\" style=\"fill:#1f77b4;fill-opacity:0.75;stroke:#000000;stroke-linejoin:miter;stroke-width:0.461157;\"/>\n   </g>\n   <g id=\"patch_127\">\n    <path clip-path=\"url(#pac1872df22)\" d=\"M 329.654881 224.64 \nL 334.266451 224.64 \nL 334.266451 224.64 \nL 329.654881 224.64 \nz\n\" style=\"fill:#1f77b4;fill-opacity:0.75;stroke:#000000;stroke-linejoin:miter;stroke-width:0.461157;\"/>\n   </g>\n   <g id=\"patch_128\">\n    <path clip-path=\"url(#pac1872df22)\" d=\"M 334.266451 224.64 \nL 338.878022 224.64 \nL 338.878022 198.606367 \nL 334.266451 198.606367 \nz\n\" style=\"fill:#1f77b4;fill-opacity:0.75;stroke:#000000;stroke-linejoin:miter;stroke-width:0.461157;\"/>\n   </g>\n   <g id=\"patch_129\">\n    <path clip-path=\"url(#pac1872df22)\" d=\"M 338.878022 224.64 \nL 343.489592 224.64 \nL 343.489592 224.64 \nL 338.878022 224.64 \nz\n\" style=\"fill:#1f77b4;fill-opacity:0.75;stroke:#000000;stroke-linejoin:miter;stroke-width:0.461157;\"/>\n   </g>\n   <g id=\"patch_130\">\n    <path clip-path=\"url(#pac1872df22)\" d=\"M 343.489592 224.64 \nL 348.101162 224.64 \nL 348.101162 224.64 \nL 343.489592 224.64 \nz\n\" style=\"fill:#1f77b4;fill-opacity:0.75;stroke:#000000;stroke-linejoin:miter;stroke-width:0.461157;\"/>\n   </g>\n   <g id=\"patch_131\">\n    <path clip-path=\"url(#pac1872df22)\" d=\"M 348.101162 224.64 \nL 352.712732 224.64 \nL 352.712732 213.989878 \nL 348.101162 213.989878 \nz\n\" style=\"fill:#1f77b4;fill-opacity:0.75;stroke:#000000;stroke-linejoin:miter;stroke-width:0.461157;\"/>\n   </g>\n   <g id=\"patch_132\">\n    <path clip-path=\"url(#pac1872df22)\" d=\"M 352.712732 224.64 \nL 357.324303 224.64 \nL 357.324303 224.64 \nL 352.712732 224.64 \nz\n\" style=\"fill:#1f77b4;fill-opacity:0.75;stroke:#000000;stroke-linejoin:miter;stroke-width:0.461157;\"/>\n   </g>\n   <g id=\"patch_133\">\n    <path clip-path=\"url(#pac1872df22)\" d=\"M 357.324303 224.64 \nL 361.935873 224.64 \nL 361.935873 224.64 \nL 357.324303 224.64 \nz\n\" style=\"fill:#1f77b4;fill-opacity:0.75;stroke:#000000;stroke-linejoin:miter;stroke-width:0.461157;\"/>\n   </g>\n   <g id=\"patch_134\">\n    <path clip-path=\"url(#pac1872df22)\" d=\"M 361.935873 224.64 \nL 366.547443 224.64 \nL 366.547443 156.005878 \nL 361.935873 156.005878 \nz\n\" style=\"fill:#1f77b4;fill-opacity:0.75;stroke:#000000;stroke-linejoin:miter;stroke-width:0.461157;\"/>\n   </g>\n   <g id=\"matplotlib.axis_1\">\n    <g id=\"xtick_1\">\n     <g id=\"line2d_1\">\n      <defs>\n       <path d=\"M 0 0 \nL 0 3.5 \n\" id=\"mb5c1a22d13\" style=\"stroke:#000000;stroke-width:0.8;\"/>\n      </defs>\n      <g>\n       <use style=\"stroke:#000000;stroke-width:0.8;\" x=\"62.183807\" xlink:href=\"#mb5c1a22d13\" y=\"224.64\"/>\n      </g>\n     </g>\n     <g id=\"text_1\">\n      <!-- 0 -->\n      <defs>\n       <path d=\"M 31.78125 66.40625 \nQ 24.171875 66.40625 20.328125 58.90625 \nQ 16.5 51.421875 16.5 36.375 \nQ 16.5 21.390625 20.328125 13.890625 \nQ 24.171875 6.390625 31.78125 6.390625 \nQ 39.453125 6.390625 43.28125 13.890625 \nQ 47.125 21.390625 47.125 36.375 \nQ 47.125 51.421875 43.28125 58.90625 \nQ 39.453125 66.40625 31.78125 66.40625 \nz\nM 31.78125 74.21875 \nQ 44.046875 74.21875 50.515625 64.515625 \nQ 56.984375 54.828125 56.984375 36.375 \nQ 56.984375 17.96875 50.515625 8.265625 \nQ 44.046875 -1.421875 31.78125 -1.421875 \nQ 19.53125 -1.421875 13.0625 8.265625 \nQ 6.59375 17.96875 6.59375 36.375 \nQ 6.59375 54.828125 13.0625 64.515625 \nQ 19.53125 74.21875 31.78125 74.21875 \nz\n\" id=\"DejaVuSans-48\"/>\n      </defs>\n      <g transform=\"translate(59.002557 239.238437)scale(0.1 -0.1)\">\n       <use xlink:href=\"#DejaVuSans-48\"/>\n      </g>\n     </g>\n    </g>\n    <g id=\"xtick_2\">\n     <g id=\"line2d_2\">\n      <g>\n       <use style=\"stroke:#000000;stroke-width:0.8;\" x=\"123.056534\" xlink:href=\"#mb5c1a22d13\" y=\"224.64\"/>\n      </g>\n     </g>\n     <g id=\"text_2\">\n      <!-- 1 -->\n      <defs>\n       <path d=\"M 12.40625 8.296875 \nL 28.515625 8.296875 \nL 28.515625 63.921875 \nL 10.984375 60.40625 \nL 10.984375 69.390625 \nL 28.421875 72.90625 \nL 38.28125 72.90625 \nL 38.28125 8.296875 \nL 54.390625 8.296875 \nL 54.390625 0 \nL 12.40625 0 \nz\n\" id=\"DejaVuSans-49\"/>\n      </defs>\n      <g transform=\"translate(119.875284 239.238437)scale(0.1 -0.1)\">\n       <use xlink:href=\"#DejaVuSans-49\"/>\n      </g>\n     </g>\n    </g>\n    <g id=\"xtick_3\">\n     <g id=\"line2d_3\">\n      <g>\n       <use style=\"stroke:#000000;stroke-width:0.8;\" x=\"183.929261\" xlink:href=\"#mb5c1a22d13\" y=\"224.64\"/>\n      </g>\n     </g>\n     <g id=\"text_3\">\n      <!-- 2 -->\n      <defs>\n       <path d=\"M 19.1875 8.296875 \nL 53.609375 8.296875 \nL 53.609375 0 \nL 7.328125 0 \nL 7.328125 8.296875 \nQ 12.9375 14.109375 22.625 23.890625 \nQ 32.328125 33.6875 34.8125 36.53125 \nQ 39.546875 41.84375 41.421875 45.53125 \nQ 43.3125 49.21875 43.3125 52.78125 \nQ 43.3125 58.59375 39.234375 62.25 \nQ 35.15625 65.921875 28.609375 65.921875 \nQ 23.96875 65.921875 18.8125 64.3125 \nQ 13.671875 62.703125 7.8125 59.421875 \nL 7.8125 69.390625 \nQ 13.765625 71.78125 18.9375 73 \nQ 24.125 74.21875 28.421875 74.21875 \nQ 39.75 74.21875 46.484375 68.546875 \nQ 53.21875 62.890625 53.21875 53.421875 \nQ 53.21875 48.921875 51.53125 44.890625 \nQ 49.859375 40.875 45.40625 35.40625 \nQ 44.1875 33.984375 37.640625 27.21875 \nQ 31.109375 20.453125 19.1875 8.296875 \nz\n\" id=\"DejaVuSans-50\"/>\n      </defs>\n      <g transform=\"translate(180.748011 239.238437)scale(0.1 -0.1)\">\n       <use xlink:href=\"#DejaVuSans-50\"/>\n      </g>\n     </g>\n    </g>\n    <g id=\"xtick_4\">\n     <g id=\"line2d_4\">\n      <g>\n       <use style=\"stroke:#000000;stroke-width:0.8;\" x=\"244.801989\" xlink:href=\"#mb5c1a22d13\" y=\"224.64\"/>\n      </g>\n     </g>\n     <g id=\"text_4\">\n      <!-- 3 -->\n      <defs>\n       <path d=\"M 40.578125 39.3125 \nQ 47.65625 37.796875 51.625 33 \nQ 55.609375 28.21875 55.609375 21.1875 \nQ 55.609375 10.40625 48.1875 4.484375 \nQ 40.765625 -1.421875 27.09375 -1.421875 \nQ 22.515625 -1.421875 17.65625 -0.515625 \nQ 12.796875 0.390625 7.625 2.203125 \nL 7.625 11.71875 \nQ 11.71875 9.328125 16.59375 8.109375 \nQ 21.484375 6.890625 26.8125 6.890625 \nQ 36.078125 6.890625 40.9375 10.546875 \nQ 45.796875 14.203125 45.796875 21.1875 \nQ 45.796875 27.640625 41.28125 31.265625 \nQ 36.765625 34.90625 28.71875 34.90625 \nL 20.21875 34.90625 \nL 20.21875 43.015625 \nL 29.109375 43.015625 \nQ 36.375 43.015625 40.234375 45.921875 \nQ 44.09375 48.828125 44.09375 54.296875 \nQ 44.09375 59.90625 40.109375 62.90625 \nQ 36.140625 65.921875 28.71875 65.921875 \nQ 24.65625 65.921875 20.015625 65.03125 \nQ 15.375 64.15625 9.8125 62.3125 \nL 9.8125 71.09375 \nQ 15.4375 72.65625 20.34375 73.4375 \nQ 25.25 74.21875 29.59375 74.21875 \nQ 40.828125 74.21875 47.359375 69.109375 \nQ 53.90625 64.015625 53.90625 55.328125 \nQ 53.90625 49.265625 50.4375 45.09375 \nQ 46.96875 40.921875 40.578125 39.3125 \nz\n\" id=\"DejaVuSans-51\"/>\n      </defs>\n      <g transform=\"translate(241.620739 239.238437)scale(0.1 -0.1)\">\n       <use xlink:href=\"#DejaVuSans-51\"/>\n      </g>\n     </g>\n    </g>\n    <g id=\"xtick_5\">\n     <g id=\"line2d_5\">\n      <g>\n       <use style=\"stroke:#000000;stroke-width:0.8;\" x=\"305.674716\" xlink:href=\"#mb5c1a22d13\" y=\"224.64\"/>\n      </g>\n     </g>\n     <g id=\"text_5\">\n      <!-- 4 -->\n      <defs>\n       <path d=\"M 37.796875 64.3125 \nL 12.890625 25.390625 \nL 37.796875 25.390625 \nz\nM 35.203125 72.90625 \nL 47.609375 72.90625 \nL 47.609375 25.390625 \nL 58.015625 25.390625 \nL 58.015625 17.1875 \nL 47.609375 17.1875 \nL 47.609375 0 \nL 37.796875 0 \nL 37.796875 17.1875 \nL 4.890625 17.1875 \nL 4.890625 26.703125 \nz\n\" id=\"DejaVuSans-52\"/>\n      </defs>\n      <g transform=\"translate(302.493466 239.238437)scale(0.1 -0.1)\">\n       <use xlink:href=\"#DejaVuSans-52\"/>\n      </g>\n     </g>\n    </g>\n    <g id=\"xtick_6\">\n     <g id=\"line2d_6\">\n      <g>\n       <use style=\"stroke:#000000;stroke-width:0.8;\" x=\"366.547443\" xlink:href=\"#mb5c1a22d13\" y=\"224.64\"/>\n      </g>\n     </g>\n     <g id=\"text_6\">\n      <!-- 5 -->\n      <defs>\n       <path d=\"M 10.796875 72.90625 \nL 49.515625 72.90625 \nL 49.515625 64.59375 \nL 19.828125 64.59375 \nL 19.828125 46.734375 \nQ 21.96875 47.46875 24.109375 47.828125 \nQ 26.265625 48.1875 28.421875 48.1875 \nQ 40.625 48.1875 47.75 41.5 \nQ 54.890625 34.8125 54.890625 23.390625 \nQ 54.890625 11.625 47.5625 5.09375 \nQ 40.234375 -1.421875 26.90625 -1.421875 \nQ 22.3125 -1.421875 17.546875 -0.640625 \nQ 12.796875 0.140625 7.71875 1.703125 \nL 7.71875 11.625 \nQ 12.109375 9.234375 16.796875 8.0625 \nQ 21.484375 6.890625 26.703125 6.890625 \nQ 35.15625 6.890625 40.078125 11.328125 \nQ 45.015625 15.765625 45.015625 23.390625 \nQ 45.015625 31 40.078125 35.4375 \nQ 35.15625 39.890625 26.703125 39.890625 \nQ 22.75 39.890625 18.8125 39.015625 \nQ 14.890625 38.140625 10.796875 36.28125 \nz\n\" id=\"DejaVuSans-53\"/>\n      </defs>\n      <g transform=\"translate(363.366193 239.238437)scale(0.1 -0.1)\">\n       <use xlink:href=\"#DejaVuSans-53\"/>\n      </g>\n     </g>\n    </g>\n   </g>\n   <g id=\"matplotlib.axis_2\">\n    <g id=\"ytick_1\">\n     <g id=\"line2d_7\">\n      <defs>\n       <path d=\"M 0 0 \nL -3.5 0 \n\" id=\"m05de952ba7\" style=\"stroke:#000000;stroke-width:0.8;\"/>\n      </defs>\n      <g>\n       <use style=\"stroke:#000000;stroke-width:0.8;\" x=\"46.965625\" xlink:href=\"#m05de952ba7\" y=\"224.64\"/>\n      </g>\n     </g>\n     <g id=\"text_7\">\n      <!-- 0 -->\n      <g transform=\"translate(33.603125 228.439219)scale(0.1 -0.1)\">\n       <use xlink:href=\"#DejaVuSans-48\"/>\n      </g>\n     </g>\n    </g>\n    <g id=\"ytick_2\">\n     <g id=\"line2d_8\">\n      <g>\n       <use style=\"stroke:#000000;stroke-width:0.8;\" x=\"46.965625\" xlink:href=\"#m05de952ba7\" y=\"195.056327\"/>\n      </g>\n     </g>\n     <g id=\"text_8\">\n      <!-- 50 -->\n      <g transform=\"translate(27.240625 198.855545)scale(0.1 -0.1)\">\n       <use xlink:href=\"#DejaVuSans-53\"/>\n       <use x=\"63.623047\" xlink:href=\"#DejaVuSans-48\"/>\n      </g>\n     </g>\n    </g>\n    <g id=\"ytick_3\">\n     <g id=\"line2d_9\">\n      <g>\n       <use style=\"stroke:#000000;stroke-width:0.8;\" x=\"46.965625\" xlink:href=\"#m05de952ba7\" y=\"165.472653\"/>\n      </g>\n     </g>\n     <g id=\"text_9\">\n      <!-- 100 -->\n      <g transform=\"translate(20.878125 169.271872)scale(0.1 -0.1)\">\n       <use xlink:href=\"#DejaVuSans-49\"/>\n       <use x=\"63.623047\" xlink:href=\"#DejaVuSans-48\"/>\n       <use x=\"127.246094\" xlink:href=\"#DejaVuSans-48\"/>\n      </g>\n     </g>\n    </g>\n    <g id=\"ytick_4\">\n     <g id=\"line2d_10\">\n      <g>\n       <use style=\"stroke:#000000;stroke-width:0.8;\" x=\"46.965625\" xlink:href=\"#m05de952ba7\" y=\"135.88898\"/>\n      </g>\n     </g>\n     <g id=\"text_10\">\n      <!-- 150 -->\n      <g transform=\"translate(20.878125 139.688198)scale(0.1 -0.1)\">\n       <use xlink:href=\"#DejaVuSans-49\"/>\n       <use x=\"63.623047\" xlink:href=\"#DejaVuSans-53\"/>\n       <use x=\"127.246094\" xlink:href=\"#DejaVuSans-48\"/>\n      </g>\n     </g>\n    </g>\n    <g id=\"ytick_5\">\n     <g id=\"line2d_11\">\n      <g>\n       <use style=\"stroke:#000000;stroke-width:0.8;\" x=\"46.965625\" xlink:href=\"#m05de952ba7\" y=\"106.305306\"/>\n      </g>\n     </g>\n     <g id=\"text_11\">\n      <!-- 200 -->\n      <g transform=\"translate(20.878125 110.104525)scale(0.1 -0.1)\">\n       <use xlink:href=\"#DejaVuSans-50\"/>\n       <use x=\"63.623047\" xlink:href=\"#DejaVuSans-48\"/>\n       <use x=\"127.246094\" xlink:href=\"#DejaVuSans-48\"/>\n      </g>\n     </g>\n    </g>\n    <g id=\"ytick_6\">\n     <g id=\"line2d_12\">\n      <g>\n       <use style=\"stroke:#000000;stroke-width:0.8;\" x=\"46.965625\" xlink:href=\"#m05de952ba7\" y=\"76.721633\"/>\n      </g>\n     </g>\n     <g id=\"text_12\">\n      <!-- 250 -->\n      <g transform=\"translate(20.878125 80.520851)scale(0.1 -0.1)\">\n       <use xlink:href=\"#DejaVuSans-50\"/>\n       <use x=\"63.623047\" xlink:href=\"#DejaVuSans-53\"/>\n       <use x=\"127.246094\" xlink:href=\"#DejaVuSans-48\"/>\n      </g>\n     </g>\n    </g>\n    <g id=\"ytick_7\">\n     <g id=\"line2d_13\">\n      <g>\n       <use style=\"stroke:#000000;stroke-width:0.8;\" x=\"46.965625\" xlink:href=\"#m05de952ba7\" y=\"47.137959\"/>\n      </g>\n     </g>\n     <g id=\"text_13\">\n      <!-- 300 -->\n      <g transform=\"translate(20.878125 50.937178)scale(0.1 -0.1)\">\n       <use xlink:href=\"#DejaVuSans-51\"/>\n       <use x=\"63.623047\" xlink:href=\"#DejaVuSans-48\"/>\n       <use x=\"127.246094\" xlink:href=\"#DejaVuSans-48\"/>\n      </g>\n     </g>\n    </g>\n    <g id=\"ytick_8\">\n     <g id=\"line2d_14\">\n      <g>\n       <use style=\"stroke:#000000;stroke-width:0.8;\" x=\"46.965625\" xlink:href=\"#m05de952ba7\" y=\"17.554286\"/>\n      </g>\n     </g>\n     <g id=\"text_14\">\n      <!-- 350 -->\n      <g transform=\"translate(20.878125 21.353504)scale(0.1 -0.1)\">\n       <use xlink:href=\"#DejaVuSans-51\"/>\n       <use x=\"63.623047\" xlink:href=\"#DejaVuSans-53\"/>\n       <use x=\"127.246094\" xlink:href=\"#DejaVuSans-48\"/>\n      </g>\n     </g>\n    </g>\n    <g id=\"text_15\">\n     <!-- Count -->\n     <defs>\n      <path d=\"M 64.40625 67.28125 \nL 64.40625 56.890625 \nQ 59.421875 61.53125 53.78125 63.8125 \nQ 48.140625 66.109375 41.796875 66.109375 \nQ 29.296875 66.109375 22.65625 58.46875 \nQ 16.015625 50.828125 16.015625 36.375 \nQ 16.015625 21.96875 22.65625 14.328125 \nQ 29.296875 6.6875 41.796875 6.6875 \nQ 48.140625 6.6875 53.78125 8.984375 \nQ 59.421875 11.28125 64.40625 15.921875 \nL 64.40625 5.609375 \nQ 59.234375 2.09375 53.4375 0.328125 \nQ 47.65625 -1.421875 41.21875 -1.421875 \nQ 24.65625 -1.421875 15.125 8.703125 \nQ 5.609375 18.84375 5.609375 36.375 \nQ 5.609375 53.953125 15.125 64.078125 \nQ 24.65625 74.21875 41.21875 74.21875 \nQ 47.75 74.21875 53.53125 72.484375 \nQ 59.328125 70.75 64.40625 67.28125 \nz\n\" id=\"DejaVuSans-67\"/>\n      <path d=\"M 30.609375 48.390625 \nQ 23.390625 48.390625 19.1875 42.75 \nQ 14.984375 37.109375 14.984375 27.296875 \nQ 14.984375 17.484375 19.15625 11.84375 \nQ 23.34375 6.203125 30.609375 6.203125 \nQ 37.796875 6.203125 41.984375 11.859375 \nQ 46.1875 17.53125 46.1875 27.296875 \nQ 46.1875 37.015625 41.984375 42.703125 \nQ 37.796875 48.390625 30.609375 48.390625 \nz\nM 30.609375 56 \nQ 42.328125 56 49.015625 48.375 \nQ 55.71875 40.765625 55.71875 27.296875 \nQ 55.71875 13.875 49.015625 6.21875 \nQ 42.328125 -1.421875 30.609375 -1.421875 \nQ 18.84375 -1.421875 12.171875 6.21875 \nQ 5.515625 13.875 5.515625 27.296875 \nQ 5.515625 40.765625 12.171875 48.375 \nQ 18.84375 56 30.609375 56 \nz\n\" id=\"DejaVuSans-111\"/>\n      <path d=\"M 8.5 21.578125 \nL 8.5 54.6875 \nL 17.484375 54.6875 \nL 17.484375 21.921875 \nQ 17.484375 14.15625 20.5 10.265625 \nQ 23.53125 6.390625 29.59375 6.390625 \nQ 36.859375 6.390625 41.078125 11.03125 \nQ 45.3125 15.671875 45.3125 23.6875 \nL 45.3125 54.6875 \nL 54.296875 54.6875 \nL 54.296875 0 \nL 45.3125 0 \nL 45.3125 8.40625 \nQ 42.046875 3.421875 37.71875 1 \nQ 33.40625 -1.421875 27.6875 -1.421875 \nQ 18.265625 -1.421875 13.375 4.4375 \nQ 8.5 10.296875 8.5 21.578125 \nz\nM 31.109375 56 \nz\n\" id=\"DejaVuSans-117\"/>\n      <path d=\"M 54.890625 33.015625 \nL 54.890625 0 \nL 45.90625 0 \nL 45.90625 32.71875 \nQ 45.90625 40.484375 42.875 44.328125 \nQ 39.84375 48.1875 33.796875 48.1875 \nQ 26.515625 48.1875 22.3125 43.546875 \nQ 18.109375 38.921875 18.109375 30.90625 \nL 18.109375 0 \nL 9.078125 0 \nL 9.078125 54.6875 \nL 18.109375 54.6875 \nL 18.109375 46.1875 \nQ 21.34375 51.125 25.703125 53.5625 \nQ 30.078125 56 35.796875 56 \nQ 45.21875 56 50.046875 50.171875 \nQ 54.890625 44.34375 54.890625 33.015625 \nz\n\" id=\"DejaVuSans-110\"/>\n      <path d=\"M 18.3125 70.21875 \nL 18.3125 54.6875 \nL 36.8125 54.6875 \nL 36.8125 47.703125 \nL 18.3125 47.703125 \nL 18.3125 18.015625 \nQ 18.3125 11.328125 20.140625 9.421875 \nQ 21.96875 7.515625 27.59375 7.515625 \nL 36.8125 7.515625 \nL 36.8125 0 \nL 27.59375 0 \nQ 17.1875 0 13.234375 3.875 \nQ 9.28125 7.765625 9.28125 18.015625 \nL 9.28125 47.703125 \nL 2.6875 47.703125 \nL 2.6875 54.6875 \nL 9.28125 54.6875 \nL 9.28125 70.21875 \nz\n\" id=\"DejaVuSans-116\"/>\n     </defs>\n     <g transform=\"translate(14.798438 130.768437)rotate(-90)scale(0.1 -0.1)\">\n      <use xlink:href=\"#DejaVuSans-67\"/>\n      <use x=\"69.824219\" xlink:href=\"#DejaVuSans-111\"/>\n      <use x=\"131.005859\" xlink:href=\"#DejaVuSans-117\"/>\n      <use x=\"194.384766\" xlink:href=\"#DejaVuSans-110\"/>\n      <use x=\"257.763672\" xlink:href=\"#DejaVuSans-116\"/>\n     </g>\n    </g>\n   </g>\n   <g id=\"patch_135\">\n    <path d=\"M 46.965625 224.64 \nL 46.965625 7.2 \n\" style=\"fill:none;stroke:#000000;stroke-linecap:square;stroke-linejoin:miter;stroke-width:0.8;\"/>\n   </g>\n   <g id=\"patch_136\">\n    <path d=\"M 381.765625 224.64 \nL 381.765625 7.2 \n\" style=\"fill:none;stroke:#000000;stroke-linecap:square;stroke-linejoin:miter;stroke-width:0.8;\"/>\n   </g>\n   <g id=\"patch_137\">\n    <path d=\"M 46.965625 224.64 \nL 381.765625 224.64 \n\" style=\"fill:none;stroke:#000000;stroke-linecap:square;stroke-linejoin:miter;stroke-width:0.8;\"/>\n   </g>\n   <g id=\"patch_138\">\n    <path d=\"M 46.965625 7.2 \nL 381.765625 7.2 \n\" style=\"fill:none;stroke:#000000;stroke-linecap:square;stroke-linejoin:miter;stroke-width:0.8;\"/>\n   </g>\n   <g id=\"legend_1\">\n    <g id=\"patch_139\">\n     <path d=\"M 317.048438 44.55625 \nL 374.765625 44.55625 \nQ 376.765625 44.55625 376.765625 42.55625 \nL 376.765625 14.2 \nQ 376.765625 12.2 374.765625 12.2 \nL 317.048438 12.2 \nQ 315.048438 12.2 315.048438 14.2 \nL 315.048438 42.55625 \nQ 315.048438 44.55625 317.048438 44.55625 \nz\n\" style=\"fill:#ffffff;opacity:0.8;stroke:#cccccc;stroke-linejoin:miter;\"/>\n    </g>\n    <g id=\"patch_140\">\n     <path d=\"M 319.048438 23.798437 \nL 339.048438 23.798437 \nL 339.048438 16.798437 \nL 319.048438 16.798437 \nz\n\" style=\"fill:#1f77b4;fill-opacity:0.75;stroke:#000000;stroke-linejoin:miter;\"/>\n    </g>\n    <g id=\"text_16\">\n     <!-- Stars -->\n     <defs>\n      <path d=\"M 53.515625 70.515625 \nL 53.515625 60.890625 \nQ 47.90625 63.578125 42.921875 64.890625 \nQ 37.9375 66.21875 33.296875 66.21875 \nQ 25.25 66.21875 20.875 63.09375 \nQ 16.5 59.96875 16.5 54.203125 \nQ 16.5 49.359375 19.40625 46.890625 \nQ 22.3125 44.4375 30.421875 42.921875 \nL 36.375 41.703125 \nQ 47.40625 39.59375 52.65625 34.296875 \nQ 57.90625 29 57.90625 20.125 \nQ 57.90625 9.515625 50.796875 4.046875 \nQ 43.703125 -1.421875 29.984375 -1.421875 \nQ 24.8125 -1.421875 18.96875 -0.25 \nQ 13.140625 0.921875 6.890625 3.21875 \nL 6.890625 13.375 \nQ 12.890625 10.015625 18.65625 8.296875 \nQ 24.421875 6.59375 29.984375 6.59375 \nQ 38.421875 6.59375 43.015625 9.90625 \nQ 47.609375 13.234375 47.609375 19.390625 \nQ 47.609375 24.75 44.3125 27.78125 \nQ 41.015625 30.8125 33.5 32.328125 \nL 27.484375 33.5 \nQ 16.453125 35.6875 11.515625 40.375 \nQ 6.59375 45.0625 6.59375 53.421875 \nQ 6.59375 63.09375 13.40625 68.65625 \nQ 20.21875 74.21875 32.171875 74.21875 \nQ 37.3125 74.21875 42.625 73.28125 \nQ 47.953125 72.359375 53.515625 70.515625 \nz\n\" id=\"DejaVuSans-83\"/>\n      <path d=\"M 34.28125 27.484375 \nQ 23.390625 27.484375 19.1875 25 \nQ 14.984375 22.515625 14.984375 16.5 \nQ 14.984375 11.71875 18.140625 8.90625 \nQ 21.296875 6.109375 26.703125 6.109375 \nQ 34.1875 6.109375 38.703125 11.40625 \nQ 43.21875 16.703125 43.21875 25.484375 \nL 43.21875 27.484375 \nz\nM 52.203125 31.203125 \nL 52.203125 0 \nL 43.21875 0 \nL 43.21875 8.296875 \nQ 40.140625 3.328125 35.546875 0.953125 \nQ 30.953125 -1.421875 24.3125 -1.421875 \nQ 15.921875 -1.421875 10.953125 3.296875 \nQ 6 8.015625 6 15.921875 \nQ 6 25.140625 12.171875 29.828125 \nQ 18.359375 34.515625 30.609375 34.515625 \nL 43.21875 34.515625 \nL 43.21875 35.40625 \nQ 43.21875 41.609375 39.140625 45 \nQ 35.0625 48.390625 27.6875 48.390625 \nQ 23 48.390625 18.546875 47.265625 \nQ 14.109375 46.140625 10.015625 43.890625 \nL 10.015625 52.203125 \nQ 14.9375 54.109375 19.578125 55.046875 \nQ 24.21875 56 28.609375 56 \nQ 40.484375 56 46.34375 49.84375 \nQ 52.203125 43.703125 52.203125 31.203125 \nz\n\" id=\"DejaVuSans-97\"/>\n      <path d=\"M 41.109375 46.296875 \nQ 39.59375 47.171875 37.8125 47.578125 \nQ 36.03125 48 33.890625 48 \nQ 26.265625 48 22.1875 43.046875 \nQ 18.109375 38.09375 18.109375 28.8125 \nL 18.109375 0 \nL 9.078125 0 \nL 9.078125 54.6875 \nL 18.109375 54.6875 \nL 18.109375 46.1875 \nQ 20.953125 51.171875 25.484375 53.578125 \nQ 30.03125 56 36.53125 56 \nQ 37.453125 56 38.578125 55.875 \nQ 39.703125 55.765625 41.0625 55.515625 \nz\n\" id=\"DejaVuSans-114\"/>\n      <path d=\"M 44.28125 53.078125 \nL 44.28125 44.578125 \nQ 40.484375 46.53125 36.375 47.5 \nQ 32.28125 48.484375 27.875 48.484375 \nQ 21.1875 48.484375 17.84375 46.4375 \nQ 14.5 44.390625 14.5 40.28125 \nQ 14.5 37.15625 16.890625 35.375 \nQ 19.28125 33.59375 26.515625 31.984375 \nL 29.59375 31.296875 \nQ 39.15625 29.25 43.1875 25.515625 \nQ 47.21875 21.78125 47.21875 15.09375 \nQ 47.21875 7.46875 41.1875 3.015625 \nQ 35.15625 -1.421875 24.609375 -1.421875 \nQ 20.21875 -1.421875 15.453125 -0.5625 \nQ 10.6875 0.296875 5.421875 2 \nL 5.421875 11.28125 \nQ 10.40625 8.6875 15.234375 7.390625 \nQ 20.0625 6.109375 24.8125 6.109375 \nQ 31.15625 6.109375 34.5625 8.28125 \nQ 37.984375 10.453125 37.984375 14.40625 \nQ 37.984375 18.0625 35.515625 20.015625 \nQ 33.0625 21.96875 24.703125 23.78125 \nL 21.578125 24.515625 \nQ 13.234375 26.265625 9.515625 29.90625 \nQ 5.8125 33.546875 5.8125 39.890625 \nQ 5.8125 47.609375 11.28125 51.796875 \nQ 16.75 56 26.8125 56 \nQ 31.78125 56 36.171875 55.265625 \nQ 40.578125 54.546875 44.28125 53.078125 \nz\n\" id=\"DejaVuSans-115\"/>\n     </defs>\n     <g transform=\"translate(347.048438 23.798437)scale(0.1 -0.1)\">\n      <use xlink:href=\"#DejaVuSans-83\"/>\n      <use x=\"63.476562\" xlink:href=\"#DejaVuSans-116\"/>\n      <use x=\"102.685547\" xlink:href=\"#DejaVuSans-97\"/>\n      <use x=\"163.964844\" xlink:href=\"#DejaVuSans-114\"/>\n      <use x=\"205.078125\" xlink:href=\"#DejaVuSans-115\"/>\n     </g>\n    </g>\n    <g id=\"patch_141\">\n     <path d=\"M 319.048438 38.476562 \nL 339.048438 38.476562 \nL 339.048438 31.476562 \nL 319.048438 31.476562 \nz\n\" style=\"fill:#ff7f0e;fill-opacity:0.75;stroke:#000000;stroke-linejoin:miter;\"/>\n    </g>\n    <g id=\"text_17\">\n     <!-- 1 -->\n     <g transform=\"translate(347.048438 38.476562)scale(0.1 -0.1)\">\n      <use xlink:href=\"#DejaVuSans-49\"/>\n     </g>\n    </g>\n   </g>\n  </g>\n </g>\n <defs>\n  <clipPath id=\"pac1872df22\">\n   <rect height=\"217.44\" width=\"334.8\" x=\"46.965625\" y=\"7.2\"/>\n  </clipPath>\n </defs>\n</svg>\n",
      "image/png": "[encoded data removed]"
     },
     "metadata": {
      "needs_background": "light"
     }
    }
   ],
   "source": [
    "sns.histplot([y_test,y_pred])"
   ]
  },
  {
   "cell_type": "code",
   "execution_count": null,
   "metadata": {},
   "outputs": [],
   "source": []
  }
 ]
}