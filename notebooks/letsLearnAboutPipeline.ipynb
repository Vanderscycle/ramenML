{
 "metadata": {
  "language_info": {
   "codemirror_mode": {
    "name": "ipython",
    "version": 3
   },
   "file_extension": ".py",
   "mimetype": "text/x-python",
   "name": "python",
   "nbconvert_exporter": "python",
   "pygments_lexer": "ipython3",
   "version": "3.8.5-final"
  },
  "orig_nbformat": 2,
  "kernelspec": {
   "name": "python3",
   "display_name": "Python 3",
   "language": "python"
  }
 },
 "nbformat": 4,
 "nbformat_minor": 2,
 "cells": [
  {
   "cell_type": "code",
   "execution_count": 39,
   "metadata": {},
   "outputs": [],
   "source": [
    "import pandas as pd\n",
    "import numpy as np\n",
    "# custom made functions (can be a pain to import sometimes)\n",
    "import sys\n",
    "sys.path.insert(0,os.path.abspath('../src/helper'))\n",
    "from customPandas import *\n",
    "#saving the model\n",
    "import pickle\n",
    "import random"
   ]
  },
  {
   "source": [
    "## Loading the data"
   ],
   "cell_type": "markdown",
   "metadata": {}
  },
  {
   "cell_type": "code",
   "execution_count": 40,
   "metadata": {},
   "outputs": [],
   "source": [
    "# https://stackoverflow.com/questions/39125532/file-does-not-exist-in-jupyter-notebook\n",
    "dataPath = os.path.abspath('../data')\n",
    "fileName = 'ramen-ratings.csv'\n",
    "df = pd.read_csv(f'{dataPath}/{fileName}') "
   ]
  },
  {
   "source": [
    "## Cleaning some of the data"
   ],
   "cell_type": "markdown",
   "metadata": {}
  },
  {
   "cell_type": "code",
   "execution_count": 41,
   "metadata": {},
   "outputs": [
    {
     "output_type": "execute_result",
     "data": {
      "text/plain": [
       "Series([], Name: Stars, dtype: object)"
      ]
     },
     "metadata": {},
     "execution_count": 41
    }
   ],
   "source": [
    "def cleanStars(value):\n",
    "    if value == 'Unrated':\n",
    "        return np.nan\n",
    "    else:\n",
    "        return value\n",
    "df.Stars = df.Stars.apply(cleanStars) \n",
    "df[df.Stars == 'Unrated'].Stars"
   ]
  },
  {
   "cell_type": "code",
   "execution_count": 42,
   "metadata": {},
   "outputs": [],
   "source": [
    "df = df.drop(['Review #','Top Ten'],axis=1)"
   ]
  },
  {
   "cell_type": "code",
   "execution_count": 43,
   "metadata": {},
   "outputs": [],
   "source": [
    "df = df.fillna(method='ffill')"
   ]
  },
  {
   "cell_type": "code",
   "execution_count": 44,
   "metadata": {},
   "outputs": [
    {
     "output_type": "execute_result",
     "data": {
      "text/plain": [
       "Empty DataFrame\n",
       "Columns: [Total, Percent]\n",
       "Index: []"
      ],
      "text/html": "<div>\n<style scoped>\n    .dataframe tbody tr th:only-of-type {\n        vertical-align: middle;\n    }\n\n    .dataframe tbody tr th {\n        vertical-align: top;\n    }\n\n    .dataframe thead th {\n        text-align: right;\n    }\n</style>\n<table border=\"1\" class=\"dataframe\">\n  <thead>\n    <tr style=\"text-align: right;\">\n      <th></th>\n      <th>Total</th>\n      <th>Percent</th>\n    </tr>\n  </thead>\n  <tbody>\n  </tbody>\n</table>\n</div>"
     },
     "metadata": {},
     "execution_count": 44
    }
   ],
   "source": [
    "totalPercentageNullData(df)"
   ]
  },
  {
   "cell_type": "code",
   "execution_count": 45,
   "metadata": {},
   "outputs": [],
   "source": [
    "# changing an incorrect dtype\n",
    "df = df.astype({'Stars':'float64'})"
   ]
  },
  {
   "cell_type": "code",
   "execution_count": 46,
   "metadata": {},
   "outputs": [
    {
     "output_type": "execute_result",
     "data": {
      "text/plain": [
       "             Stars\n",
       "count  2580.000000\n",
       "mean      3.654884\n",
       "std       1.014886\n",
       "min       0.000000\n",
       "25%       3.250000\n",
       "50%       3.750000\n",
       "75%       4.250000\n",
       "max       5.000000"
      ],
      "text/html": "<div>\n<style scoped>\n    .dataframe tbody tr th:only-of-type {\n        vertical-align: middle;\n    }\n\n    .dataframe tbody tr th {\n        vertical-align: top;\n    }\n\n    .dataframe thead th {\n        text-align: right;\n    }\n</style>\n<table border=\"1\" class=\"dataframe\">\n  <thead>\n    <tr style=\"text-align: right;\">\n      <th></th>\n      <th>Stars</th>\n    </tr>\n  </thead>\n  <tbody>\n    <tr>\n      <th>count</th>\n      <td>2580.000000</td>\n    </tr>\n    <tr>\n      <th>mean</th>\n      <td>3.654884</td>\n    </tr>\n    <tr>\n      <th>std</th>\n      <td>1.014886</td>\n    </tr>\n    <tr>\n      <th>min</th>\n      <td>0.000000</td>\n    </tr>\n    <tr>\n      <th>25%</th>\n      <td>3.250000</td>\n    </tr>\n    <tr>\n      <th>50%</th>\n      <td>3.750000</td>\n    </tr>\n    <tr>\n      <th>75%</th>\n      <td>4.250000</td>\n    </tr>\n    <tr>\n      <th>max</th>\n      <td>5.000000</td>\n    </tr>\n  </tbody>\n</table>\n</div>"
     },
     "metadata": {},
     "execution_count": 46
    }
   ],
   "source": [
    "df.describe()"
   ]
  },
  {
   "cell_type": "code",
   "execution_count": 47,
   "metadata": {},
   "outputs": [],
   "source": [
    "Y = df['Stars']\n",
    "df = df.drop(['Stars'],axis=1)"
   ]
  },
  {
   "cell_type": "code",
   "execution_count": 48,
   "metadata": {},
   "outputs": [
    {
     "output_type": "execute_result",
     "data": {
      "text/plain": [
       "         Brand                                Variety Style      Country\n",
       "47    Nongshim                      Shin Ramyun Black  Pack  South Korea\n",
       "76    Nongshim                            Shin Ramyun  Pack  South Korea\n",
       "1017  Nongshim  Shin Ramyun Noodle Soup (New Edition)  Pack          USA\n",
       "1393  Nongshim                        Shin Ramyun Cup   Cup  South Korea\n",
       "1536  Nongshim      Shin Ramyun Noodle Spicy Mushroom  Bowl        China\n",
       "1582  Nongshim           Shin Ramyun Black Spicy Beef   Cup  South Korea\n",
       "1829  Nongshim                Shin Ramyun Black Onion   Cup  South Korea\n",
       "1903  Nongshim                     Shin Ramyun Shrimp  Pack        China\n",
       "2002  Nongshim                      Shin Ramyun Black  Pack  South Korea\n",
       "2561  Nongshim                            Shin Ramyun  Pack  South Korea"
      ],
      "text/html": "<div>\n<style scoped>\n    .dataframe tbody tr th:only-of-type {\n        vertical-align: middle;\n    }\n\n    .dataframe tbody tr th {\n        vertical-align: top;\n    }\n\n    .dataframe thead th {\n        text-align: right;\n    }\n</style>\n<table border=\"1\" class=\"dataframe\">\n  <thead>\n    <tr style=\"text-align: right;\">\n      <th></th>\n      <th>Brand</th>\n      <th>Variety</th>\n      <th>Style</th>\n      <th>Country</th>\n    </tr>\n  </thead>\n  <tbody>\n    <tr>\n      <th>47</th>\n      <td>Nongshim</td>\n      <td>Shin Ramyun Black</td>\n      <td>Pack</td>\n      <td>South Korea</td>\n    </tr>\n    <tr>\n      <th>76</th>\n      <td>Nongshim</td>\n      <td>Shin Ramyun</td>\n      <td>Pack</td>\n      <td>South Korea</td>\n    </tr>\n    <tr>\n      <th>1017</th>\n      <td>Nongshim</td>\n      <td>Shin Ramyun Noodle Soup (New Edition)</td>\n      <td>Pack</td>\n      <td>USA</td>\n    </tr>\n    <tr>\n      <th>1393</th>\n      <td>Nongshim</td>\n      <td>Shin Ramyun Cup</td>\n      <td>Cup</td>\n      <td>South Korea</td>\n    </tr>\n    <tr>\n      <th>1536</th>\n      <td>Nongshim</td>\n      <td>Shin Ramyun Noodle Spicy Mushroom</td>\n      <td>Bowl</td>\n      <td>China</td>\n    </tr>\n    <tr>\n      <th>1582</th>\n      <td>Nongshim</td>\n      <td>Shin Ramyun Black Spicy Beef</td>\n      <td>Cup</td>\n      <td>South Korea</td>\n    </tr>\n    <tr>\n      <th>1829</th>\n      <td>Nongshim</td>\n      <td>Shin Ramyun Black Onion</td>\n      <td>Cup</td>\n      <td>South Korea</td>\n    </tr>\n    <tr>\n      <th>1903</th>\n      <td>Nongshim</td>\n      <td>Shin Ramyun Shrimp</td>\n      <td>Pack</td>\n      <td>China</td>\n    </tr>\n    <tr>\n      <th>2002</th>\n      <td>Nongshim</td>\n      <td>Shin Ramyun Black</td>\n      <td>Pack</td>\n      <td>South Korea</td>\n    </tr>\n    <tr>\n      <th>2561</th>\n      <td>Nongshim</td>\n      <td>Shin Ramyun</td>\n      <td>Pack</td>\n      <td>South Korea</td>\n    </tr>\n  </tbody>\n</table>\n</div>"
     },
     "metadata": {},
     "execution_count": 48
    }
   ],
   "source": [
    "df[df['Brand'].isin(['Nongshim']) & df['Variety'].str.contains('Shin Ramyun')]"
   ]
  },
  {
   "cell_type": "code",
   "execution_count": 49,
   "metadata": {},
   "outputs": [
    {
     "output_type": "execute_result",
     "data": {
      "text/plain": [
       "                  Variety  Style  Country\n",
       "Brand                                    \n",
       "1 To 3 Noodles          1      1        1\n",
       "7 Select                2      2        2\n",
       "7 Select/Nissin         1      1        1\n",
       "A-One                   4      4        4\n",
       "A-Sha Dry Noodle       26     26       26\n",
       "...                   ...    ...      ...\n",
       "Yum Yum                12     12       12\n",
       "Yum-Mie                 1      1        1\n",
       "Zow Zow                 1      1        1\n",
       "iMee                    4      4        4\n",
       "iNoodle                 2      2        2\n",
       "\n",
       "[355 rows x 3 columns]"
      ],
      "text/html": "<div>\n<style scoped>\n    .dataframe tbody tr th:only-of-type {\n        vertical-align: middle;\n    }\n\n    .dataframe tbody tr th {\n        vertical-align: top;\n    }\n\n    .dataframe thead th {\n        text-align: right;\n    }\n</style>\n<table border=\"1\" class=\"dataframe\">\n  <thead>\n    <tr style=\"text-align: right;\">\n      <th></th>\n      <th>Variety</th>\n      <th>Style</th>\n      <th>Country</th>\n    </tr>\n    <tr>\n      <th>Brand</th>\n      <th></th>\n      <th></th>\n      <th></th>\n    </tr>\n  </thead>\n  <tbody>\n    <tr>\n      <th>1 To 3 Noodles</th>\n      <td>1</td>\n      <td>1</td>\n      <td>1</td>\n    </tr>\n    <tr>\n      <th>7 Select</th>\n      <td>2</td>\n      <td>2</td>\n      <td>2</td>\n    </tr>\n    <tr>\n      <th>7 Select/Nissin</th>\n      <td>1</td>\n      <td>1</td>\n      <td>1</td>\n    </tr>\n    <tr>\n      <th>A-One</th>\n      <td>4</td>\n      <td>4</td>\n      <td>4</td>\n    </tr>\n    <tr>\n      <th>A-Sha Dry Noodle</th>\n      <td>26</td>\n      <td>26</td>\n      <td>26</td>\n    </tr>\n    <tr>\n      <th>...</th>\n      <td>...</td>\n      <td>...</td>\n      <td>...</td>\n    </tr>\n    <tr>\n      <th>Yum Yum</th>\n      <td>12</td>\n      <td>12</td>\n      <td>12</td>\n    </tr>\n    <tr>\n      <th>Yum-Mie</th>\n      <td>1</td>\n      <td>1</td>\n      <td>1</td>\n    </tr>\n    <tr>\n      <th>Zow Zow</th>\n      <td>1</td>\n      <td>1</td>\n      <td>1</td>\n    </tr>\n    <tr>\n      <th>iMee</th>\n      <td>4</td>\n      <td>4</td>\n      <td>4</td>\n    </tr>\n    <tr>\n      <th>iNoodle</th>\n      <td>2</td>\n      <td>2</td>\n      <td>2</td>\n    </tr>\n  </tbody>\n</table>\n<p>355 rows × 3 columns</p>\n</div>"
     },
     "metadata": {},
     "execution_count": 49
    }
   ],
   "source": [
    "df.groupby(by=['Brand']).count()"
   ]
  },
  {
   "cell_type": "code",
   "execution_count": 50,
   "metadata": {},
   "outputs": [
    {
     "output_type": "execute_result",
     "data": {
      "text/plain": [
       "0       3.75\n",
       "1       1.00\n",
       "2       2.25\n",
       "3       2.75\n",
       "4       3.75\n",
       "        ... \n",
       "2575    3.50\n",
       "2576    1.00\n",
       "2577    2.00\n",
       "2578    2.00\n",
       "2579    0.50\n",
       "Name: Stars, Length: 2580, dtype: float64"
      ]
     },
     "metadata": {},
     "execution_count": 50
    }
   ],
   "source": [
    "Y"
   ]
  },
  {
   "source": [
    "## Custom Transformers"
   ],
   "cell_type": "markdown",
   "metadata": {}
  },
  {
   "cell_type": "code",
   "execution_count": 51,
   "metadata": {},
   "outputs": [],
   "source": [
    "from nltk.corpus import stopwords\n",
    "import string\n",
    "def nltkPreprocess(text):\n",
    "    \"\"\"\n",
    "    Description:\n",
    "        - Takes a text and cleans it by removing useless punctuations and stopwords\n",
    "    input:\n",
    "        -string\n",
    "    output:\n",
    "        - list of strings\n",
    "    \"\"\"\n",
    "    # lower\n",
    "    words = text.lower().split()\n",
    "    # remove punctiuation\n",
    "    table = str.maketrans('', '', string.punctuation)\n",
    "    stripped = [w.translate(table) for w in words]\n",
    "    #remove stopwords\n",
    "    stop_words = set(stopwords.words('english'))\n",
    "    clean = [w for w in stripped if not w in stop_words if len(w)>2]\n",
    "    return clean \n",
    "\n",
    "\n",
    "def cleanVariety(col):\n",
    "    \"\"\"\n",
    "    description:\n",
    "        - adaptation for \n",
    "    \"\"\"\n",
    "    cleanCol = list()\n",
    "    # print(col)\n",
    "    for v in col:\n",
    "        # print(type(v))\n",
    "        cleanCol.append(nltkPreprocess(v[0]))\n",
    "    return col"
   ]
  },
  {
   "cell_type": "code",
   "execution_count": 52,
   "metadata": {},
   "outputs": [],
   "source": [
    "# we are trying to make feature engineering part of our pipeline\n",
    "from sklearn.preprocessing import FunctionTransformer\n",
    "from sklearn.compose import ColumnTransformer\n",
    "#! because the way .fit works in sklearn it passes the arrays as np.array so you must specify\n",
    "mapper = ColumnTransformer(transformers=[\n",
    "('Variety', FunctionTransformer(cleanVariety, validate=False),[1])], remainder='passthrough')\n"
   ]
  },
  {
   "source": [
    "## Pipeline"
   ],
   "cell_type": "markdown",
   "metadata": {}
  },
  {
   "cell_type": "code",
   "execution_count": null,
   "metadata": {},
   "outputs": [],
   "source": []
  },
  {
   "cell_type": "code",
   "execution_count": null,
   "metadata": {},
   "outputs": [],
   "source": [
    "catFeats = df.dtypes[df.dtypes == 'object'].index.tolist()\n",
    "\n",
    "def catFeat(df):\n",
    "    return df[catFeats]\n",
    "\n",
    "keepCat = FunctionTransformer(catFeat)"
   ]
  },
  {
   "cell_type": "code",
   "execution_count": null,
   "metadata": {},
   "outputs": [],
   "source": [
    "from sklearn.impute import SimpleImputer\n",
    "from sklearn.pipeline import Pipeline\n",
    "from sklearn.preprocessing import OneHotEncoder\n",
    "from sklearn.decomposition import PCA\n",
    "pipeline = Pipeline(steps=[\n",
    "    ('imputer', SimpleImputer(strategy='constant', fill_value='missing')),\n",
    "    ('VarietyColNLPClean',mapper),\n",
    "    ('ohc',OneHotEncoder(handle_unknown='ignore')),\n",
    "    ('to_dense',ToDenseTransformer()),\n",
    "    ('pca',PCA())\n",
    "    ])"
   ]
  },
  {
   "cell_type": "code",
   "execution_count": null,
   "metadata": {},
   "outputs": [
    {
     "output_type": "execute_result",
     "data": {
      "text/plain": [
       "Pipeline(steps=[('imputer',\n",
       "                 SimpleImputer(fill_value='missing', strategy='constant')),\n",
       "                ('VarietyColNLPClean',\n",
       "                 ColumnTransformer(remainder='passthrough',\n",
       "                                   transformers=[('Variety',\n",
       "                                                  FunctionTransformer(func=<function cleanVariety at 0x7f915ed61940>),\n",
       "                                                  [1])])),\n",
       "                ('ohc', OneHotEncoder(handle_unknown='ignore')),\n",
       "                ('to_dense',\n",
       "                 <customPandas.ToDenseTransformer object at 0x7f9160040cd0>),\n",
       "                ('pca', PCA())])"
      ],
      "text/html": "<style>div.sk-top-container {color: black;background-color: white;}div.sk-toggleable {background-color: white;}label.sk-toggleable__label {cursor: pointer;display: block;width: 100%;margin-bottom: 0;padding: 0.2em 0.3em;box-sizing: border-box;text-align: center;}div.sk-toggleable__content {max-height: 0;max-width: 0;overflow: hidden;text-align: left;background-color: #f0f8ff;}div.sk-toggleable__content pre {margin: 0.2em;color: black;border-radius: 0.25em;background-color: #f0f8ff;}input.sk-toggleable__control:checked~div.sk-toggleable__content {max-height: 200px;max-width: 100%;overflow: auto;}div.sk-estimator input.sk-toggleable__control:checked~label.sk-toggleable__label {background-color: #d4ebff;}div.sk-label input.sk-toggleable__control:checked~label.sk-toggleable__label {background-color: #d4ebff;}input.sk-hidden--visually {border: 0;clip: rect(1px 1px 1px 1px);clip: rect(1px, 1px, 1px, 1px);height: 1px;margin: -1px;overflow: hidden;padding: 0;position: absolute;width: 1px;}div.sk-estimator {font-family: monospace;background-color: #f0f8ff;margin: 0.25em 0.25em;border: 1px dotted black;border-radius: 0.25em;box-sizing: border-box;}div.sk-estimator:hover {background-color: #d4ebff;}div.sk-parallel-item::after {content: \"\";width: 100%;border-bottom: 1px solid gray;flex-grow: 1;}div.sk-label:hover label.sk-toggleable__label {background-color: #d4ebff;}div.sk-serial::before {content: \"\";position: absolute;border-left: 1px solid gray;box-sizing: border-box;top: 2em;bottom: 0;left: 50%;}div.sk-serial {display: flex;flex-direction: column;align-items: center;background-color: white;}div.sk-item {z-index: 1;}div.sk-parallel {display: flex;align-items: stretch;justify-content: center;background-color: white;}div.sk-parallel-item {display: flex;flex-direction: column;position: relative;background-color: white;}div.sk-parallel-item:first-child::after {align-self: flex-end;width: 50%;}div.sk-parallel-item:last-child::after {align-self: flex-start;width: 50%;}div.sk-parallel-item:only-child::after {width: 0;}div.sk-dashed-wrapped {border: 1px dashed gray;margin: 0.2em;box-sizing: border-box;padding-bottom: 0.1em;background-color: white;position: relative;}div.sk-label label {font-family: monospace;font-weight: bold;background-color: white;display: inline-block;line-height: 1.2em;}div.sk-label-container {position: relative;z-index: 2;text-align: center;}div.sk-container {display: inline-block;position: relative;}</style><div class=\"sk-top-container\"><div class=\"sk-container\"><div class=\"sk-item sk-dashed-wrapped\"><div class=\"sk-label-container\"><div class=\"sk-label sk-toggleable\"><input class=\"sk-toggleable__control sk-hidden--visually\" id=\"1a62d927-fbe2-49bb-be4d-421d58857d12\" type=\"checkbox\" ><label class=\"sk-toggleable__label\" for=\"1a62d927-fbe2-49bb-be4d-421d58857d12\">Pipeline</label><div class=\"sk-toggleable__content\"><pre>Pipeline(steps=[('imputer',\n                 SimpleImputer(fill_value='missing', strategy='constant')),\n                ('VarietyColNLPClean',\n                 ColumnTransformer(remainder='passthrough',\n                                   transformers=[('Variety',\n                                                  FunctionTransformer(func=<function cleanVariety at 0x7f915ed61940>),\n                                                  [1])])),\n                ('ohc', OneHotEncoder(handle_unknown='ignore')),\n                ('to_dense',\n                 <customPandas.ToDenseTransformer object at 0x7f9160040cd0>),\n                ('pca', PCA())])</pre></div></div></div><div class=\"sk-serial\"><div class=\"sk-item\"><div class=\"sk-estimator sk-toggleable\"><input class=\"sk-toggleable__control sk-hidden--visually\" id=\"a111c80d-518e-4f7e-a458-0904dd9d405c\" type=\"checkbox\" ><label class=\"sk-toggleable__label\" for=\"a111c80d-518e-4f7e-a458-0904dd9d405c\">SimpleImputer</label><div class=\"sk-toggleable__content\"><pre>SimpleImputer(fill_value='missing', strategy='constant')</pre></div></div></div><div class=\"sk-item sk-dashed-wrapped\"><div class=\"sk-label-container\"><div class=\"sk-label sk-toggleable\"><input class=\"sk-toggleable__control sk-hidden--visually\" id=\"0fdfb07a-fb3c-44e1-a175-d4b282f2885d\" type=\"checkbox\" ><label class=\"sk-toggleable__label\" for=\"0fdfb07a-fb3c-44e1-a175-d4b282f2885d\">VarietyColNLPClean: ColumnTransformer</label><div class=\"sk-toggleable__content\"><pre>ColumnTransformer(remainder='passthrough',\n                  transformers=[('Variety',\n                                 FunctionTransformer(func=<function cleanVariety at 0x7f915ed61940>),\n                                 [1])])</pre></div></div></div><div class=\"sk-parallel\"><div class=\"sk-parallel-item\"><div class=\"sk-item\"><div class=\"sk-label-container\"><div class=\"sk-label sk-toggleable\"><input class=\"sk-toggleable__control sk-hidden--visually\" id=\"7431f664-6ee5-49bf-a69a-124d941559c5\" type=\"checkbox\" ><label class=\"sk-toggleable__label\" for=\"7431f664-6ee5-49bf-a69a-124d941559c5\">Variety</label><div class=\"sk-toggleable__content\"><pre>[1]</pre></div></div></div><div class=\"sk-serial\"><div class=\"sk-item\"><div class=\"sk-estimator sk-toggleable\"><input class=\"sk-toggleable__control sk-hidden--visually\" id=\"d548d684-f1d8-42c6-8c0f-6d6b77e6bb7e\" type=\"checkbox\" ><label class=\"sk-toggleable__label\" for=\"d548d684-f1d8-42c6-8c0f-6d6b77e6bb7e\">FunctionTransformer</label><div class=\"sk-toggleable__content\"><pre>FunctionTransformer(func=<function cleanVariety at 0x7f915ed61940>)</pre></div></div></div></div></div></div></div></div><div class=\"sk-item\"><div class=\"sk-estimator sk-toggleable\"><input class=\"sk-toggleable__control sk-hidden--visually\" id=\"b2c704dc-a3f2-4cd1-9271-d88a9da4c499\" type=\"checkbox\" ><label class=\"sk-toggleable__label\" for=\"b2c704dc-a3f2-4cd1-9271-d88a9da4c499\">OneHotEncoder</label><div class=\"sk-toggleable__content\"><pre>OneHotEncoder(handle_unknown='ignore')</pre></div></div></div><div class=\"sk-item\"><div class=\"sk-estimator sk-toggleable\"><input class=\"sk-toggleable__control sk-hidden--visually\" id=\"cc3139cc-b57c-4368-bf54-9006cb7316f3\" type=\"checkbox\" ><label class=\"sk-toggleable__label\" for=\"cc3139cc-b57c-4368-bf54-9006cb7316f3\">ToDenseTransformer</label><div class=\"sk-toggleable__content\"><pre><customPandas.ToDenseTransformer object at 0x7f9160040cd0></pre></div></div></div><div class=\"sk-item\"><div class=\"sk-estimator sk-toggleable\"><input class=\"sk-toggleable__control sk-hidden--visually\" id=\"0abe5005-3ad0-4544-9301-5d7a93760d87\" type=\"checkbox\" ><label class=\"sk-toggleable__label\" for=\"0abe5005-3ad0-4544-9301-5d7a93760d87\">PCA</label><div class=\"sk-toggleable__content\"><pre>PCA()</pre></div></div></div></div></div></div></div>"
     },
     "metadata": {},
     "execution_count": 16
    }
   ],
   "source": [
    "# very usefull pipeline visualization\n",
    "from sklearn import set_config\n",
    "set_config(display='diagram')\n",
    "pipeline"
   ]
  },
  {
   "source": [
    "## Hyperparameter tuning"
   ],
   "cell_type": "markdown",
   "metadata": {}
  },
  {
   "cell_type": "code",
   "execution_count": null,
   "metadata": {},
   "outputs": [],
   "source": [
    "from sklearn.model_selection import RandomizedSearchCV\n",
    "from sklearn.linear_model import BayesianRidge, Lasso, Ridge\n",
    "regressors = [BayesianRidge(),Lasso(), Ridge()]\n",
    "# hyperparameter tuning for the Randomized Search\n",
    "params = [{'regressors':[BayesianRidge()],\n",
    "'regressors__n_iter' : [x for x in np.linspace(start=300,stop =1000,num=8)],\n",
    "'regressors__alpha_1' : [round(x,2) for x in np.linspace(start=0.01,stop =1,num=8)],\n",
    "# 'pipeline__pca__n_components': [round(x) for x in np.linspace(start=3,stop = 100,num=8)]\n",
    "},\n",
    "{'regressors':[Lasso()],\n",
    "'regressors__alpha' : [round(x,2) for x in np.linspace(start=0.01,stop =1,num=8)],\n",
    "# preprocessing pipeline\n",
    "# 'pipeline__pca__n_components': [round(x) for x in np.linspace(start=3,stop = 100,num=8)]\n",
    "},\n",
    "\n",
    "{'regressors':[Ridge()],\n",
    "'regressors__alpha' : [round(x,2) for x in np.linspace(start=0.01,stop =1,num=8)],\n",
    "# preprocessing pipeline\n",
    "# 'pipeline__pca__n_components':[round(x) for x in np.linspace(start=3,stop = 100,num=8)]\n",
    "}]\n",
    "# if looking for specific parameters use the get_params methods (e.g.Lasso().get_params())"
   ]
  },
  {
   "cell_type": "code",
   "execution_count": null,
   "metadata": {},
   "outputs": [],
   "source": [
    "# preprocessor.get_params()"
   ]
  },
  {
   "cell_type": "code",
   "execution_count": null,
   "metadata": {},
   "outputs": [],
   "source": [
    "from sklearn.model_selection import train_test_split\n",
    "# split of the datasla\n",
    "X_train, X_test, y_train, y_test = train_test_split(df, Y, test_size=0.33, random_state=42)"
   ]
  },
  {
   "cell_type": "code",
   "execution_count": null,
   "metadata": {},
   "outputs": [
    {
     "output_type": "execute_result",
     "data": {
      "text/plain": [
       "Pipeline(steps=[('categories',\n",
       "                 Pipeline(steps=[('imputer',\n",
       "                                  SimpleImputer(fill_value='missing',\n",
       "                                                strategy='constant')),\n",
       "                                 ('VarietyColNLPClean',\n",
       "                                  ColumnTransformer(remainder='passthrough',\n",
       "                                                    transformers=[('Variety',\n",
       "                                                                   FunctionTransformer(func=<function cleanVariety at 0x7f915ed61940>),\n",
       "                                                                   [1])])),\n",
       "                                 ('ohc',\n",
       "                                  OneHotEncoder(handle_unknown='ignore')),\n",
       "                                 ('to_dense',\n",
       "                                  <customPandas.ToDenseTransformer object at 0x7f9160040cd0>),\n",
       "                                 ('pca', PCA())])),\n",
       "                ('regressors', BayesianRidge())])"
      ],
      "text/html": "<style>div.sk-top-container {color: black;background-color: white;}div.sk-toggleable {background-color: white;}label.sk-toggleable__label {cursor: pointer;display: block;width: 100%;margin-bottom: 0;padding: 0.2em 0.3em;box-sizing: border-box;text-align: center;}div.sk-toggleable__content {max-height: 0;max-width: 0;overflow: hidden;text-align: left;background-color: #f0f8ff;}div.sk-toggleable__content pre {margin: 0.2em;color: black;border-radius: 0.25em;background-color: #f0f8ff;}input.sk-toggleable__control:checked~div.sk-toggleable__content {max-height: 200px;max-width: 100%;overflow: auto;}div.sk-estimator input.sk-toggleable__control:checked~label.sk-toggleable__label {background-color: #d4ebff;}div.sk-label input.sk-toggleable__control:checked~label.sk-toggleable__label {background-color: #d4ebff;}input.sk-hidden--visually {border: 0;clip: rect(1px 1px 1px 1px);clip: rect(1px, 1px, 1px, 1px);height: 1px;margin: -1px;overflow: hidden;padding: 0;position: absolute;width: 1px;}div.sk-estimator {font-family: monospace;background-color: #f0f8ff;margin: 0.25em 0.25em;border: 1px dotted black;border-radius: 0.25em;box-sizing: border-box;}div.sk-estimator:hover {background-color: #d4ebff;}div.sk-parallel-item::after {content: \"\";width: 100%;border-bottom: 1px solid gray;flex-grow: 1;}div.sk-label:hover label.sk-toggleable__label {background-color: #d4ebff;}div.sk-serial::before {content: \"\";position: absolute;border-left: 1px solid gray;box-sizing: border-box;top: 2em;bottom: 0;left: 50%;}div.sk-serial {display: flex;flex-direction: column;align-items: center;background-color: white;}div.sk-item {z-index: 1;}div.sk-parallel {display: flex;align-items: stretch;justify-content: center;background-color: white;}div.sk-parallel-item {display: flex;flex-direction: column;position: relative;background-color: white;}div.sk-parallel-item:first-child::after {align-self: flex-end;width: 50%;}div.sk-parallel-item:last-child::after {align-self: flex-start;width: 50%;}div.sk-parallel-item:only-child::after {width: 0;}div.sk-dashed-wrapped {border: 1px dashed gray;margin: 0.2em;box-sizing: border-box;padding-bottom: 0.1em;background-color: white;position: relative;}div.sk-label label {font-family: monospace;font-weight: bold;background-color: white;display: inline-block;line-height: 1.2em;}div.sk-label-container {position: relative;z-index: 2;text-align: center;}div.sk-container {display: inline-block;position: relative;}</style><div class=\"sk-top-container\"><div class=\"sk-container\"><div class=\"sk-item sk-dashed-wrapped\"><div class=\"sk-label-container\"><div class=\"sk-label sk-toggleable\"><input class=\"sk-toggleable__control sk-hidden--visually\" id=\"47b26e5e-22bf-4411-aa8a-7419c568a533\" type=\"checkbox\" ><label class=\"sk-toggleable__label\" for=\"47b26e5e-22bf-4411-aa8a-7419c568a533\">Pipeline</label><div class=\"sk-toggleable__content\"><pre>Pipeline(steps=[('categories',\n                 Pipeline(steps=[('imputer',\n                                  SimpleImputer(fill_value='missing',\n                                                strategy='constant')),\n                                 ('VarietyColNLPClean',\n                                  ColumnTransformer(remainder='passthrough',\n                                                    transformers=[('Variety',\n                                                                   FunctionTransformer(func=<function cleanVariety at 0x7f915ed61940>),\n                                                                   [1])])),\n                                 ('ohc',\n                                  OneHotEncoder(handle_unknown='ignore')),\n                                 ('to_dense',\n                                  <customPandas.ToDenseTransformer object at 0x7f9160040cd0>),\n                                 ('pca', PCA())])),\n                ('regressors', BayesianRidge())])</pre></div></div></div><div class=\"sk-serial\"><div class=\"sk-item\"><div class=\"sk-label-container\"><div class=\"sk-label sk-toggleable\"><input class=\"sk-toggleable__control sk-hidden--visually\" id=\"dac2f4de-2dcc-4a71-b492-0ba440400f6a\" type=\"checkbox\" ><label class=\"sk-toggleable__label\" for=\"dac2f4de-2dcc-4a71-b492-0ba440400f6a\">categories: Pipeline</label><div class=\"sk-toggleable__content\"><pre>Pipeline(steps=[('imputer',\n                 SimpleImputer(fill_value='missing', strategy='constant')),\n                ('VarietyColNLPClean',\n                 ColumnTransformer(remainder='passthrough',\n                                   transformers=[('Variety',\n                                                  FunctionTransformer(func=<function cleanVariety at 0x7f915ed61940>),\n                                                  [1])])),\n                ('ohc', OneHotEncoder(handle_unknown='ignore')),\n                ('to_dense',\n                 <customPandas.ToDenseTransformer object at 0x7f9160040cd0>),\n                ('pca', PCA())])</pre></div></div></div><div class=\"sk-serial\"><div class=\"sk-item\"><div class=\"sk-estimator sk-toggleable\"><input class=\"sk-toggleable__control sk-hidden--visually\" id=\"03602996-7ad8-47bb-8fe6-e92472ce8f51\" type=\"checkbox\" ><label class=\"sk-toggleable__label\" for=\"03602996-7ad8-47bb-8fe6-e92472ce8f51\">SimpleImputer</label><div class=\"sk-toggleable__content\"><pre>SimpleImputer(fill_value='missing', strategy='constant')</pre></div></div></div><div class=\"sk-item sk-dashed-wrapped\"><div class=\"sk-label-container\"><div class=\"sk-label sk-toggleable\"><input class=\"sk-toggleable__control sk-hidden--visually\" id=\"75e531f3-a4fe-497e-8347-ebcd5ec23ab5\" type=\"checkbox\" ><label class=\"sk-toggleable__label\" for=\"75e531f3-a4fe-497e-8347-ebcd5ec23ab5\">VarietyColNLPClean: ColumnTransformer</label><div class=\"sk-toggleable__content\"><pre>ColumnTransformer(remainder='passthrough',\n                  transformers=[('Variety',\n                                 FunctionTransformer(func=<function cleanVariety at 0x7f915ed61940>),\n                                 [1])])</pre></div></div></div><div class=\"sk-parallel\"><div class=\"sk-parallel-item\"><div class=\"sk-item\"><div class=\"sk-label-container\"><div class=\"sk-label sk-toggleable\"><input class=\"sk-toggleable__control sk-hidden--visually\" id=\"e65668ce-a145-4acd-9d98-3e8635435dba\" type=\"checkbox\" ><label class=\"sk-toggleable__label\" for=\"e65668ce-a145-4acd-9d98-3e8635435dba\">Variety</label><div class=\"sk-toggleable__content\"><pre>[1]</pre></div></div></div><div class=\"sk-serial\"><div class=\"sk-item\"><div class=\"sk-estimator sk-toggleable\"><input class=\"sk-toggleable__control sk-hidden--visually\" id=\"0b420f5d-fd34-4df0-83bd-24a77d6988bb\" type=\"checkbox\" ><label class=\"sk-toggleable__label\" for=\"0b420f5d-fd34-4df0-83bd-24a77d6988bb\">FunctionTransformer</label><div class=\"sk-toggleable__content\"><pre>FunctionTransformer(func=<function cleanVariety at 0x7f915ed61940>)</pre></div></div></div></div></div></div></div></div><div class=\"sk-item\"><div class=\"sk-estimator sk-toggleable\"><input class=\"sk-toggleable__control sk-hidden--visually\" id=\"2cca2cf6-444d-4ef8-83ad-a536d6ac25b9\" type=\"checkbox\" ><label class=\"sk-toggleable__label\" for=\"2cca2cf6-444d-4ef8-83ad-a536d6ac25b9\">OneHotEncoder</label><div class=\"sk-toggleable__content\"><pre>OneHotEncoder(handle_unknown='ignore')</pre></div></div></div><div class=\"sk-item\"><div class=\"sk-estimator sk-toggleable\"><input class=\"sk-toggleable__control sk-hidden--visually\" id=\"03ccd356-2981-4040-9041-56ff60e5a294\" type=\"checkbox\" ><label class=\"sk-toggleable__label\" for=\"03ccd356-2981-4040-9041-56ff60e5a294\">ToDenseTransformer</label><div class=\"sk-toggleable__content\"><pre><customPandas.ToDenseTransformer object at 0x7f9160040cd0></pre></div></div></div><div class=\"sk-item\"><div class=\"sk-estimator sk-toggleable\"><input class=\"sk-toggleable__control sk-hidden--visually\" id=\"f2a1e260-c8cd-4c20-9e04-359d10780f32\" type=\"checkbox\" ><label class=\"sk-toggleable__label\" for=\"f2a1e260-c8cd-4c20-9e04-359d10780f32\">PCA</label><div class=\"sk-toggleable__content\"><pre>PCA()</pre></div></div></div></div></div><div class=\"sk-item\"><div class=\"sk-estimator sk-toggleable\"><input class=\"sk-toggleable__control sk-hidden--visually\" id=\"20bd2b7b-1269-464a-bb79-561a55a662de\" type=\"checkbox\" ><label class=\"sk-toggleable__label\" for=\"20bd2b7b-1269-464a-bb79-561a55a662de\">BayesianRidge</label><div class=\"sk-toggleable__content\"><pre>BayesianRidge()</pre></div></div></div></div></div></div></div>"
     },
     "metadata": {},
     "execution_count": 20
    }
   ],
   "source": [
    "baseModel = Pipeline([('categories', pipeline),\n",
    "                      ('regressors', regressors[0])])\n",
    "baseModel"
   ]
  },
  {
   "cell_type": "code",
   "execution_count": null,
   "metadata": {},
   "outputs": [],
   "source": [
    "pipeline['pca'].get_params()"
   ]
  },
  {
   "cell_type": "code",
   "execution_count": null,
   "metadata": {
    "tags": []
   },
   "outputs": [
    {
     "output_type": "stream",
     "name": "stdout",
     "text": [
      "Fitting 5 folds for each of 80 candidates, totalling 400 fits\n",
      "[Parallel(n_jobs=1)]: Using backend SequentialBackend with 1 concurrent workers.\n",
      "[Parallel(n_jobs=1)]: Done 400 out of 400 | elapsed: 10.4min finished\n"
     ]
    }
   ],
   "source": [
    "tunedModel = RandomizedSearchCV(baseModel,params,verbose=1,n_iter=150, cv=5,random_state=42).fit(X_train, y_train)"
   ]
  },
  {
   "cell_type": "code",
   "execution_count": 23,
   "metadata": {},
   "outputs": [
    {
     "output_type": "stream",
     "name": "stdout",
     "text": [
      "model score training data: 0.836\n",
      "model score test data: 0.235\n",
      "<bound method Pipeline.get_params of Pipeline(steps=[('categories',\n",
      "                 Pipeline(steps=[('imputer',\n",
      "                                  SimpleImputer(fill_value='missing',\n",
      "                                                strategy='constant')),\n",
      "                                 ('VarietyColNLPClean',\n",
      "                                  ColumnTransformer(remainder='passthrough',\n",
      "                                                    transformers=[('Variety',\n",
      "                                                                   FunctionTransformer(func=<function cleanVariety at 0x7f915ed61940>),\n",
      "                                                                   [1])])),\n",
      "                                 ('ohc',\n",
      "                                  OneHotEncoder(handle_unknown='ignore')),\n",
      "                                 ('to_dense',\n",
      "                                  <customPandas.ToDenseTransformer object at 0x7f916015eeb0>),\n",
      "                                 ('pca', PCA())])),\n",
      "                ('regressors', Ridge())])>\n"
     ]
    },
    {
     "output_type": "execute_result",
     "data": {
      "text/plain": [
       "{'regressors__alpha': 1.0, 'regressors': Ridge()}"
      ]
     },
     "metadata": {},
     "execution_count": 23
    }
   ],
   "source": [
    "print(\"model score training data: %.3f\" % tunedModel.score(X_train, y_train)) \n",
    "print(\"model score test data: %.3f\" % tunedModel.score(X_test, y_test))\n",
    "print(tunedModel.best_estimator_.get_params)\n",
    "tunedModel.best_params_"
   ]
  },
  {
   "cell_type": "code",
   "execution_count": 24,
   "metadata": {},
   "outputs": [
    {
     "output_type": "execute_result",
     "data": {
      "text/plain": [
       "0.6350940579686039"
      ]
     },
     "metadata": {},
     "execution_count": 24
    }
   ],
   "source": [
    "y_pred = tunedModel.predict(X_test)\n",
    "from sklearn.metrics import mean_absolute_error,mean_squared_error,r2_score\n",
    "mean_absolute_error(y_test,y_pred)"
   ]
  },
  {
   "cell_type": "code",
   "execution_count": 25,
   "metadata": {},
   "outputs": [
    {
     "output_type": "display_data",
     "data": {
      "text/plain": "<Figure size 432x288 with 1 Axes>",
      "image/svg+xml": "<?xml version=\"1.0\" encoding=\"utf-8\" standalone=\"no\"?>\n<!DOCTYPE svg PUBLIC \"-//W3C//DTD SVG 1.1//EN\"\n  \"http://www.w3.org/Graphics/SVG/1.1/DTD/svg11.dtd\">\n<!-- Created with matplotlib (https://matplotlib.org/) -->\n<svg height=\"248.518125pt\" version=\"1.1\" viewBox=\"0 0 388.965625 248.518125\" width=\"388.965625pt\" xmlns=\"http://www.w3.org/2000/svg\" xmlns:xlink=\"http://www.w3.org/1999/xlink\">\n <metadata>\n  <rdf:RDF xmlns:cc=\"http://creativecommons.org/ns#\" xmlns:dc=\"http://purl.org/dc/elements/1.1/\" xmlns:rdf=\"http://www.w3.org/1999/02/22-rdf-syntax-ns#\">\n   <cc:Work>\n    <dc:type rdf:resource=\"http://purl.org/dc/dcmitype/StillImage\"/>\n    <dc:date>2021-03-03T11:24:13.027499</dc:date>\n    <dc:format>image/svg+xml</dc:format>\n    <dc:creator>\n     <cc:Agent>\n      <dc:title>Matplotlib v3.3.1, https://matplotlib.org/</dc:title>\n     </cc:Agent>\n    </dc:creator>\n   </cc:Work>\n  </rdf:RDF>\n </metadata>\n <defs>\n  <style type=\"text/css\">*{stroke-linecap:butt;stroke-linejoin:round;}</style>\n </defs>\n <g id=\"figure_1\">\n  <g id=\"patch_1\">\n   <path d=\"M 0 248.518125 \nL 388.965625 248.518125 \nL 388.965625 0 \nL 0 0 \nz\n\" style=\"fill:none;\"/>\n  </g>\n  <g id=\"axes_1\">\n   <g id=\"patch_2\">\n    <path d=\"M 46.965625 224.64 \nL 381.765625 224.64 \nL 381.765625 7.2 \nL 46.965625 7.2 \nz\n\" style=\"fill:#ffffff;\"/>\n   </g>\n   <g id=\"patch_3\">\n    <path clip-path=\"url(#pa71a3d1aea)\" d=\"M 62.183807 224.64 \nL 69.792898 224.64 \nL 69.792898 224.64 \nL 62.183807 224.64 \nz\n\" style=\"fill:#ff7f0e;fill-opacity:0.75;stroke:#000000;stroke-linejoin:miter;stroke-width:0.760909;\"/>\n   </g>\n   <g id=\"patch_4\">\n    <path clip-path=\"url(#pa71a3d1aea)\" d=\"M 69.792898 224.64 \nL 77.401989 224.64 \nL 77.401989 224.64 \nL 69.792898 224.64 \nz\n\" style=\"fill:#ff7f0e;fill-opacity:0.75;stroke:#000000;stroke-linejoin:miter;stroke-width:0.760909;\"/>\n   </g>\n   <g id=\"patch_5\">\n    <path clip-path=\"url(#pa71a3d1aea)\" d=\"M 77.401989 224.64 \nL 85.01108 224.64 \nL 85.01108 224.64 \nL 77.401989 224.64 \nz\n\" style=\"fill:#ff7f0e;fill-opacity:0.75;stroke:#000000;stroke-linejoin:miter;stroke-width:0.760909;\"/>\n   </g>\n   <g id=\"patch_6\">\n    <path clip-path=\"url(#pa71a3d1aea)\" d=\"M 85.01108 224.64 \nL 92.62017 224.64 \nL 92.62017 224.64 \nL 85.01108 224.64 \nz\n\" style=\"fill:#ff7f0e;fill-opacity:0.75;stroke:#000000;stroke-linejoin:miter;stroke-width:0.760909;\"/>\n   </g>\n   <g id=\"patch_7\">\n    <path clip-path=\"url(#pa71a3d1aea)\" d=\"M 92.62017 224.64 \nL 100.229261 224.64 \nL 100.229261 224.64 \nL 92.62017 224.64 \nz\n\" style=\"fill:#ff7f0e;fill-opacity:0.75;stroke:#000000;stroke-linejoin:miter;stroke-width:0.760909;\"/>\n   </g>\n   <g id=\"patch_8\">\n    <path clip-path=\"url(#pa71a3d1aea)\" d=\"M 100.229261 224.64 \nL 107.838352 224.64 \nL 107.838352 224.64 \nL 100.229261 224.64 \nz\n\" style=\"fill:#ff7f0e;fill-opacity:0.75;stroke:#000000;stroke-linejoin:miter;stroke-width:0.760909;\"/>\n   </g>\n   <g id=\"patch_9\">\n    <path clip-path=\"url(#pa71a3d1aea)\" d=\"M 107.838352 224.64 \nL 115.447443 224.64 \nL 115.447443 224.64 \nL 107.838352 224.64 \nz\n\" style=\"fill:#ff7f0e;fill-opacity:0.75;stroke:#000000;stroke-linejoin:miter;stroke-width:0.760909;\"/>\n   </g>\n   <g id=\"patch_10\">\n    <path clip-path=\"url(#pa71a3d1aea)\" d=\"M 115.447443 224.64 \nL 123.056534 224.64 \nL 123.056534 224.64 \nL 115.447443 224.64 \nz\n\" style=\"fill:#ff7f0e;fill-opacity:0.75;stroke:#000000;stroke-linejoin:miter;stroke-width:0.760909;\"/>\n   </g>\n   <g id=\"patch_11\">\n    <path clip-path=\"url(#pa71a3d1aea)\" d=\"M 123.056534 224.64 \nL 130.665625 224.64 \nL 130.665625 224.64 \nL 123.056534 224.64 \nz\n\" style=\"fill:#ff7f0e;fill-opacity:0.75;stroke:#000000;stroke-linejoin:miter;stroke-width:0.760909;\"/>\n   </g>\n   <g id=\"patch_12\">\n    <path clip-path=\"url(#pa71a3d1aea)\" d=\"M 130.665625 224.64 \nL 138.274716 224.64 \nL 138.274716 224.64 \nL 130.665625 224.64 \nz\n\" style=\"fill:#ff7f0e;fill-opacity:0.75;stroke:#000000;stroke-linejoin:miter;stroke-width:0.760909;\"/>\n   </g>\n   <g id=\"patch_13\">\n    <path clip-path=\"url(#pa71a3d1aea)\" d=\"M 138.274716 224.64 \nL 145.883807 224.64 \nL 145.883807 223.150175 \nL 138.274716 223.150175 \nz\n\" style=\"fill:#ff7f0e;fill-opacity:0.75;stroke:#000000;stroke-linejoin:miter;stroke-width:0.760909;\"/>\n   </g>\n   <g id=\"patch_14\">\n    <path clip-path=\"url(#pa71a3d1aea)\" d=\"M 145.883807 224.64 \nL 153.492898 224.64 \nL 153.492898 224.64 \nL 145.883807 224.64 \nz\n\" style=\"fill:#ff7f0e;fill-opacity:0.75;stroke:#000000;stroke-linejoin:miter;stroke-width:0.760909;\"/>\n   </g>\n   <g id=\"patch_15\">\n    <path clip-path=\"url(#pa71a3d1aea)\" d=\"M 153.492898 224.64 \nL 161.101989 224.64 \nL 161.101989 223.150175 \nL 153.492898 223.150175 \nz\n\" style=\"fill:#ff7f0e;fill-opacity:0.75;stroke:#000000;stroke-linejoin:miter;stroke-width:0.760909;\"/>\n   </g>\n   <g id=\"patch_16\">\n    <path clip-path=\"url(#pa71a3d1aea)\" d=\"M 161.101989 224.64 \nL 168.71108 224.64 \nL 168.71108 223.150175 \nL 161.101989 223.150175 \nz\n\" style=\"fill:#ff7f0e;fill-opacity:0.75;stroke:#000000;stroke-linejoin:miter;stroke-width:0.760909;\"/>\n   </g>\n   <g id=\"patch_17\">\n    <path clip-path=\"url(#pa71a3d1aea)\" d=\"M 168.71108 224.64 \nL 176.32017 224.64 \nL 176.32017 218.680699 \nL 168.71108 218.680699 \nz\n\" style=\"fill:#ff7f0e;fill-opacity:0.75;stroke:#000000;stroke-linejoin:miter;stroke-width:0.760909;\"/>\n   </g>\n   <g id=\"patch_18\">\n    <path clip-path=\"url(#pa71a3d1aea)\" d=\"M 176.32017 224.64 \nL 183.929261 224.64 \nL 183.929261 224.64 \nL 176.32017 224.64 \nz\n\" style=\"fill:#ff7f0e;fill-opacity:0.75;stroke:#000000;stroke-linejoin:miter;stroke-width:0.760909;\"/>\n   </g>\n   <g id=\"patch_19\">\n    <path clip-path=\"url(#pa71a3d1aea)\" d=\"M 183.929261 224.64 \nL 191.538352 224.64 \nL 191.538352 221.660349 \nL 183.929261 221.660349 \nz\n\" style=\"fill:#ff7f0e;fill-opacity:0.75;stroke:#000000;stroke-linejoin:miter;stroke-width:0.760909;\"/>\n   </g>\n   <g id=\"patch_20\">\n    <path clip-path=\"url(#pa71a3d1aea)\" d=\"M 191.538352 224.64 \nL 199.147443 224.64 \nL 199.147443 223.150175 \nL 191.538352 223.150175 \nz\n\" style=\"fill:#ff7f0e;fill-opacity:0.75;stroke:#000000;stroke-linejoin:miter;stroke-width:0.760909;\"/>\n   </g>\n   <g id=\"patch_21\">\n    <path clip-path=\"url(#pa71a3d1aea)\" d=\"M 199.147443 224.64 \nL 206.756534 224.64 \nL 206.756534 217.190874 \nL 199.147443 217.190874 \nz\n\" style=\"fill:#ff7f0e;fill-opacity:0.75;stroke:#000000;stroke-linejoin:miter;stroke-width:0.760909;\"/>\n   </g>\n   <g id=\"patch_22\">\n    <path clip-path=\"url(#pa71a3d1aea)\" d=\"M 206.756534 224.64 \nL 214.365625 224.64 \nL 214.365625 217.190874 \nL 206.756534 217.190874 \nz\n\" style=\"fill:#ff7f0e;fill-opacity:0.75;stroke:#000000;stroke-linejoin:miter;stroke-width:0.760909;\"/>\n   </g>\n   <g id=\"patch_23\">\n    <path clip-path=\"url(#pa71a3d1aea)\" d=\"M 214.365625 224.64 \nL 221.974716 224.64 \nL 221.974716 218.680699 \nL 214.365625 218.680699 \nz\n\" style=\"fill:#ff7f0e;fill-opacity:0.75;stroke:#000000;stroke-linejoin:miter;stroke-width:0.760909;\"/>\n   </g>\n   <g id=\"patch_24\">\n    <path clip-path=\"url(#pa71a3d1aea)\" d=\"M 221.974716 224.64 \nL 229.583807 224.64 \nL 229.583807 214.211223 \nL 221.974716 214.211223 \nz\n\" style=\"fill:#ff7f0e;fill-opacity:0.75;stroke:#000000;stroke-linejoin:miter;stroke-width:0.760909;\"/>\n   </g>\n   <g id=\"patch_25\">\n    <path clip-path=\"url(#pa71a3d1aea)\" d=\"M 229.583807 224.64 \nL 237.192898 224.64 \nL 237.192898 215.701048 \nL 229.583807 215.701048 \nz\n\" style=\"fill:#ff7f0e;fill-opacity:0.75;stroke:#000000;stroke-linejoin:miter;stroke-width:0.760909;\"/>\n   </g>\n   <g id=\"patch_26\">\n    <path clip-path=\"url(#pa71a3d1aea)\" d=\"M 237.192898 224.64 \nL 244.801989 224.64 \nL 244.801989 194.843494 \nL 237.192898 194.843494 \nz\n\" style=\"fill:#ff7f0e;fill-opacity:0.75;stroke:#000000;stroke-linejoin:miter;stroke-width:0.760909;\"/>\n   </g>\n   <g id=\"patch_27\">\n    <path clip-path=\"url(#pa71a3d1aea)\" d=\"M 244.801989 224.64 \nL 252.41108 224.64 \nL 252.41108 171.00629 \nL 244.801989 171.00629 \nz\n\" style=\"fill:#ff7f0e;fill-opacity:0.75;stroke:#000000;stroke-linejoin:miter;stroke-width:0.760909;\"/>\n   </g>\n   <g id=\"patch_28\">\n    <path clip-path=\"url(#pa71a3d1aea)\" d=\"M 252.41108 224.64 \nL 260.02017 224.64 \nL 260.02017 102.474327 \nL 252.41108 102.474327 \nz\n\" style=\"fill:#ff7f0e;fill-opacity:0.75;stroke:#000000;stroke-linejoin:miter;stroke-width:0.760909;\"/>\n   </g>\n   <g id=\"patch_29\">\n    <path clip-path=\"url(#pa71a3d1aea)\" d=\"M 260.02017 224.64 \nL 267.629261 224.64 \nL 267.629261 133.760658 \nL 260.02017 133.760658 \nz\n\" style=\"fill:#ff7f0e;fill-opacity:0.75;stroke:#000000;stroke-linejoin:miter;stroke-width:0.760909;\"/>\n   </g>\n   <g id=\"patch_30\">\n    <path clip-path=\"url(#pa71a3d1aea)\" d=\"M 267.629261 224.64 \nL 275.238352 224.64 \nL 275.238352 138.230134 \nL 267.629261 138.230134 \nz\n\" style=\"fill:#ff7f0e;fill-opacity:0.75;stroke:#000000;stroke-linejoin:miter;stroke-width:0.760909;\"/>\n   </g>\n   <g id=\"patch_31\">\n    <path clip-path=\"url(#pa71a3d1aea)\" d=\"M 275.238352 224.64 \nL 282.847443 224.64 \nL 282.847443 124.821706 \nL 275.238352 124.821706 \nz\n\" style=\"fill:#ff7f0e;fill-opacity:0.75;stroke:#000000;stroke-linejoin:miter;stroke-width:0.760909;\"/>\n   </g>\n   <g id=\"patch_32\">\n    <path clip-path=\"url(#pa71a3d1aea)\" d=\"M 282.847443 224.64 \nL 290.456534 224.64 \nL 290.456534 53.310092 \nL 282.847443 53.310092 \nz\n\" style=\"fill:#ff7f0e;fill-opacity:0.75;stroke:#000000;stroke-linejoin:miter;stroke-width:0.760909;\"/>\n   </g>\n   <g id=\"patch_33\">\n    <path clip-path=\"url(#pa71a3d1aea)\" d=\"M 290.456534 224.64 \nL 298.065625 224.64 \nL 298.065625 109.923453 \nL 290.456534 109.923453 \nz\n\" style=\"fill:#ff7f0e;fill-opacity:0.75;stroke:#000000;stroke-linejoin:miter;stroke-width:0.760909;\"/>\n   </g>\n   <g id=\"patch_34\">\n    <path clip-path=\"url(#pa71a3d1aea)\" d=\"M 298.065625 224.64 \nL 305.674716 224.64 \nL 305.674716 105.453977 \nL 298.065625 105.453977 \nz\n\" style=\"fill:#ff7f0e;fill-opacity:0.75;stroke:#000000;stroke-linejoin:miter;stroke-width:0.760909;\"/>\n   </g>\n   <g id=\"patch_35\">\n    <path clip-path=\"url(#pa71a3d1aea)\" d=\"M 305.674716 224.64 \nL 313.283807 224.64 \nL 313.283807 87.576074 \nL 305.674716 87.576074 \nz\n\" style=\"fill:#ff7f0e;fill-opacity:0.75;stroke:#000000;stroke-linejoin:miter;stroke-width:0.760909;\"/>\n   </g>\n   <g id=\"patch_36\">\n    <path clip-path=\"url(#pa71a3d1aea)\" d=\"M 313.283807 224.64 \nL 320.892898 224.64 \nL 320.892898 157.597862 \nL 313.283807 157.597862 \nz\n\" style=\"fill:#ff7f0e;fill-opacity:0.75;stroke:#000000;stroke-linejoin:miter;stroke-width:0.760909;\"/>\n   </g>\n   <g id=\"patch_37\">\n    <path clip-path=\"url(#pa71a3d1aea)\" d=\"M 320.892898 224.64 \nL 328.501989 224.64 \nL 328.501989 154.618212 \nL 320.892898 154.618212 \nz\n\" style=\"fill:#ff7f0e;fill-opacity:0.75;stroke:#000000;stroke-linejoin:miter;stroke-width:0.760909;\"/>\n   </g>\n   <g id=\"patch_38\">\n    <path clip-path=\"url(#pa71a3d1aea)\" d=\"M 328.501989 224.64 \nL 336.11108 224.64 \nL 336.11108 202.292621 \nL 328.501989 202.292621 \nz\n\" style=\"fill:#ff7f0e;fill-opacity:0.75;stroke:#000000;stroke-linejoin:miter;stroke-width:0.760909;\"/>\n   </g>\n   <g id=\"patch_39\">\n    <path clip-path=\"url(#pa71a3d1aea)\" d=\"M 336.11108 224.64 \nL 343.72017 224.64 \nL 343.72017 214.211223 \nL 336.11108 214.211223 \nz\n\" style=\"fill:#ff7f0e;fill-opacity:0.75;stroke:#000000;stroke-linejoin:miter;stroke-width:0.760909;\"/>\n   </g>\n   <g id=\"patch_40\">\n    <path clip-path=\"url(#pa71a3d1aea)\" d=\"M 343.72017 224.64 \nL 351.329261 224.64 \nL 351.329261 214.211223 \nL 343.72017 214.211223 \nz\n\" style=\"fill:#ff7f0e;fill-opacity:0.75;stroke:#000000;stroke-linejoin:miter;stroke-width:0.760909;\"/>\n   </g>\n   <g id=\"patch_41\">\n    <path clip-path=\"url(#pa71a3d1aea)\" d=\"M 351.329261 224.64 \nL 358.938352 224.64 \nL 358.938352 218.680699 \nL 351.329261 218.680699 \nz\n\" style=\"fill:#ff7f0e;fill-opacity:0.75;stroke:#000000;stroke-linejoin:miter;stroke-width:0.760909;\"/>\n   </g>\n   <g id=\"patch_42\">\n    <path clip-path=\"url(#pa71a3d1aea)\" d=\"M 358.938352 224.64 \nL 366.547443 224.64 \nL 366.547443 221.660349 \nL 358.938352 221.660349 \nz\n\" style=\"fill:#ff7f0e;fill-opacity:0.75;stroke:#000000;stroke-linejoin:miter;stroke-width:0.760909;\"/>\n   </g>\n   <g id=\"patch_43\">\n    <path clip-path=\"url(#pa71a3d1aea)\" d=\"M 62.183807 224.64 \nL 69.792898 224.64 \nL 69.792898 218.680699 \nL 62.183807 218.680699 \nz\n\" style=\"fill:#1f77b4;fill-opacity:0.75;stroke:#000000;stroke-linejoin:miter;stroke-width:0.760909;\"/>\n   </g>\n   <g id=\"patch_44\">\n    <path clip-path=\"url(#pa71a3d1aea)\" d=\"M 69.792898 224.64 \nL 77.401989 224.64 \nL 77.401989 224.64 \nL 69.792898 224.64 \nz\n\" style=\"fill:#1f77b4;fill-opacity:0.75;stroke:#000000;stroke-linejoin:miter;stroke-width:0.760909;\"/>\n   </g>\n   <g id=\"patch_45\">\n    <path clip-path=\"url(#pa71a3d1aea)\" d=\"M 77.401989 224.64 \nL 85.01108 224.64 \nL 85.01108 217.190874 \nL 77.401989 217.190874 \nz\n\" style=\"fill:#1f77b4;fill-opacity:0.75;stroke:#000000;stroke-linejoin:miter;stroke-width:0.760909;\"/>\n   </g>\n   <g id=\"patch_46\">\n    <path clip-path=\"url(#pa71a3d1aea)\" d=\"M 85.01108 224.64 \nL 92.62017 224.64 \nL 92.62017 224.64 \nL 85.01108 224.64 \nz\n\" style=\"fill:#1f77b4;fill-opacity:0.75;stroke:#000000;stroke-linejoin:miter;stroke-width:0.760909;\"/>\n   </g>\n   <g id=\"patch_47\">\n    <path clip-path=\"url(#pa71a3d1aea)\" d=\"M 92.62017 224.64 \nL 100.229261 224.64 \nL 100.229261 217.190874 \nL 92.62017 217.190874 \nz\n\" style=\"fill:#1f77b4;fill-opacity:0.75;stroke:#000000;stroke-linejoin:miter;stroke-width:0.760909;\"/>\n   </g>\n   <g id=\"patch_48\">\n    <path clip-path=\"url(#pa71a3d1aea)\" d=\"M 100.229261 224.64 \nL 107.838352 224.64 \nL 107.838352 224.64 \nL 100.229261 224.64 \nz\n\" style=\"fill:#1f77b4;fill-opacity:0.75;stroke:#000000;stroke-linejoin:miter;stroke-width:0.760909;\"/>\n   </g>\n   <g id=\"patch_49\">\n    <path clip-path=\"url(#pa71a3d1aea)\" d=\"M 107.838352 224.64 \nL 115.447443 224.64 \nL 115.447443 224.64 \nL 107.838352 224.64 \nz\n\" style=\"fill:#1f77b4;fill-opacity:0.75;stroke:#000000;stroke-linejoin:miter;stroke-width:0.760909;\"/>\n   </g>\n   <g id=\"patch_50\">\n    <path clip-path=\"url(#pa71a3d1aea)\" d=\"M 115.447443 224.64 \nL 123.056534 224.64 \nL 123.056534 224.64 \nL 115.447443 224.64 \nz\n\" style=\"fill:#1f77b4;fill-opacity:0.75;stroke:#000000;stroke-linejoin:miter;stroke-width:0.760909;\"/>\n   </g>\n   <g id=\"patch_51\">\n    <path clip-path=\"url(#pa71a3d1aea)\" d=\"M 123.056534 224.64 \nL 130.665625 224.64 \nL 130.665625 211.231572 \nL 123.056534 211.231572 \nz\n\" style=\"fill:#1f77b4;fill-opacity:0.75;stroke:#000000;stroke-linejoin:miter;stroke-width:0.760909;\"/>\n   </g>\n   <g id=\"patch_52\">\n    <path clip-path=\"url(#pa71a3d1aea)\" d=\"M 130.665625 224.64 \nL 138.274716 224.64 \nL 138.274716 224.64 \nL 130.665625 224.64 \nz\n\" style=\"fill:#1f77b4;fill-opacity:0.75;stroke:#000000;stroke-linejoin:miter;stroke-width:0.760909;\"/>\n   </g>\n   <g id=\"patch_53\">\n    <path clip-path=\"url(#pa71a3d1aea)\" d=\"M 138.274716 224.64 \nL 145.883807 224.64 \nL 145.883807 218.680699 \nL 138.274716 218.680699 \nz\n\" style=\"fill:#1f77b4;fill-opacity:0.75;stroke:#000000;stroke-linejoin:miter;stroke-width:0.760909;\"/>\n   </g>\n   <g id=\"patch_54\">\n    <path clip-path=\"url(#pa71a3d1aea)\" d=\"M 145.883807 224.64 \nL 153.492898 224.64 \nL 153.492898 224.64 \nL 145.883807 224.64 \nz\n\" style=\"fill:#1f77b4;fill-opacity:0.75;stroke:#000000;stroke-linejoin:miter;stroke-width:0.760909;\"/>\n   </g>\n   <g id=\"patch_55\">\n    <path clip-path=\"url(#pa71a3d1aea)\" d=\"M 153.492898 224.64 \nL 161.101989 224.64 \nL 161.101989 212.721398 \nL 153.492898 212.721398 \nz\n\" style=\"fill:#1f77b4;fill-opacity:0.75;stroke:#000000;stroke-linejoin:miter;stroke-width:0.760909;\"/>\n   </g>\n   <g id=\"patch_56\">\n    <path clip-path=\"url(#pa71a3d1aea)\" d=\"M 161.101989 224.64 \nL 168.71108 224.64 \nL 168.71108 224.64 \nL 161.101989 224.64 \nz\n\" style=\"fill:#1f77b4;fill-opacity:0.75;stroke:#000000;stroke-linejoin:miter;stroke-width:0.760909;\"/>\n   </g>\n   <g id=\"patch_57\">\n    <path clip-path=\"url(#pa71a3d1aea)\" d=\"M 168.71108 224.64 \nL 176.32017 224.64 \nL 176.32017 206.762097 \nL 168.71108 206.762097 \nz\n\" style=\"fill:#1f77b4;fill-opacity:0.75;stroke:#000000;stroke-linejoin:miter;stroke-width:0.760909;\"/>\n   </g>\n   <g id=\"patch_58\">\n    <path clip-path=\"url(#pa71a3d1aea)\" d=\"M 176.32017 224.64 \nL 183.929261 224.64 \nL 183.929261 224.64 \nL 176.32017 224.64 \nz\n\" style=\"fill:#1f77b4;fill-opacity:0.75;stroke:#000000;stroke-linejoin:miter;stroke-width:0.760909;\"/>\n   </g>\n   <g id=\"patch_59\">\n    <path clip-path=\"url(#pa71a3d1aea)\" d=\"M 183.929261 224.64 \nL 191.538352 224.64 \nL 191.538352 178.455416 \nL 183.929261 178.455416 \nz\n\" style=\"fill:#1f77b4;fill-opacity:0.75;stroke:#000000;stroke-linejoin:miter;stroke-width:0.760909;\"/>\n   </g>\n   <g id=\"patch_60\">\n    <path clip-path=\"url(#pa71a3d1aea)\" d=\"M 191.538352 224.64 \nL 199.147443 224.64 \nL 199.147443 224.64 \nL 191.538352 224.64 \nz\n\" style=\"fill:#1f77b4;fill-opacity:0.75;stroke:#000000;stroke-linejoin:miter;stroke-width:0.760909;\"/>\n   </g>\n   <g id=\"patch_61\">\n    <path clip-path=\"url(#pa71a3d1aea)\" d=\"M 199.147443 224.64 \nL 206.756534 224.64 \nL 206.756534 218.680699 \nL 199.147443 218.680699 \nz\n\" style=\"fill:#1f77b4;fill-opacity:0.75;stroke:#000000;stroke-linejoin:miter;stroke-width:0.760909;\"/>\n   </g>\n   <g id=\"patch_62\">\n    <path clip-path=\"url(#pa71a3d1aea)\" d=\"M 206.756534 224.64 \nL 214.365625 224.64 \nL 214.365625 224.64 \nL 206.756534 224.64 \nz\n\" style=\"fill:#1f77b4;fill-opacity:0.75;stroke:#000000;stroke-linejoin:miter;stroke-width:0.760909;\"/>\n   </g>\n   <g id=\"patch_63\">\n    <path clip-path=\"url(#pa71a3d1aea)\" d=\"M 214.365625 224.64 \nL 221.974716 224.64 \nL 221.974716 187.394368 \nL 214.365625 187.394368 \nz\n\" style=\"fill:#1f77b4;fill-opacity:0.75;stroke:#000000;stroke-linejoin:miter;stroke-width:0.760909;\"/>\n   </g>\n   <g id=\"patch_64\">\n    <path clip-path=\"url(#pa71a3d1aea)\" d=\"M 221.974716 224.64 \nL 229.583807 224.64 \nL 229.583807 224.64 \nL 221.974716 224.64 \nz\n\" style=\"fill:#1f77b4;fill-opacity:0.75;stroke:#000000;stroke-linejoin:miter;stroke-width:0.760909;\"/>\n   </g>\n   <g id=\"patch_65\">\n    <path clip-path=\"url(#pa71a3d1aea)\" d=\"M 229.583807 224.64 \nL 237.192898 224.64 \nL 237.192898 176.965591 \nL 229.583807 176.965591 \nz\n\" style=\"fill:#1f77b4;fill-opacity:0.75;stroke:#000000;stroke-linejoin:miter;stroke-width:0.760909;\"/>\n   </g>\n   <g id=\"patch_66\">\n    <path clip-path=\"url(#pa71a3d1aea)\" d=\"M 237.192898 224.64 \nL 244.801989 224.64 \nL 244.801989 223.150175 \nL 237.192898 223.150175 \nz\n\" style=\"fill:#1f77b4;fill-opacity:0.75;stroke:#000000;stroke-linejoin:miter;stroke-width:0.760909;\"/>\n   </g>\n   <g id=\"patch_67\">\n    <path clip-path=\"url(#pa71a3d1aea)\" d=\"M 244.801989 224.64 \nL 252.41108 224.64 \nL 252.41108 148.658911 \nL 244.801989 148.658911 \nz\n\" style=\"fill:#1f77b4;fill-opacity:0.75;stroke:#000000;stroke-linejoin:miter;stroke-width:0.760909;\"/>\n   </g>\n   <g id=\"patch_68\">\n    <path clip-path=\"url(#pa71a3d1aea)\" d=\"M 252.41108 224.64 \nL 260.02017 224.64 \nL 260.02017 223.150175 \nL 252.41108 223.150175 \nz\n\" style=\"fill:#1f77b4;fill-opacity:0.75;stroke:#000000;stroke-linejoin:miter;stroke-width:0.760909;\"/>\n   </g>\n   <g id=\"patch_69\">\n    <path clip-path=\"url(#pa71a3d1aea)\" d=\"M 260.02017 224.64 \nL 267.629261 224.64 \nL 267.629261 144.189435 \nL 260.02017 144.189435 \nz\n\" style=\"fill:#1f77b4;fill-opacity:0.75;stroke:#000000;stroke-linejoin:miter;stroke-width:0.760909;\"/>\n   </g>\n   <g id=\"patch_70\">\n    <path clip-path=\"url(#pa71a3d1aea)\" d=\"M 267.629261 224.64 \nL 275.238352 224.64 \nL 275.238352 223.150175 \nL 267.629261 223.150175 \nz\n\" style=\"fill:#1f77b4;fill-opacity:0.75;stroke:#000000;stroke-linejoin:miter;stroke-width:0.760909;\"/>\n   </g>\n   <g id=\"patch_71\">\n    <path clip-path=\"url(#pa71a3d1aea)\" d=\"M 275.238352 224.64 \nL 282.847443 224.64 \nL 282.847443 75.657472 \nL 275.238352 75.657472 \nz\n\" style=\"fill:#1f77b4;fill-opacity:0.75;stroke:#000000;stroke-linejoin:miter;stroke-width:0.760909;\"/>\n   </g>\n   <g id=\"patch_72\">\n    <path clip-path=\"url(#pa71a3d1aea)\" d=\"M 282.847443 224.64 \nL 290.456534 224.64 \nL 290.456534 224.64 \nL 282.847443 224.64 \nz\n\" style=\"fill:#1f77b4;fill-opacity:0.75;stroke:#000000;stroke-linejoin:miter;stroke-width:0.760909;\"/>\n   </g>\n   <g id=\"patch_73\">\n    <path clip-path=\"url(#pa71a3d1aea)\" d=\"M 290.456534 224.64 \nL 298.065625 224.64 \nL 298.065625 35.432189 \nL 290.456534 35.432189 \nz\n\" style=\"fill:#1f77b4;fill-opacity:0.75;stroke:#000000;stroke-linejoin:miter;stroke-width:0.760909;\"/>\n   </g>\n   <g id=\"patch_74\">\n    <path clip-path=\"url(#pa71a3d1aea)\" d=\"M 298.065625 224.64 \nL 305.674716 224.64 \nL 305.674716 224.64 \nL 298.065625 224.64 \nz\n\" style=\"fill:#1f77b4;fill-opacity:0.75;stroke:#000000;stroke-linejoin:miter;stroke-width:0.760909;\"/>\n   </g>\n   <g id=\"patch_75\">\n    <path clip-path=\"url(#pa71a3d1aea)\" d=\"M 305.674716 224.64 \nL 313.283807 224.64 \nL 313.283807 17.554286 \nL 305.674716 17.554286 \nz\n\" style=\"fill:#1f77b4;fill-opacity:0.75;stroke:#000000;stroke-linejoin:miter;stroke-width:0.760909;\"/>\n   </g>\n   <g id=\"patch_76\">\n    <path clip-path=\"url(#pa71a3d1aea)\" d=\"M 313.283807 224.64 \nL 320.892898 224.64 \nL 320.892898 221.660349 \nL 313.283807 221.660349 \nz\n\" style=\"fill:#1f77b4;fill-opacity:0.75;stroke:#000000;stroke-linejoin:miter;stroke-width:0.760909;\"/>\n   </g>\n   <g id=\"patch_77\">\n    <path clip-path=\"url(#pa71a3d1aea)\" d=\"M 320.892898 224.64 \nL 328.501989 224.64 \nL 328.501989 136.740308 \nL 320.892898 136.740308 \nz\n\" style=\"fill:#1f77b4;fill-opacity:0.75;stroke:#000000;stroke-linejoin:miter;stroke-width:0.760909;\"/>\n   </g>\n   <g id=\"patch_78\">\n    <path clip-path=\"url(#pa71a3d1aea)\" d=\"M 328.501989 224.64 \nL 336.11108 224.64 \nL 336.11108 224.64 \nL 328.501989 224.64 \nz\n\" style=\"fill:#1f77b4;fill-opacity:0.75;stroke:#000000;stroke-linejoin:miter;stroke-width:0.760909;\"/>\n   </g>\n   <g id=\"patch_79\">\n    <path clip-path=\"url(#pa71a3d1aea)\" d=\"M 336.11108 224.64 \nL 343.72017 224.64 \nL 343.72017 159.087688 \nL 336.11108 159.087688 \nz\n\" style=\"fill:#1f77b4;fill-opacity:0.75;stroke:#000000;stroke-linejoin:miter;stroke-width:0.760909;\"/>\n   </g>\n   <g id=\"patch_80\">\n    <path clip-path=\"url(#pa71a3d1aea)\" d=\"M 343.72017 224.64 \nL 351.329261 224.64 \nL 351.329261 224.64 \nL 343.72017 224.64 \nz\n\" style=\"fill:#1f77b4;fill-opacity:0.75;stroke:#000000;stroke-linejoin:miter;stroke-width:0.760909;\"/>\n   </g>\n   <g id=\"patch_81\">\n    <path clip-path=\"url(#pa71a3d1aea)\" d=\"M 351.329261 224.64 \nL 358.938352 224.64 \nL 358.938352 197.823145 \nL 351.329261 197.823145 \nz\n\" style=\"fill:#1f77b4;fill-opacity:0.75;stroke:#000000;stroke-linejoin:miter;stroke-width:0.760909;\"/>\n   </g>\n   <g id=\"patch_82\">\n    <path clip-path=\"url(#pa71a3d1aea)\" d=\"M 358.938352 224.64 \nL 366.547443 224.64 \nL 366.547443 51.820267 \nL 358.938352 51.820267 \nz\n\" style=\"fill:#1f77b4;fill-opacity:0.75;stroke:#000000;stroke-linejoin:miter;stroke-width:0.760909;\"/>\n   </g>\n   <g id=\"matplotlib.axis_1\">\n    <g id=\"xtick_1\">\n     <g id=\"line2d_1\">\n      <defs>\n       <path d=\"M 0 0 \nL 0 3.5 \n\" id=\"m72e98ee12b\" style=\"stroke:#000000;stroke-width:0.8;\"/>\n      </defs>\n      <g>\n       <use style=\"stroke:#000000;stroke-width:0.8;\" x=\"62.183807\" xlink:href=\"#m72e98ee12b\" y=\"224.64\"/>\n      </g>\n     </g>\n     <g id=\"text_1\">\n      <!-- 0 -->\n      <g transform=\"translate(59.002557 239.238437)scale(0.1 -0.1)\">\n       <defs>\n        <path d=\"M 31.78125 66.40625 \nQ 24.171875 66.40625 20.328125 58.90625 \nQ 16.5 51.421875 16.5 36.375 \nQ 16.5 21.390625 20.328125 13.890625 \nQ 24.171875 6.390625 31.78125 6.390625 \nQ 39.453125 6.390625 43.28125 13.890625 \nQ 47.125 21.390625 47.125 36.375 \nQ 47.125 51.421875 43.28125 58.90625 \nQ 39.453125 66.40625 31.78125 66.40625 \nz\nM 31.78125 74.21875 \nQ 44.046875 74.21875 50.515625 64.515625 \nQ 56.984375 54.828125 56.984375 36.375 \nQ 56.984375 17.96875 50.515625 8.265625 \nQ 44.046875 -1.421875 31.78125 -1.421875 \nQ 19.53125 -1.421875 13.0625 8.265625 \nQ 6.59375 17.96875 6.59375 36.375 \nQ 6.59375 54.828125 13.0625 64.515625 \nQ 19.53125 74.21875 31.78125 74.21875 \nz\n\" id=\"DejaVuSans-48\"/>\n       </defs>\n       <use xlink:href=\"#DejaVuSans-48\"/>\n      </g>\n     </g>\n    </g>\n    <g id=\"xtick_2\">\n     <g id=\"line2d_2\">\n      <g>\n       <use style=\"stroke:#000000;stroke-width:0.8;\" x=\"123.056534\" xlink:href=\"#m72e98ee12b\" y=\"224.64\"/>\n      </g>\n     </g>\n     <g id=\"text_2\">\n      <!-- 1 -->\n      <g transform=\"translate(119.875284 239.238437)scale(0.1 -0.1)\">\n       <defs>\n        <path d=\"M 12.40625 8.296875 \nL 28.515625 8.296875 \nL 28.515625 63.921875 \nL 10.984375 60.40625 \nL 10.984375 69.390625 \nL 28.421875 72.90625 \nL 38.28125 72.90625 \nL 38.28125 8.296875 \nL 54.390625 8.296875 \nL 54.390625 0 \nL 12.40625 0 \nz\n\" id=\"DejaVuSans-49\"/>\n       </defs>\n       <use xlink:href=\"#DejaVuSans-49\"/>\n      </g>\n     </g>\n    </g>\n    <g id=\"xtick_3\">\n     <g id=\"line2d_3\">\n      <g>\n       <use style=\"stroke:#000000;stroke-width:0.8;\" x=\"183.929261\" xlink:href=\"#m72e98ee12b\" y=\"224.64\"/>\n      </g>\n     </g>\n     <g id=\"text_3\">\n      <!-- 2 -->\n      <g transform=\"translate(180.748011 239.238437)scale(0.1 -0.1)\">\n       <defs>\n        <path d=\"M 19.1875 8.296875 \nL 53.609375 8.296875 \nL 53.609375 0 \nL 7.328125 0 \nL 7.328125 8.296875 \nQ 12.9375 14.109375 22.625 23.890625 \nQ 32.328125 33.6875 34.8125 36.53125 \nQ 39.546875 41.84375 41.421875 45.53125 \nQ 43.3125 49.21875 43.3125 52.78125 \nQ 43.3125 58.59375 39.234375 62.25 \nQ 35.15625 65.921875 28.609375 65.921875 \nQ 23.96875 65.921875 18.8125 64.3125 \nQ 13.671875 62.703125 7.8125 59.421875 \nL 7.8125 69.390625 \nQ 13.765625 71.78125 18.9375 73 \nQ 24.125 74.21875 28.421875 74.21875 \nQ 39.75 74.21875 46.484375 68.546875 \nQ 53.21875 62.890625 53.21875 53.421875 \nQ 53.21875 48.921875 51.53125 44.890625 \nQ 49.859375 40.875 45.40625 35.40625 \nQ 44.1875 33.984375 37.640625 27.21875 \nQ 31.109375 20.453125 19.1875 8.296875 \nz\n\" id=\"DejaVuSans-50\"/>\n       </defs>\n       <use xlink:href=\"#DejaVuSans-50\"/>\n      </g>\n     </g>\n    </g>\n    <g id=\"xtick_4\">\n     <g id=\"line2d_4\">\n      <g>\n       <use style=\"stroke:#000000;stroke-width:0.8;\" x=\"244.801989\" xlink:href=\"#m72e98ee12b\" y=\"224.64\"/>\n      </g>\n     </g>\n     <g id=\"text_4\">\n      <!-- 3 -->\n      <g transform=\"translate(241.620739 239.238437)scale(0.1 -0.1)\">\n       <defs>\n        <path d=\"M 40.578125 39.3125 \nQ 47.65625 37.796875 51.625 33 \nQ 55.609375 28.21875 55.609375 21.1875 \nQ 55.609375 10.40625 48.1875 4.484375 \nQ 40.765625 -1.421875 27.09375 -1.421875 \nQ 22.515625 -1.421875 17.65625 -0.515625 \nQ 12.796875 0.390625 7.625 2.203125 \nL 7.625 11.71875 \nQ 11.71875 9.328125 16.59375 8.109375 \nQ 21.484375 6.890625 26.8125 6.890625 \nQ 36.078125 6.890625 40.9375 10.546875 \nQ 45.796875 14.203125 45.796875 21.1875 \nQ 45.796875 27.640625 41.28125 31.265625 \nQ 36.765625 34.90625 28.71875 34.90625 \nL 20.21875 34.90625 \nL 20.21875 43.015625 \nL 29.109375 43.015625 \nQ 36.375 43.015625 40.234375 45.921875 \nQ 44.09375 48.828125 44.09375 54.296875 \nQ 44.09375 59.90625 40.109375 62.90625 \nQ 36.140625 65.921875 28.71875 65.921875 \nQ 24.65625 65.921875 20.015625 65.03125 \nQ 15.375 64.15625 9.8125 62.3125 \nL 9.8125 71.09375 \nQ 15.4375 72.65625 20.34375 73.4375 \nQ 25.25 74.21875 29.59375 74.21875 \nQ 40.828125 74.21875 47.359375 69.109375 \nQ 53.90625 64.015625 53.90625 55.328125 \nQ 53.90625 49.265625 50.4375 45.09375 \nQ 46.96875 40.921875 40.578125 39.3125 \nz\n\" id=\"DejaVuSans-51\"/>\n       </defs>\n       <use xlink:href=\"#DejaVuSans-51\"/>\n      </g>\n     </g>\n    </g>\n    <g id=\"xtick_5\">\n     <g id=\"line2d_5\">\n      <g>\n       <use style=\"stroke:#000000;stroke-width:0.8;\" x=\"305.674716\" xlink:href=\"#m72e98ee12b\" y=\"224.64\"/>\n      </g>\n     </g>\n     <g id=\"text_5\">\n      <!-- 4 -->\n      <g transform=\"translate(302.493466 239.238437)scale(0.1 -0.1)\">\n       <defs>\n        <path d=\"M 37.796875 64.3125 \nL 12.890625 25.390625 \nL 37.796875 25.390625 \nz\nM 35.203125 72.90625 \nL 47.609375 72.90625 \nL 47.609375 25.390625 \nL 58.015625 25.390625 \nL 58.015625 17.1875 \nL 47.609375 17.1875 \nL 47.609375 0 \nL 37.796875 0 \nL 37.796875 17.1875 \nL 4.890625 17.1875 \nL 4.890625 26.703125 \nz\n\" id=\"DejaVuSans-52\"/>\n       </defs>\n       <use xlink:href=\"#DejaVuSans-52\"/>\n      </g>\n     </g>\n    </g>\n    <g id=\"xtick_6\">\n     <g id=\"line2d_6\">\n      <g>\n       <use style=\"stroke:#000000;stroke-width:0.8;\" x=\"366.547443\" xlink:href=\"#m72e98ee12b\" y=\"224.64\"/>\n      </g>\n     </g>\n     <g id=\"text_6\">\n      <!-- 5 -->\n      <g transform=\"translate(363.366193 239.238437)scale(0.1 -0.1)\">\n       <defs>\n        <path d=\"M 10.796875 72.90625 \nL 49.515625 72.90625 \nL 49.515625 64.59375 \nL 19.828125 64.59375 \nL 19.828125 46.734375 \nQ 21.96875 47.46875 24.109375 47.828125 \nQ 26.265625 48.1875 28.421875 48.1875 \nQ 40.625 48.1875 47.75 41.5 \nQ 54.890625 34.8125 54.890625 23.390625 \nQ 54.890625 11.625 47.5625 5.09375 \nQ 40.234375 -1.421875 26.90625 -1.421875 \nQ 22.3125 -1.421875 17.546875 -0.640625 \nQ 12.796875 0.140625 7.71875 1.703125 \nL 7.71875 11.625 \nQ 12.109375 9.234375 16.796875 8.0625 \nQ 21.484375 6.890625 26.703125 6.890625 \nQ 35.15625 6.890625 40.078125 11.328125 \nQ 45.015625 15.765625 45.015625 23.390625 \nQ 45.015625 31 40.078125 35.4375 \nQ 35.15625 39.890625 26.703125 39.890625 \nQ 22.75 39.890625 18.8125 39.015625 \nQ 14.890625 38.140625 10.796875 36.28125 \nz\n\" id=\"DejaVuSans-53\"/>\n       </defs>\n       <use xlink:href=\"#DejaVuSans-53\"/>\n      </g>\n     </g>\n    </g>\n   </g>\n   <g id=\"matplotlib.axis_2\">\n    <g id=\"ytick_1\">\n     <g id=\"line2d_7\">\n      <defs>\n       <path d=\"M 0 0 \nL -3.5 0 \n\" id=\"ma9fe2fc4cf\" style=\"stroke:#000000;stroke-width:0.8;\"/>\n      </defs>\n      <g>\n       <use style=\"stroke:#000000;stroke-width:0.8;\" x=\"46.965625\" xlink:href=\"#ma9fe2fc4cf\" y=\"224.64\"/>\n      </g>\n     </g>\n     <g id=\"text_7\">\n      <!-- 0 -->\n      <g transform=\"translate(33.603125 228.439219)scale(0.1 -0.1)\">\n       <use xlink:href=\"#DejaVuSans-48\"/>\n      </g>\n     </g>\n    </g>\n    <g id=\"ytick_2\">\n     <g id=\"line2d_8\">\n      <g>\n       <use style=\"stroke:#000000;stroke-width:0.8;\" x=\"46.965625\" xlink:href=\"#ma9fe2fc4cf\" y=\"194.843494\"/>\n      </g>\n     </g>\n     <g id=\"text_8\">\n      <!-- 20 -->\n      <g transform=\"translate(27.240625 198.642713)scale(0.1 -0.1)\">\n       <use xlink:href=\"#DejaVuSans-50\"/>\n       <use x=\"63.623047\" xlink:href=\"#DejaVuSans-48\"/>\n      </g>\n     </g>\n    </g>\n    <g id=\"ytick_3\">\n     <g id=\"line2d_9\">\n      <g>\n       <use style=\"stroke:#000000;stroke-width:0.8;\" x=\"46.965625\" xlink:href=\"#ma9fe2fc4cf\" y=\"165.046989\"/>\n      </g>\n     </g>\n     <g id=\"text_9\">\n      <!-- 40 -->\n      <g transform=\"translate(27.240625 168.846207)scale(0.1 -0.1)\">\n       <use xlink:href=\"#DejaVuSans-52\"/>\n       <use x=\"63.623047\" xlink:href=\"#DejaVuSans-48\"/>\n      </g>\n     </g>\n    </g>\n    <g id=\"ytick_4\">\n     <g id=\"line2d_10\">\n      <g>\n       <use style=\"stroke:#000000;stroke-width:0.8;\" x=\"46.965625\" xlink:href=\"#ma9fe2fc4cf\" y=\"135.250483\"/>\n      </g>\n     </g>\n     <g id=\"text_10\">\n      <!-- 60 -->\n      <g transform=\"translate(27.240625 139.049702)scale(0.1 -0.1)\">\n       <defs>\n        <path d=\"M 33.015625 40.375 \nQ 26.375 40.375 22.484375 35.828125 \nQ 18.609375 31.296875 18.609375 23.390625 \nQ 18.609375 15.53125 22.484375 10.953125 \nQ 26.375 6.390625 33.015625 6.390625 \nQ 39.65625 6.390625 43.53125 10.953125 \nQ 47.40625 15.53125 47.40625 23.390625 \nQ 47.40625 31.296875 43.53125 35.828125 \nQ 39.65625 40.375 33.015625 40.375 \nz\nM 52.59375 71.296875 \nL 52.59375 62.3125 \nQ 48.875 64.0625 45.09375 64.984375 \nQ 41.3125 65.921875 37.59375 65.921875 \nQ 27.828125 65.921875 22.671875 59.328125 \nQ 17.53125 52.734375 16.796875 39.40625 \nQ 19.671875 43.65625 24.015625 45.921875 \nQ 28.375 48.1875 33.59375 48.1875 \nQ 44.578125 48.1875 50.953125 41.515625 \nQ 57.328125 34.859375 57.328125 23.390625 \nQ 57.328125 12.15625 50.6875 5.359375 \nQ 44.046875 -1.421875 33.015625 -1.421875 \nQ 20.359375 -1.421875 13.671875 8.265625 \nQ 6.984375 17.96875 6.984375 36.375 \nQ 6.984375 53.65625 15.1875 63.9375 \nQ 23.390625 74.21875 37.203125 74.21875 \nQ 40.921875 74.21875 44.703125 73.484375 \nQ 48.484375 72.75 52.59375 71.296875 \nz\n\" id=\"DejaVuSans-54\"/>\n       </defs>\n       <use xlink:href=\"#DejaVuSans-54\"/>\n       <use x=\"63.623047\" xlink:href=\"#DejaVuSans-48\"/>\n      </g>\n     </g>\n    </g>\n    <g id=\"ytick_5\">\n     <g id=\"line2d_11\">\n      <g>\n       <use style=\"stroke:#000000;stroke-width:0.8;\" x=\"46.965625\" xlink:href=\"#ma9fe2fc4cf\" y=\"105.453977\"/>\n      </g>\n     </g>\n     <g id=\"text_11\">\n      <!-- 80 -->\n      <g transform=\"translate(27.240625 109.253196)scale(0.1 -0.1)\">\n       <defs>\n        <path d=\"M 31.78125 34.625 \nQ 24.75 34.625 20.71875 30.859375 \nQ 16.703125 27.09375 16.703125 20.515625 \nQ 16.703125 13.921875 20.71875 10.15625 \nQ 24.75 6.390625 31.78125 6.390625 \nQ 38.8125 6.390625 42.859375 10.171875 \nQ 46.921875 13.96875 46.921875 20.515625 \nQ 46.921875 27.09375 42.890625 30.859375 \nQ 38.875 34.625 31.78125 34.625 \nz\nM 21.921875 38.8125 \nQ 15.578125 40.375 12.03125 44.71875 \nQ 8.5 49.078125 8.5 55.328125 \nQ 8.5 64.0625 14.71875 69.140625 \nQ 20.953125 74.21875 31.78125 74.21875 \nQ 42.671875 74.21875 48.875 69.140625 \nQ 55.078125 64.0625 55.078125 55.328125 \nQ 55.078125 49.078125 51.53125 44.71875 \nQ 48 40.375 41.703125 38.8125 \nQ 48.828125 37.15625 52.796875 32.3125 \nQ 56.78125 27.484375 56.78125 20.515625 \nQ 56.78125 9.90625 50.3125 4.234375 \nQ 43.84375 -1.421875 31.78125 -1.421875 \nQ 19.734375 -1.421875 13.25 4.234375 \nQ 6.78125 9.90625 6.78125 20.515625 \nQ 6.78125 27.484375 10.78125 32.3125 \nQ 14.796875 37.15625 21.921875 38.8125 \nz\nM 18.3125 54.390625 \nQ 18.3125 48.734375 21.84375 45.5625 \nQ 25.390625 42.390625 31.78125 42.390625 \nQ 38.140625 42.390625 41.71875 45.5625 \nQ 45.3125 48.734375 45.3125 54.390625 \nQ 45.3125 60.0625 41.71875 63.234375 \nQ 38.140625 66.40625 31.78125 66.40625 \nQ 25.390625 66.40625 21.84375 63.234375 \nQ 18.3125 60.0625 18.3125 54.390625 \nz\n\" id=\"DejaVuSans-56\"/>\n       </defs>\n       <use xlink:href=\"#DejaVuSans-56\"/>\n       <use x=\"63.623047\" xlink:href=\"#DejaVuSans-48\"/>\n      </g>\n     </g>\n    </g>\n    <g id=\"ytick_6\">\n     <g id=\"line2d_12\">\n      <g>\n       <use style=\"stroke:#000000;stroke-width:0.8;\" x=\"46.965625\" xlink:href=\"#ma9fe2fc4cf\" y=\"75.657472\"/>\n      </g>\n     </g>\n     <g id=\"text_12\">\n      <!-- 100 -->\n      <g transform=\"translate(20.878125 79.45669)scale(0.1 -0.1)\">\n       <use xlink:href=\"#DejaVuSans-49\"/>\n       <use x=\"63.623047\" xlink:href=\"#DejaVuSans-48\"/>\n       <use x=\"127.246094\" xlink:href=\"#DejaVuSans-48\"/>\n      </g>\n     </g>\n    </g>\n    <g id=\"ytick_7\">\n     <g id=\"line2d_13\">\n      <g>\n       <use style=\"stroke:#000000;stroke-width:0.8;\" x=\"46.965625\" xlink:href=\"#ma9fe2fc4cf\" y=\"45.860966\"/>\n      </g>\n     </g>\n     <g id=\"text_13\">\n      <!-- 120 -->\n      <g transform=\"translate(20.878125 49.660185)scale(0.1 -0.1)\">\n       <use xlink:href=\"#DejaVuSans-49\"/>\n       <use x=\"63.623047\" xlink:href=\"#DejaVuSans-50\"/>\n       <use x=\"127.246094\" xlink:href=\"#DejaVuSans-48\"/>\n      </g>\n     </g>\n    </g>\n    <g id=\"ytick_8\">\n     <g id=\"line2d_14\">\n      <g>\n       <use style=\"stroke:#000000;stroke-width:0.8;\" x=\"46.965625\" xlink:href=\"#ma9fe2fc4cf\" y=\"16.06446\"/>\n      </g>\n     </g>\n     <g id=\"text_14\">\n      <!-- 140 -->\n      <g transform=\"translate(20.878125 19.863679)scale(0.1 -0.1)\">\n       <use xlink:href=\"#DejaVuSans-49\"/>\n       <use x=\"63.623047\" xlink:href=\"#DejaVuSans-52\"/>\n       <use x=\"127.246094\" xlink:href=\"#DejaVuSans-48\"/>\n      </g>\n     </g>\n    </g>\n    <g id=\"text_15\">\n     <!-- Count -->\n     <g transform=\"translate(14.798438 130.768437)rotate(-90)scale(0.1 -0.1)\">\n      <defs>\n       <path d=\"M 64.40625 67.28125 \nL 64.40625 56.890625 \nQ 59.421875 61.53125 53.78125 63.8125 \nQ 48.140625 66.109375 41.796875 66.109375 \nQ 29.296875 66.109375 22.65625 58.46875 \nQ 16.015625 50.828125 16.015625 36.375 \nQ 16.015625 21.96875 22.65625 14.328125 \nQ 29.296875 6.6875 41.796875 6.6875 \nQ 48.140625 6.6875 53.78125 8.984375 \nQ 59.421875 11.28125 64.40625 15.921875 \nL 64.40625 5.609375 \nQ 59.234375 2.09375 53.4375 0.328125 \nQ 47.65625 -1.421875 41.21875 -1.421875 \nQ 24.65625 -1.421875 15.125 8.703125 \nQ 5.609375 18.84375 5.609375 36.375 \nQ 5.609375 53.953125 15.125 64.078125 \nQ 24.65625 74.21875 41.21875 74.21875 \nQ 47.75 74.21875 53.53125 72.484375 \nQ 59.328125 70.75 64.40625 67.28125 \nz\n\" id=\"DejaVuSans-67\"/>\n       <path d=\"M 30.609375 48.390625 \nQ 23.390625 48.390625 19.1875 42.75 \nQ 14.984375 37.109375 14.984375 27.296875 \nQ 14.984375 17.484375 19.15625 11.84375 \nQ 23.34375 6.203125 30.609375 6.203125 \nQ 37.796875 6.203125 41.984375 11.859375 \nQ 46.1875 17.53125 46.1875 27.296875 \nQ 46.1875 37.015625 41.984375 42.703125 \nQ 37.796875 48.390625 30.609375 48.390625 \nz\nM 30.609375 56 \nQ 42.328125 56 49.015625 48.375 \nQ 55.71875 40.765625 55.71875 27.296875 \nQ 55.71875 13.875 49.015625 6.21875 \nQ 42.328125 -1.421875 30.609375 -1.421875 \nQ 18.84375 -1.421875 12.171875 6.21875 \nQ 5.515625 13.875 5.515625 27.296875 \nQ 5.515625 40.765625 12.171875 48.375 \nQ 18.84375 56 30.609375 56 \nz\n\" id=\"DejaVuSans-111\"/>\n       <path d=\"M 8.5 21.578125 \nL 8.5 54.6875 \nL 17.484375 54.6875 \nL 17.484375 21.921875 \nQ 17.484375 14.15625 20.5 10.265625 \nQ 23.53125 6.390625 29.59375 6.390625 \nQ 36.859375 6.390625 41.078125 11.03125 \nQ 45.3125 15.671875 45.3125 23.6875 \nL 45.3125 54.6875 \nL 54.296875 54.6875 \nL 54.296875 0 \nL 45.3125 0 \nL 45.3125 8.40625 \nQ 42.046875 3.421875 37.71875 1 \nQ 33.40625 -1.421875 27.6875 -1.421875 \nQ 18.265625 -1.421875 13.375 4.4375 \nQ 8.5 10.296875 8.5 21.578125 \nz\nM 31.109375 56 \nz\n\" id=\"DejaVuSans-117\"/>\n       <path d=\"M 54.890625 33.015625 \nL 54.890625 0 \nL 45.90625 0 \nL 45.90625 32.71875 \nQ 45.90625 40.484375 42.875 44.328125 \nQ 39.84375 48.1875 33.796875 48.1875 \nQ 26.515625 48.1875 22.3125 43.546875 \nQ 18.109375 38.921875 18.109375 30.90625 \nL 18.109375 0 \nL 9.078125 0 \nL 9.078125 54.6875 \nL 18.109375 54.6875 \nL 18.109375 46.1875 \nQ 21.34375 51.125 25.703125 53.5625 \nQ 30.078125 56 35.796875 56 \nQ 45.21875 56 50.046875 50.171875 \nQ 54.890625 44.34375 54.890625 33.015625 \nz\n\" id=\"DejaVuSans-110\"/>\n       <path d=\"M 18.3125 70.21875 \nL 18.3125 54.6875 \nL 36.8125 54.6875 \nL 36.8125 47.703125 \nL 18.3125 47.703125 \nL 18.3125 18.015625 \nQ 18.3125 11.328125 20.140625 9.421875 \nQ 21.96875 7.515625 27.59375 7.515625 \nL 36.8125 7.515625 \nL 36.8125 0 \nL 27.59375 0 \nQ 17.1875 0 13.234375 3.875 \nQ 9.28125 7.765625 9.28125 18.015625 \nL 9.28125 47.703125 \nL 2.6875 47.703125 \nL 2.6875 54.6875 \nL 9.28125 54.6875 \nL 9.28125 70.21875 \nz\n\" id=\"DejaVuSans-116\"/>\n      </defs>\n      <use xlink:href=\"#DejaVuSans-67\"/>\n      <use x=\"69.824219\" xlink:href=\"#DejaVuSans-111\"/>\n      <use x=\"131.005859\" xlink:href=\"#DejaVuSans-117\"/>\n      <use x=\"194.384766\" xlink:href=\"#DejaVuSans-110\"/>\n      <use x=\"257.763672\" xlink:href=\"#DejaVuSans-116\"/>\n     </g>\n    </g>\n   </g>\n   <g id=\"patch_83\">\n    <path d=\"M 46.965625 224.64 \nL 46.965625 7.2 \n\" style=\"fill:none;stroke:#000000;stroke-linecap:square;stroke-linejoin:miter;stroke-width:0.8;\"/>\n   </g>\n   <g id=\"patch_84\">\n    <path d=\"M 381.765625 224.64 \nL 381.765625 7.2 \n\" style=\"fill:none;stroke:#000000;stroke-linecap:square;stroke-linejoin:miter;stroke-width:0.8;\"/>\n   </g>\n   <g id=\"patch_85\">\n    <path d=\"M 46.965625 224.64 \nL 381.765625 224.64 \n\" style=\"fill:none;stroke:#000000;stroke-linecap:square;stroke-linejoin:miter;stroke-width:0.8;\"/>\n   </g>\n   <g id=\"patch_86\">\n    <path d=\"M 46.965625 7.2 \nL 381.765625 7.2 \n\" style=\"fill:none;stroke:#000000;stroke-linecap:square;stroke-linejoin:miter;stroke-width:0.8;\"/>\n   </g>\n   <g id=\"legend_1\">\n    <g id=\"patch_87\">\n     <path d=\"M 317.048438 44.55625 \nL 374.765625 44.55625 \nQ 376.765625 44.55625 376.765625 42.55625 \nL 376.765625 14.2 \nQ 376.765625 12.2 374.765625 12.2 \nL 317.048438 12.2 \nQ 315.048438 12.2 315.048438 14.2 \nL 315.048438 42.55625 \nQ 315.048438 44.55625 317.048438 44.55625 \nz\n\" style=\"fill:#ffffff;opacity:0.8;stroke:#cccccc;stroke-linejoin:miter;\"/>\n    </g>\n    <g id=\"patch_88\">\n     <path d=\"M 319.048438 23.798437 \nL 339.048438 23.798437 \nL 339.048438 16.798437 \nL 319.048438 16.798437 \nz\n\" style=\"fill:#1f77b4;fill-opacity:0.75;stroke:#000000;stroke-linejoin:miter;\"/>\n    </g>\n    <g id=\"text_16\">\n     <!-- Stars -->\n     <g transform=\"translate(347.048438 23.798437)scale(0.1 -0.1)\">\n      <defs>\n       <path d=\"M 53.515625 70.515625 \nL 53.515625 60.890625 \nQ 47.90625 63.578125 42.921875 64.890625 \nQ 37.9375 66.21875 33.296875 66.21875 \nQ 25.25 66.21875 20.875 63.09375 \nQ 16.5 59.96875 16.5 54.203125 \nQ 16.5 49.359375 19.40625 46.890625 \nQ 22.3125 44.4375 30.421875 42.921875 \nL 36.375 41.703125 \nQ 47.40625 39.59375 52.65625 34.296875 \nQ 57.90625 29 57.90625 20.125 \nQ 57.90625 9.515625 50.796875 4.046875 \nQ 43.703125 -1.421875 29.984375 -1.421875 \nQ 24.8125 -1.421875 18.96875 -0.25 \nQ 13.140625 0.921875 6.890625 3.21875 \nL 6.890625 13.375 \nQ 12.890625 10.015625 18.65625 8.296875 \nQ 24.421875 6.59375 29.984375 6.59375 \nQ 38.421875 6.59375 43.015625 9.90625 \nQ 47.609375 13.234375 47.609375 19.390625 \nQ 47.609375 24.75 44.3125 27.78125 \nQ 41.015625 30.8125 33.5 32.328125 \nL 27.484375 33.5 \nQ 16.453125 35.6875 11.515625 40.375 \nQ 6.59375 45.0625 6.59375 53.421875 \nQ 6.59375 63.09375 13.40625 68.65625 \nQ 20.21875 74.21875 32.171875 74.21875 \nQ 37.3125 74.21875 42.625 73.28125 \nQ 47.953125 72.359375 53.515625 70.515625 \nz\n\" id=\"DejaVuSans-83\"/>\n       <path d=\"M 34.28125 27.484375 \nQ 23.390625 27.484375 19.1875 25 \nQ 14.984375 22.515625 14.984375 16.5 \nQ 14.984375 11.71875 18.140625 8.90625 \nQ 21.296875 6.109375 26.703125 6.109375 \nQ 34.1875 6.109375 38.703125 11.40625 \nQ 43.21875 16.703125 43.21875 25.484375 \nL 43.21875 27.484375 \nz\nM 52.203125 31.203125 \nL 52.203125 0 \nL 43.21875 0 \nL 43.21875 8.296875 \nQ 40.140625 3.328125 35.546875 0.953125 \nQ 30.953125 -1.421875 24.3125 -1.421875 \nQ 15.921875 -1.421875 10.953125 3.296875 \nQ 6 8.015625 6 15.921875 \nQ 6 25.140625 12.171875 29.828125 \nQ 18.359375 34.515625 30.609375 34.515625 \nL 43.21875 34.515625 \nL 43.21875 35.40625 \nQ 43.21875 41.609375 39.140625 45 \nQ 35.0625 48.390625 27.6875 48.390625 \nQ 23 48.390625 18.546875 47.265625 \nQ 14.109375 46.140625 10.015625 43.890625 \nL 10.015625 52.203125 \nQ 14.9375 54.109375 19.578125 55.046875 \nQ 24.21875 56 28.609375 56 \nQ 40.484375 56 46.34375 49.84375 \nQ 52.203125 43.703125 52.203125 31.203125 \nz\n\" id=\"DejaVuSans-97\"/>\n       <path d=\"M 41.109375 46.296875 \nQ 39.59375 47.171875 37.8125 47.578125 \nQ 36.03125 48 33.890625 48 \nQ 26.265625 48 22.1875 43.046875 \nQ 18.109375 38.09375 18.109375 28.8125 \nL 18.109375 0 \nL 9.078125 0 \nL 9.078125 54.6875 \nL 18.109375 54.6875 \nL 18.109375 46.1875 \nQ 20.953125 51.171875 25.484375 53.578125 \nQ 30.03125 56 36.53125 56 \nQ 37.453125 56 38.578125 55.875 \nQ 39.703125 55.765625 41.0625 55.515625 \nz\n\" id=\"DejaVuSans-114\"/>\n       <path d=\"M 44.28125 53.078125 \nL 44.28125 44.578125 \nQ 40.484375 46.53125 36.375 47.5 \nQ 32.28125 48.484375 27.875 48.484375 \nQ 21.1875 48.484375 17.84375 46.4375 \nQ 14.5 44.390625 14.5 40.28125 \nQ 14.5 37.15625 16.890625 35.375 \nQ 19.28125 33.59375 26.515625 31.984375 \nL 29.59375 31.296875 \nQ 39.15625 29.25 43.1875 25.515625 \nQ 47.21875 21.78125 47.21875 15.09375 \nQ 47.21875 7.46875 41.1875 3.015625 \nQ 35.15625 -1.421875 24.609375 -1.421875 \nQ 20.21875 -1.421875 15.453125 -0.5625 \nQ 10.6875 0.296875 5.421875 2 \nL 5.421875 11.28125 \nQ 10.40625 8.6875 15.234375 7.390625 \nQ 20.0625 6.109375 24.8125 6.109375 \nQ 31.15625 6.109375 34.5625 8.28125 \nQ 37.984375 10.453125 37.984375 14.40625 \nQ 37.984375 18.0625 35.515625 20.015625 \nQ 33.0625 21.96875 24.703125 23.78125 \nL 21.578125 24.515625 \nQ 13.234375 26.265625 9.515625 29.90625 \nQ 5.8125 33.546875 5.8125 39.890625 \nQ 5.8125 47.609375 11.28125 51.796875 \nQ 16.75 56 26.8125 56 \nQ 31.78125 56 36.171875 55.265625 \nQ 40.578125 54.546875 44.28125 53.078125 \nz\n\" id=\"DejaVuSans-115\"/>\n      </defs>\n      <use xlink:href=\"#DejaVuSans-83\"/>\n      <use x=\"63.476562\" xlink:href=\"#DejaVuSans-116\"/>\n      <use x=\"102.685547\" xlink:href=\"#DejaVuSans-97\"/>\n      <use x=\"163.964844\" xlink:href=\"#DejaVuSans-114\"/>\n      <use x=\"205.078125\" xlink:href=\"#DejaVuSans-115\"/>\n     </g>\n    </g>\n    <g id=\"patch_89\">\n     <path d=\"M 319.048438 38.476562 \nL 339.048438 38.476562 \nL 339.048438 31.476562 \nL 319.048438 31.476562 \nz\n\" style=\"fill:#ff7f0e;fill-opacity:0.75;stroke:#000000;stroke-linejoin:miter;\"/>\n    </g>\n    <g id=\"text_17\">\n     <!-- 1 -->\n     <g transform=\"translate(347.048438 38.476562)scale(0.1 -0.1)\">\n      <use xlink:href=\"#DejaVuSans-49\"/>\n     </g>\n    </g>\n   </g>\n  </g>\n </g>\n <defs>\n  <clipPath id=\"pa71a3d1aea\">\n   <rect height=\"217.44\" width=\"334.8\" x=\"46.965625\" y=\"7.2\"/>\n  </clipPath>\n </defs>\n</svg>\n",
      "image/png": "[encoded data removed]"
     },
     "metadata": {
      "needs_background": "light"
     }
    }
   ],
   "source": [
    "sns.histplot([y_test,y_pred]);"
   ]
  },
  {
   "cell_type": "code",
   "execution_count": 51,
   "metadata": {},
   "outputs": [
    {
     "output_type": "execute_result",
     "data": {
      "text/plain": [
       "'/Users/zumiis/ramenML/src/models'"
      ]
     },
     "metadata": {},
     "execution_count": 51
    }
   ],
   "source": [
    "modelPath = os.path.abspath('../src/models/')\n",
    "filename = 'veryBasicModelMK1.sav'\n",
    "modelPath"
   ]
  },
  {
   "cell_type": "code",
   "execution_count": 52,
   "metadata": {},
   "outputs": [],
   "source": [
    "# save the model to disk\n",
    "pickle.dump(tunedModel, open(f'{modelPath}/{filename}', 'wb'))"
   ]
  },
  {
   "cell_type": "code",
   "execution_count": 53,
   "metadata": {},
   "outputs": [],
   "source": [
    "# load the model from disk\n",
    "loaded_model = pickle.load(open(f'{modelPath}/{filename}', 'rb'))"
   ]
  },
  {
   "cell_type": "code",
   "execution_count": 54,
   "metadata": {},
   "outputs": [],
   "source": [
    "y_pred = loaded_model.predict(X_test)"
   ]
  },
  {
   "cell_type": "code",
   "execution_count": 55,
   "metadata": {},
   "outputs": [
    {
     "output_type": "display_data",
     "data": {
      "text/plain": "<Figure size 432x288 with 1 Axes>",
      "image/svg+xml": "<?xml version=\"1.0\" encoding=\"utf-8\" standalone=\"no\"?>\n<!DOCTYPE svg PUBLIC \"-//W3C//DTD SVG 1.1//EN\"\n  \"http://www.w3.org/Graphics/SVG/1.1/DTD/svg11.dtd\">\n<!-- Created with matplotlib (https://matplotlib.org/) -->\n<svg height=\"248.518125pt\" version=\"1.1\" viewBox=\"0 0 388.965625 248.518125\" width=\"388.965625pt\" xmlns=\"http://www.w3.org/2000/svg\" xmlns:xlink=\"http://www.w3.org/1999/xlink\">\n <metadata>\n  <rdf:RDF xmlns:cc=\"http://creativecommons.org/ns#\" xmlns:dc=\"http://purl.org/dc/elements/1.1/\" xmlns:rdf=\"http://www.w3.org/1999/02/22-rdf-syntax-ns#\">\n   <cc:Work>\n    <dc:type rdf:resource=\"http://purl.org/dc/dcmitype/StillImage\"/>\n    <dc:date>2021-03-03T11:53:42.809011</dc:date>\n    <dc:format>image/svg+xml</dc:format>\n    <dc:creator>\n     <cc:Agent>\n      <dc:title>Matplotlib v3.3.1, https://matplotlib.org/</dc:title>\n     </cc:Agent>\n    </dc:creator>\n   </cc:Work>\n  </rdf:RDF>\n </metadata>\n <defs>\n  <style type=\"text/css\">*{stroke-linecap:butt;stroke-linejoin:round;}</style>\n </defs>\n <g id=\"figure_1\">\n  <g id=\"patch_1\">\n   <path d=\"M 0 248.518125 \nL 388.965625 248.518125 \nL 388.965625 0 \nL 0 0 \nz\n\" style=\"fill:none;\"/>\n  </g>\n  <g id=\"axes_1\">\n   <g id=\"patch_2\">\n    <path d=\"M 46.965625 224.64 \nL 381.765625 224.64 \nL 381.765625 7.2 \nL 46.965625 7.2 \nz\n\" style=\"fill:#ffffff;\"/>\n   </g>\n   <g id=\"patch_3\">\n    <path clip-path=\"url(#p02a947578a)\" d=\"M 62.183807 224.64 \nL 69.792898 224.64 \nL 69.792898 224.64 \nL 62.183807 224.64 \nz\n\" style=\"fill:#ff7f0e;fill-opacity:0.75;stroke:#000000;stroke-linejoin:miter;stroke-width:0.760909;\"/>\n   </g>\n   <g id=\"patch_4\">\n    <path clip-path=\"url(#p02a947578a)\" d=\"M 69.792898 224.64 \nL 77.401989 224.64 \nL 77.401989 224.64 \nL 69.792898 224.64 \nz\n\" style=\"fill:#ff7f0e;fill-opacity:0.75;stroke:#000000;stroke-linejoin:miter;stroke-width:0.760909;\"/>\n   </g>\n   <g id=\"patch_5\">\n    <path clip-path=\"url(#p02a947578a)\" d=\"M 77.401989 224.64 \nL 85.01108 224.64 \nL 85.01108 224.64 \nL 77.401989 224.64 \nz\n\" style=\"fill:#ff7f0e;fill-opacity:0.75;stroke:#000000;stroke-linejoin:miter;stroke-width:0.760909;\"/>\n   </g>\n   <g id=\"patch_6\">\n    <path clip-path=\"url(#p02a947578a)\" d=\"M 85.01108 224.64 \nL 92.62017 224.64 \nL 92.62017 224.64 \nL 85.01108 224.64 \nz\n\" style=\"fill:#ff7f0e;fill-opacity:0.75;stroke:#000000;stroke-linejoin:miter;stroke-width:0.760909;\"/>\n   </g>\n   <g id=\"patch_7\">\n    <path clip-path=\"url(#p02a947578a)\" d=\"M 92.62017 224.64 \nL 100.229261 224.64 \nL 100.229261 224.64 \nL 92.62017 224.64 \nz\n\" style=\"fill:#ff7f0e;fill-opacity:0.75;stroke:#000000;stroke-linejoin:miter;stroke-width:0.760909;\"/>\n   </g>\n   <g id=\"patch_8\">\n    <path clip-path=\"url(#p02a947578a)\" d=\"M 100.229261 224.64 \nL 107.838352 224.64 \nL 107.838352 224.64 \nL 100.229261 224.64 \nz\n\" style=\"fill:#ff7f0e;fill-opacity:0.75;stroke:#000000;stroke-linejoin:miter;stroke-width:0.760909;\"/>\n   </g>\n   <g id=\"patch_9\">\n    <path clip-path=\"url(#p02a947578a)\" d=\"M 107.838352 224.64 \nL 115.447443 224.64 \nL 115.447443 224.64 \nL 107.838352 224.64 \nz\n\" style=\"fill:#ff7f0e;fill-opacity:0.75;stroke:#000000;stroke-linejoin:miter;stroke-width:0.760909;\"/>\n   </g>\n   <g id=\"patch_10\">\n    <path clip-path=\"url(#p02a947578a)\" d=\"M 115.447443 224.64 \nL 123.056534 224.64 \nL 123.056534 224.64 \nL 115.447443 224.64 \nz\n\" style=\"fill:#ff7f0e;fill-opacity:0.75;stroke:#000000;stroke-linejoin:miter;stroke-width:0.760909;\"/>\n   </g>\n   <g id=\"patch_11\">\n    <path clip-path=\"url(#p02a947578a)\" d=\"M 123.056534 224.64 \nL 130.665625 224.64 \nL 130.665625 224.64 \nL 123.056534 224.64 \nz\n\" style=\"fill:#ff7f0e;fill-opacity:0.75;stroke:#000000;stroke-linejoin:miter;stroke-width:0.760909;\"/>\n   </g>\n   <g id=\"patch_12\">\n    <path clip-path=\"url(#p02a947578a)\" d=\"M 130.665625 224.64 \nL 138.274716 224.64 \nL 138.274716 224.64 \nL 130.665625 224.64 \nz\n\" style=\"fill:#ff7f0e;fill-opacity:0.75;stroke:#000000;stroke-linejoin:miter;stroke-width:0.760909;\"/>\n   </g>\n   <g id=\"patch_13\">\n    <path clip-path=\"url(#p02a947578a)\" d=\"M 138.274716 224.64 \nL 145.883807 224.64 \nL 145.883807 223.150175 \nL 138.274716 223.150175 \nz\n\" style=\"fill:#ff7f0e;fill-opacity:0.75;stroke:#000000;stroke-linejoin:miter;stroke-width:0.760909;\"/>\n   </g>\n   <g id=\"patch_14\">\n    <path clip-path=\"url(#p02a947578a)\" d=\"M 145.883807 224.64 \nL 153.492898 224.64 \nL 153.492898 224.64 \nL 145.883807 224.64 \nz\n\" style=\"fill:#ff7f0e;fill-opacity:0.75;stroke:#000000;stroke-linejoin:miter;stroke-width:0.760909;\"/>\n   </g>\n   <g id=\"patch_15\">\n    <path clip-path=\"url(#p02a947578a)\" d=\"M 153.492898 224.64 \nL 161.101989 224.64 \nL 161.101989 223.150175 \nL 153.492898 223.150175 \nz\n\" style=\"fill:#ff7f0e;fill-opacity:0.75;stroke:#000000;stroke-linejoin:miter;stroke-width:0.760909;\"/>\n   </g>\n   <g id=\"patch_16\">\n    <path clip-path=\"url(#p02a947578a)\" d=\"M 161.101989 224.64 \nL 168.71108 224.64 \nL 168.71108 223.150175 \nL 161.101989 223.150175 \nz\n\" style=\"fill:#ff7f0e;fill-opacity:0.75;stroke:#000000;stroke-linejoin:miter;stroke-width:0.760909;\"/>\n   </g>\n   <g id=\"patch_17\">\n    <path clip-path=\"url(#p02a947578a)\" d=\"M 168.71108 224.64 \nL 176.32017 224.64 \nL 176.32017 218.680699 \nL 168.71108 218.680699 \nz\n\" style=\"fill:#ff7f0e;fill-opacity:0.75;stroke:#000000;stroke-linejoin:miter;stroke-width:0.760909;\"/>\n   </g>\n   <g id=\"patch_18\">\n    <path clip-path=\"url(#p02a947578a)\" d=\"M 176.32017 224.64 \nL 183.929261 224.64 \nL 183.929261 224.64 \nL 176.32017 224.64 \nz\n\" style=\"fill:#ff7f0e;fill-opacity:0.75;stroke:#000000;stroke-linejoin:miter;stroke-width:0.760909;\"/>\n   </g>\n   <g id=\"patch_19\">\n    <path clip-path=\"url(#p02a947578a)\" d=\"M 183.929261 224.64 \nL 191.538352 224.64 \nL 191.538352 221.660349 \nL 183.929261 221.660349 \nz\n\" style=\"fill:#ff7f0e;fill-opacity:0.75;stroke:#000000;stroke-linejoin:miter;stroke-width:0.760909;\"/>\n   </g>\n   <g id=\"patch_20\">\n    <path clip-path=\"url(#p02a947578a)\" d=\"M 191.538352 224.64 \nL 199.147443 224.64 \nL 199.147443 223.150175 \nL 191.538352 223.150175 \nz\n\" style=\"fill:#ff7f0e;fill-opacity:0.75;stroke:#000000;stroke-linejoin:miter;stroke-width:0.760909;\"/>\n   </g>\n   <g id=\"patch_21\">\n    <path clip-path=\"url(#p02a947578a)\" d=\"M 199.147443 224.64 \nL 206.756534 224.64 \nL 206.756534 217.190874 \nL 199.147443 217.190874 \nz\n\" style=\"fill:#ff7f0e;fill-opacity:0.75;stroke:#000000;stroke-linejoin:miter;stroke-width:0.760909;\"/>\n   </g>\n   <g id=\"patch_22\">\n    <path clip-path=\"url(#p02a947578a)\" d=\"M 206.756534 224.64 \nL 214.365625 224.64 \nL 214.365625 217.190874 \nL 206.756534 217.190874 \nz\n\" style=\"fill:#ff7f0e;fill-opacity:0.75;stroke:#000000;stroke-linejoin:miter;stroke-width:0.760909;\"/>\n   </g>\n   <g id=\"patch_23\">\n    <path clip-path=\"url(#p02a947578a)\" d=\"M 214.365625 224.64 \nL 221.974716 224.64 \nL 221.974716 218.680699 \nL 214.365625 218.680699 \nz\n\" style=\"fill:#ff7f0e;fill-opacity:0.75;stroke:#000000;stroke-linejoin:miter;stroke-width:0.760909;\"/>\n   </g>\n   <g id=\"patch_24\">\n    <path clip-path=\"url(#p02a947578a)\" d=\"M 221.974716 224.64 \nL 229.583807 224.64 \nL 229.583807 214.211223 \nL 221.974716 214.211223 \nz\n\" style=\"fill:#ff7f0e;fill-opacity:0.75;stroke:#000000;stroke-linejoin:miter;stroke-width:0.760909;\"/>\n   </g>\n   <g id=\"patch_25\">\n    <path clip-path=\"url(#p02a947578a)\" d=\"M 229.583807 224.64 \nL 237.192898 224.64 \nL 237.192898 215.701048 \nL 229.583807 215.701048 \nz\n\" style=\"fill:#ff7f0e;fill-opacity:0.75;stroke:#000000;stroke-linejoin:miter;stroke-width:0.760909;\"/>\n   </g>\n   <g id=\"patch_26\">\n    <path clip-path=\"url(#p02a947578a)\" d=\"M 237.192898 224.64 \nL 244.801989 224.64 \nL 244.801989 194.843494 \nL 237.192898 194.843494 \nz\n\" style=\"fill:#ff7f0e;fill-opacity:0.75;stroke:#000000;stroke-linejoin:miter;stroke-width:0.760909;\"/>\n   </g>\n   <g id=\"patch_27\">\n    <path clip-path=\"url(#p02a947578a)\" d=\"M 244.801989 224.64 \nL 252.41108 224.64 \nL 252.41108 171.00629 \nL 244.801989 171.00629 \nz\n\" style=\"fill:#ff7f0e;fill-opacity:0.75;stroke:#000000;stroke-linejoin:miter;stroke-width:0.760909;\"/>\n   </g>\n   <g id=\"patch_28\">\n    <path clip-path=\"url(#p02a947578a)\" d=\"M 252.41108 224.64 \nL 260.02017 224.64 \nL 260.02017 102.474327 \nL 252.41108 102.474327 \nz\n\" style=\"fill:#ff7f0e;fill-opacity:0.75;stroke:#000000;stroke-linejoin:miter;stroke-width:0.760909;\"/>\n   </g>\n   <g id=\"patch_29\">\n    <path clip-path=\"url(#p02a947578a)\" d=\"M 260.02017 224.64 \nL 267.629261 224.64 \nL 267.629261 133.760658 \nL 260.02017 133.760658 \nz\n\" style=\"fill:#ff7f0e;fill-opacity:0.75;stroke:#000000;stroke-linejoin:miter;stroke-width:0.760909;\"/>\n   </g>\n   <g id=\"patch_30\">\n    <path clip-path=\"url(#p02a947578a)\" d=\"M 267.629261 224.64 \nL 275.238352 224.64 \nL 275.238352 138.230134 \nL 267.629261 138.230134 \nz\n\" style=\"fill:#ff7f0e;fill-opacity:0.75;stroke:#000000;stroke-linejoin:miter;stroke-width:0.760909;\"/>\n   </g>\n   <g id=\"patch_31\">\n    <path clip-path=\"url(#p02a947578a)\" d=\"M 275.238352 224.64 \nL 282.847443 224.64 \nL 282.847443 124.821706 \nL 275.238352 124.821706 \nz\n\" style=\"fill:#ff7f0e;fill-opacity:0.75;stroke:#000000;stroke-linejoin:miter;stroke-width:0.760909;\"/>\n   </g>\n   <g id=\"patch_32\">\n    <path clip-path=\"url(#p02a947578a)\" d=\"M 282.847443 224.64 \nL 290.456534 224.64 \nL 290.456534 53.310092 \nL 282.847443 53.310092 \nz\n\" style=\"fill:#ff7f0e;fill-opacity:0.75;stroke:#000000;stroke-linejoin:miter;stroke-width:0.760909;\"/>\n   </g>\n   <g id=\"patch_33\">\n    <path clip-path=\"url(#p02a947578a)\" d=\"M 290.456534 224.64 \nL 298.065625 224.64 \nL 298.065625 109.923453 \nL 290.456534 109.923453 \nz\n\" style=\"fill:#ff7f0e;fill-opacity:0.75;stroke:#000000;stroke-linejoin:miter;stroke-width:0.760909;\"/>\n   </g>\n   <g id=\"patch_34\">\n    <path clip-path=\"url(#p02a947578a)\" d=\"M 298.065625 224.64 \nL 305.674716 224.64 \nL 305.674716 105.453977 \nL 298.065625 105.453977 \nz\n\" style=\"fill:#ff7f0e;fill-opacity:0.75;stroke:#000000;stroke-linejoin:miter;stroke-width:0.760909;\"/>\n   </g>\n   <g id=\"patch_35\">\n    <path clip-path=\"url(#p02a947578a)\" d=\"M 305.674716 224.64 \nL 313.283807 224.64 \nL 313.283807 87.576074 \nL 305.674716 87.576074 \nz\n\" style=\"fill:#ff7f0e;fill-opacity:0.75;stroke:#000000;stroke-linejoin:miter;stroke-width:0.760909;\"/>\n   </g>\n   <g id=\"patch_36\">\n    <path clip-path=\"url(#p02a947578a)\" d=\"M 313.283807 224.64 \nL 320.892898 224.64 \nL 320.892898 157.597862 \nL 313.283807 157.597862 \nz\n\" style=\"fill:#ff7f0e;fill-opacity:0.75;stroke:#000000;stroke-linejoin:miter;stroke-width:0.760909;\"/>\n   </g>\n   <g id=\"patch_37\">\n    <path clip-path=\"url(#p02a947578a)\" d=\"M 320.892898 224.64 \nL 328.501989 224.64 \nL 328.501989 154.618212 \nL 320.892898 154.618212 \nz\n\" style=\"fill:#ff7f0e;fill-opacity:0.75;stroke:#000000;stroke-linejoin:miter;stroke-width:0.760909;\"/>\n   </g>\n   <g id=\"patch_38\">\n    <path clip-path=\"url(#p02a947578a)\" d=\"M 328.501989 224.64 \nL 336.11108 224.64 \nL 336.11108 202.292621 \nL 328.501989 202.292621 \nz\n\" style=\"fill:#ff7f0e;fill-opacity:0.75;stroke:#000000;stroke-linejoin:miter;stroke-width:0.760909;\"/>\n   </g>\n   <g id=\"patch_39\">\n    <path clip-path=\"url(#p02a947578a)\" d=\"M 336.11108 224.64 \nL 343.72017 224.64 \nL 343.72017 214.211223 \nL 336.11108 214.211223 \nz\n\" style=\"fill:#ff7f0e;fill-opacity:0.75;stroke:#000000;stroke-linejoin:miter;stroke-width:0.760909;\"/>\n   </g>\n   <g id=\"patch_40\">\n    <path clip-path=\"url(#p02a947578a)\" d=\"M 343.72017 224.64 \nL 351.329261 224.64 \nL 351.329261 214.211223 \nL 343.72017 214.211223 \nz\n\" style=\"fill:#ff7f0e;fill-opacity:0.75;stroke:#000000;stroke-linejoin:miter;stroke-width:0.760909;\"/>\n   </g>\n   <g id=\"patch_41\">\n    <path clip-path=\"url(#p02a947578a)\" d=\"M 351.329261 224.64 \nL 358.938352 224.64 \nL 358.938352 218.680699 \nL 351.329261 218.680699 \nz\n\" style=\"fill:#ff7f0e;fill-opacity:0.75;stroke:#000000;stroke-linejoin:miter;stroke-width:0.760909;\"/>\n   </g>\n   <g id=\"patch_42\">\n    <path clip-path=\"url(#p02a947578a)\" d=\"M 358.938352 224.64 \nL 366.547443 224.64 \nL 366.547443 221.660349 \nL 358.938352 221.660349 \nz\n\" style=\"fill:#ff7f0e;fill-opacity:0.75;stroke:#000000;stroke-linejoin:miter;stroke-width:0.760909;\"/>\n   </g>\n   <g id=\"patch_43\">\n    <path clip-path=\"url(#p02a947578a)\" d=\"M 62.183807 224.64 \nL 69.792898 224.64 \nL 69.792898 218.680699 \nL 62.183807 218.680699 \nz\n\" style=\"fill:#1f77b4;fill-opacity:0.75;stroke:#000000;stroke-linejoin:miter;stroke-width:0.760909;\"/>\n   </g>\n   <g id=\"patch_44\">\n    <path clip-path=\"url(#p02a947578a)\" d=\"M 69.792898 224.64 \nL 77.401989 224.64 \nL 77.401989 224.64 \nL 69.792898 224.64 \nz\n\" style=\"fill:#1f77b4;fill-opacity:0.75;stroke:#000000;stroke-linejoin:miter;stroke-width:0.760909;\"/>\n   </g>\n   <g id=\"patch_45\">\n    <path clip-path=\"url(#p02a947578a)\" d=\"M 77.401989 224.64 \nL 85.01108 224.64 \nL 85.01108 217.190874 \nL 77.401989 217.190874 \nz\n\" style=\"fill:#1f77b4;fill-opacity:0.75;stroke:#000000;stroke-linejoin:miter;stroke-width:0.760909;\"/>\n   </g>\n   <g id=\"patch_46\">\n    <path clip-path=\"url(#p02a947578a)\" d=\"M 85.01108 224.64 \nL 92.62017 224.64 \nL 92.62017 224.64 \nL 85.01108 224.64 \nz\n\" style=\"fill:#1f77b4;fill-opacity:0.75;stroke:#000000;stroke-linejoin:miter;stroke-width:0.760909;\"/>\n   </g>\n   <g id=\"patch_47\">\n    <path clip-path=\"url(#p02a947578a)\" d=\"M 92.62017 224.64 \nL 100.229261 224.64 \nL 100.229261 217.190874 \nL 92.62017 217.190874 \nz\n\" style=\"fill:#1f77b4;fill-opacity:0.75;stroke:#000000;stroke-linejoin:miter;stroke-width:0.760909;\"/>\n   </g>\n   <g id=\"patch_48\">\n    <path clip-path=\"url(#p02a947578a)\" d=\"M 100.229261 224.64 \nL 107.838352 224.64 \nL 107.838352 224.64 \nL 100.229261 224.64 \nz\n\" style=\"fill:#1f77b4;fill-opacity:0.75;stroke:#000000;stroke-linejoin:miter;stroke-width:0.760909;\"/>\n   </g>\n   <g id=\"patch_49\">\n    <path clip-path=\"url(#p02a947578a)\" d=\"M 107.838352 224.64 \nL 115.447443 224.64 \nL 115.447443 224.64 \nL 107.838352 224.64 \nz\n\" style=\"fill:#1f77b4;fill-opacity:0.75;stroke:#000000;stroke-linejoin:miter;stroke-width:0.760909;\"/>\n   </g>\n   <g id=\"patch_50\">\n    <path clip-path=\"url(#p02a947578a)\" d=\"M 115.447443 224.64 \nL 123.056534 224.64 \nL 123.056534 224.64 \nL 115.447443 224.64 \nz\n\" style=\"fill:#1f77b4;fill-opacity:0.75;stroke:#000000;stroke-linejoin:miter;stroke-width:0.760909;\"/>\n   </g>\n   <g id=\"patch_51\">\n    <path clip-path=\"url(#p02a947578a)\" d=\"M 123.056534 224.64 \nL 130.665625 224.64 \nL 130.665625 211.231572 \nL 123.056534 211.231572 \nz\n\" style=\"fill:#1f77b4;fill-opacity:0.75;stroke:#000000;stroke-linejoin:miter;stroke-width:0.760909;\"/>\n   </g>\n   <g id=\"patch_52\">\n    <path clip-path=\"url(#p02a947578a)\" d=\"M 130.665625 224.64 \nL 138.274716 224.64 \nL 138.274716 224.64 \nL 130.665625 224.64 \nz\n\" style=\"fill:#1f77b4;fill-opacity:0.75;stroke:#000000;stroke-linejoin:miter;stroke-width:0.760909;\"/>\n   </g>\n   <g id=\"patch_53\">\n    <path clip-path=\"url(#p02a947578a)\" d=\"M 138.274716 224.64 \nL 145.883807 224.64 \nL 145.883807 218.680699 \nL 138.274716 218.680699 \nz\n\" style=\"fill:#1f77b4;fill-opacity:0.75;stroke:#000000;stroke-linejoin:miter;stroke-width:0.760909;\"/>\n   </g>\n   <g id=\"patch_54\">\n    <path clip-path=\"url(#p02a947578a)\" d=\"M 145.883807 224.64 \nL 153.492898 224.64 \nL 153.492898 224.64 \nL 145.883807 224.64 \nz\n\" style=\"fill:#1f77b4;fill-opacity:0.75;stroke:#000000;stroke-linejoin:miter;stroke-width:0.760909;\"/>\n   </g>\n   <g id=\"patch_55\">\n    <path clip-path=\"url(#p02a947578a)\" d=\"M 153.492898 224.64 \nL 161.101989 224.64 \nL 161.101989 212.721398 \nL 153.492898 212.721398 \nz\n\" style=\"fill:#1f77b4;fill-opacity:0.75;stroke:#000000;stroke-linejoin:miter;stroke-width:0.760909;\"/>\n   </g>\n   <g id=\"patch_56\">\n    <path clip-path=\"url(#p02a947578a)\" d=\"M 161.101989 224.64 \nL 168.71108 224.64 \nL 168.71108 224.64 \nL 161.101989 224.64 \nz\n\" style=\"fill:#1f77b4;fill-opacity:0.75;stroke:#000000;stroke-linejoin:miter;stroke-width:0.760909;\"/>\n   </g>\n   <g id=\"patch_57\">\n    <path clip-path=\"url(#p02a947578a)\" d=\"M 168.71108 224.64 \nL 176.32017 224.64 \nL 176.32017 206.762097 \nL 168.71108 206.762097 \nz\n\" style=\"fill:#1f77b4;fill-opacity:0.75;stroke:#000000;stroke-linejoin:miter;stroke-width:0.760909;\"/>\n   </g>\n   <g id=\"patch_58\">\n    <path clip-path=\"url(#p02a947578a)\" d=\"M 176.32017 224.64 \nL 183.929261 224.64 \nL 183.929261 224.64 \nL 176.32017 224.64 \nz\n\" style=\"fill:#1f77b4;fill-opacity:0.75;stroke:#000000;stroke-linejoin:miter;stroke-width:0.760909;\"/>\n   </g>\n   <g id=\"patch_59\">\n    <path clip-path=\"url(#p02a947578a)\" d=\"M 183.929261 224.64 \nL 191.538352 224.64 \nL 191.538352 178.455416 \nL 183.929261 178.455416 \nz\n\" style=\"fill:#1f77b4;fill-opacity:0.75;stroke:#000000;stroke-linejoin:miter;stroke-width:0.760909;\"/>\n   </g>\n   <g id=\"patch_60\">\n    <path clip-path=\"url(#p02a947578a)\" d=\"M 191.538352 224.64 \nL 199.147443 224.64 \nL 199.147443 224.64 \nL 191.538352 224.64 \nz\n\" style=\"fill:#1f77b4;fill-opacity:0.75;stroke:#000000;stroke-linejoin:miter;stroke-width:0.760909;\"/>\n   </g>\n   <g id=\"patch_61\">\n    <path clip-path=\"url(#p02a947578a)\" d=\"M 199.147443 224.64 \nL 206.756534 224.64 \nL 206.756534 218.680699 \nL 199.147443 218.680699 \nz\n\" style=\"fill:#1f77b4;fill-opacity:0.75;stroke:#000000;stroke-linejoin:miter;stroke-width:0.760909;\"/>\n   </g>\n   <g id=\"patch_62\">\n    <path clip-path=\"url(#p02a947578a)\" d=\"M 206.756534 224.64 \nL 214.365625 224.64 \nL 214.365625 224.64 \nL 206.756534 224.64 \nz\n\" style=\"fill:#1f77b4;fill-opacity:0.75;stroke:#000000;stroke-linejoin:miter;stroke-width:0.760909;\"/>\n   </g>\n   <g id=\"patch_63\">\n    <path clip-path=\"url(#p02a947578a)\" d=\"M 214.365625 224.64 \nL 221.974716 224.64 \nL 221.974716 187.394368 \nL 214.365625 187.394368 \nz\n\" style=\"fill:#1f77b4;fill-opacity:0.75;stroke:#000000;stroke-linejoin:miter;stroke-width:0.760909;\"/>\n   </g>\n   <g id=\"patch_64\">\n    <path clip-path=\"url(#p02a947578a)\" d=\"M 221.974716 224.64 \nL 229.583807 224.64 \nL 229.583807 224.64 \nL 221.974716 224.64 \nz\n\" style=\"fill:#1f77b4;fill-opacity:0.75;stroke:#000000;stroke-linejoin:miter;stroke-width:0.760909;\"/>\n   </g>\n   <g id=\"patch_65\">\n    <path clip-path=\"url(#p02a947578a)\" d=\"M 229.583807 224.64 \nL 237.192898 224.64 \nL 237.192898 176.965591 \nL 229.583807 176.965591 \nz\n\" style=\"fill:#1f77b4;fill-opacity:0.75;stroke:#000000;stroke-linejoin:miter;stroke-width:0.760909;\"/>\n   </g>\n   <g id=\"patch_66\">\n    <path clip-path=\"url(#p02a947578a)\" d=\"M 237.192898 224.64 \nL 244.801989 224.64 \nL 244.801989 223.150175 \nL 237.192898 223.150175 \nz\n\" style=\"fill:#1f77b4;fill-opacity:0.75;stroke:#000000;stroke-linejoin:miter;stroke-width:0.760909;\"/>\n   </g>\n   <g id=\"patch_67\">\n    <path clip-path=\"url(#p02a947578a)\" d=\"M 244.801989 224.64 \nL 252.41108 224.64 \nL 252.41108 148.658911 \nL 244.801989 148.658911 \nz\n\" style=\"fill:#1f77b4;fill-opacity:0.75;stroke:#000000;stroke-linejoin:miter;stroke-width:0.760909;\"/>\n   </g>\n   <g id=\"patch_68\">\n    <path clip-path=\"url(#p02a947578a)\" d=\"M 252.41108 224.64 \nL 260.02017 224.64 \nL 260.02017 223.150175 \nL 252.41108 223.150175 \nz\n\" style=\"fill:#1f77b4;fill-opacity:0.75;stroke:#000000;stroke-linejoin:miter;stroke-width:0.760909;\"/>\n   </g>\n   <g id=\"patch_69\">\n    <path clip-path=\"url(#p02a947578a)\" d=\"M 260.02017 224.64 \nL 267.629261 224.64 \nL 267.629261 144.189435 \nL 260.02017 144.189435 \nz\n\" style=\"fill:#1f77b4;fill-opacity:0.75;stroke:#000000;stroke-linejoin:miter;stroke-width:0.760909;\"/>\n   </g>\n   <g id=\"patch_70\">\n    <path clip-path=\"url(#p02a947578a)\" d=\"M 267.629261 224.64 \nL 275.238352 224.64 \nL 275.238352 223.150175 \nL 267.629261 223.150175 \nz\n\" style=\"fill:#1f77b4;fill-opacity:0.75;stroke:#000000;stroke-linejoin:miter;stroke-width:0.760909;\"/>\n   </g>\n   <g id=\"patch_71\">\n    <path clip-path=\"url(#p02a947578a)\" d=\"M 275.238352 224.64 \nL 282.847443 224.64 \nL 282.847443 75.657472 \nL 275.238352 75.657472 \nz\n\" style=\"fill:#1f77b4;fill-opacity:0.75;stroke:#000000;stroke-linejoin:miter;stroke-width:0.760909;\"/>\n   </g>\n   <g id=\"patch_72\">\n    <path clip-path=\"url(#p02a947578a)\" d=\"M 282.847443 224.64 \nL 290.456534 224.64 \nL 290.456534 224.64 \nL 282.847443 224.64 \nz\n\" style=\"fill:#1f77b4;fill-opacity:0.75;stroke:#000000;stroke-linejoin:miter;stroke-width:0.760909;\"/>\n   </g>\n   <g id=\"patch_73\">\n    <path clip-path=\"url(#p02a947578a)\" d=\"M 290.456534 224.64 \nL 298.065625 224.64 \nL 298.065625 35.432189 \nL 290.456534 35.432189 \nz\n\" style=\"fill:#1f77b4;fill-opacity:0.75;stroke:#000000;stroke-linejoin:miter;stroke-width:0.760909;\"/>\n   </g>\n   <g id=\"patch_74\">\n    <path clip-path=\"url(#p02a947578a)\" d=\"M 298.065625 224.64 \nL 305.674716 224.64 \nL 305.674716 224.64 \nL 298.065625 224.64 \nz\n\" style=\"fill:#1f77b4;fill-opacity:0.75;stroke:#000000;stroke-linejoin:miter;stroke-width:0.760909;\"/>\n   </g>\n   <g id=\"patch_75\">\n    <path clip-path=\"url(#p02a947578a)\" d=\"M 305.674716 224.64 \nL 313.283807 224.64 \nL 313.283807 17.554286 \nL 305.674716 17.554286 \nz\n\" style=\"fill:#1f77b4;fill-opacity:0.75;stroke:#000000;stroke-linejoin:miter;stroke-width:0.760909;\"/>\n   </g>\n   <g id=\"patch_76\">\n    <path clip-path=\"url(#p02a947578a)\" d=\"M 313.283807 224.64 \nL 320.892898 224.64 \nL 320.892898 221.660349 \nL 313.283807 221.660349 \nz\n\" style=\"fill:#1f77b4;fill-opacity:0.75;stroke:#000000;stroke-linejoin:miter;stroke-width:0.760909;\"/>\n   </g>\n   <g id=\"patch_77\">\n    <path clip-path=\"url(#p02a947578a)\" d=\"M 320.892898 224.64 \nL 328.501989 224.64 \nL 328.501989 136.740308 \nL 320.892898 136.740308 \nz\n\" style=\"fill:#1f77b4;fill-opacity:0.75;stroke:#000000;stroke-linejoin:miter;stroke-width:0.760909;\"/>\n   </g>\n   <g id=\"patch_78\">\n    <path clip-path=\"url(#p02a947578a)\" d=\"M 328.501989 224.64 \nL 336.11108 224.64 \nL 336.11108 224.64 \nL 328.501989 224.64 \nz\n\" style=\"fill:#1f77b4;fill-opacity:0.75;stroke:#000000;stroke-linejoin:miter;stroke-width:0.760909;\"/>\n   </g>\n   <g id=\"patch_79\">\n    <path clip-path=\"url(#p02a947578a)\" d=\"M 336.11108 224.64 \nL 343.72017 224.64 \nL 343.72017 159.087688 \nL 336.11108 159.087688 \nz\n\" style=\"fill:#1f77b4;fill-opacity:0.75;stroke:#000000;stroke-linejoin:miter;stroke-width:0.760909;\"/>\n   </g>\n   <g id=\"patch_80\">\n    <path clip-path=\"url(#p02a947578a)\" d=\"M 343.72017 224.64 \nL 351.329261 224.64 \nL 351.329261 224.64 \nL 343.72017 224.64 \nz\n\" style=\"fill:#1f77b4;fill-opacity:0.75;stroke:#000000;stroke-linejoin:miter;stroke-width:0.760909;\"/>\n   </g>\n   <g id=\"patch_81\">\n    <path clip-path=\"url(#p02a947578a)\" d=\"M 351.329261 224.64 \nL 358.938352 224.64 \nL 358.938352 197.823145 \nL 351.329261 197.823145 \nz\n\" style=\"fill:#1f77b4;fill-opacity:0.75;stroke:#000000;stroke-linejoin:miter;stroke-width:0.760909;\"/>\n   </g>\n   <g id=\"patch_82\">\n    <path clip-path=\"url(#p02a947578a)\" d=\"M 358.938352 224.64 \nL 366.547443 224.64 \nL 366.547443 51.820267 \nL 358.938352 51.820267 \nz\n\" style=\"fill:#1f77b4;fill-opacity:0.75;stroke:#000000;stroke-linejoin:miter;stroke-width:0.760909;\"/>\n   </g>\n   <g id=\"matplotlib.axis_1\">\n    <g id=\"xtick_1\">\n     <g id=\"line2d_1\">\n      <defs>\n       <path d=\"M 0 0 \nL 0 3.5 \n\" id=\"mca53960f5c\" style=\"stroke:#000000;stroke-width:0.8;\"/>\n      </defs>\n      <g>\n       <use style=\"stroke:#000000;stroke-width:0.8;\" x=\"62.183807\" xlink:href=\"#mca53960f5c\" y=\"224.64\"/>\n      </g>\n     </g>\n     <g id=\"text_1\">\n      <!-- 0 -->\n      <g transform=\"translate(59.002557 239.238437)scale(0.1 -0.1)\">\n       <defs>\n        <path d=\"M 31.78125 66.40625 \nQ 24.171875 66.40625 20.328125 58.90625 \nQ 16.5 51.421875 16.5 36.375 \nQ 16.5 21.390625 20.328125 13.890625 \nQ 24.171875 6.390625 31.78125 6.390625 \nQ 39.453125 6.390625 43.28125 13.890625 \nQ 47.125 21.390625 47.125 36.375 \nQ 47.125 51.421875 43.28125 58.90625 \nQ 39.453125 66.40625 31.78125 66.40625 \nz\nM 31.78125 74.21875 \nQ 44.046875 74.21875 50.515625 64.515625 \nQ 56.984375 54.828125 56.984375 36.375 \nQ 56.984375 17.96875 50.515625 8.265625 \nQ 44.046875 -1.421875 31.78125 -1.421875 \nQ 19.53125 -1.421875 13.0625 8.265625 \nQ 6.59375 17.96875 6.59375 36.375 \nQ 6.59375 54.828125 13.0625 64.515625 \nQ 19.53125 74.21875 31.78125 74.21875 \nz\n\" id=\"DejaVuSans-48\"/>\n       </defs>\n       <use xlink:href=\"#DejaVuSans-48\"/>\n      </g>\n     </g>\n    </g>\n    <g id=\"xtick_2\">\n     <g id=\"line2d_2\">\n      <g>\n       <use style=\"stroke:#000000;stroke-width:0.8;\" x=\"123.056534\" xlink:href=\"#mca53960f5c\" y=\"224.64\"/>\n      </g>\n     </g>\n     <g id=\"text_2\">\n      <!-- 1 -->\n      <g transform=\"translate(119.875284 239.238437)scale(0.1 -0.1)\">\n       <defs>\n        <path d=\"M 12.40625 8.296875 \nL 28.515625 8.296875 \nL 28.515625 63.921875 \nL 10.984375 60.40625 \nL 10.984375 69.390625 \nL 28.421875 72.90625 \nL 38.28125 72.90625 \nL 38.28125 8.296875 \nL 54.390625 8.296875 \nL 54.390625 0 \nL 12.40625 0 \nz\n\" id=\"DejaVuSans-49\"/>\n       </defs>\n       <use xlink:href=\"#DejaVuSans-49\"/>\n      </g>\n     </g>\n    </g>\n    <g id=\"xtick_3\">\n     <g id=\"line2d_3\">\n      <g>\n       <use style=\"stroke:#000000;stroke-width:0.8;\" x=\"183.929261\" xlink:href=\"#mca53960f5c\" y=\"224.64\"/>\n      </g>\n     </g>\n     <g id=\"text_3\">\n      <!-- 2 -->\n      <g transform=\"translate(180.748011 239.238437)scale(0.1 -0.1)\">\n       <defs>\n        <path d=\"M 19.1875 8.296875 \nL 53.609375 8.296875 \nL 53.609375 0 \nL 7.328125 0 \nL 7.328125 8.296875 \nQ 12.9375 14.109375 22.625 23.890625 \nQ 32.328125 33.6875 34.8125 36.53125 \nQ 39.546875 41.84375 41.421875 45.53125 \nQ 43.3125 49.21875 43.3125 52.78125 \nQ 43.3125 58.59375 39.234375 62.25 \nQ 35.15625 65.921875 28.609375 65.921875 \nQ 23.96875 65.921875 18.8125 64.3125 \nQ 13.671875 62.703125 7.8125 59.421875 \nL 7.8125 69.390625 \nQ 13.765625 71.78125 18.9375 73 \nQ 24.125 74.21875 28.421875 74.21875 \nQ 39.75 74.21875 46.484375 68.546875 \nQ 53.21875 62.890625 53.21875 53.421875 \nQ 53.21875 48.921875 51.53125 44.890625 \nQ 49.859375 40.875 45.40625 35.40625 \nQ 44.1875 33.984375 37.640625 27.21875 \nQ 31.109375 20.453125 19.1875 8.296875 \nz\n\" id=\"DejaVuSans-50\"/>\n       </defs>\n       <use xlink:href=\"#DejaVuSans-50\"/>\n      </g>\n     </g>\n    </g>\n    <g id=\"xtick_4\">\n     <g id=\"line2d_4\">\n      <g>\n       <use style=\"stroke:#000000;stroke-width:0.8;\" x=\"244.801989\" xlink:href=\"#mca53960f5c\" y=\"224.64\"/>\n      </g>\n     </g>\n     <g id=\"text_4\">\n      <!-- 3 -->\n      <g transform=\"translate(241.620739 239.238437)scale(0.1 -0.1)\">\n       <defs>\n        <path d=\"M 40.578125 39.3125 \nQ 47.65625 37.796875 51.625 33 \nQ 55.609375 28.21875 55.609375 21.1875 \nQ 55.609375 10.40625 48.1875 4.484375 \nQ 40.765625 -1.421875 27.09375 -1.421875 \nQ 22.515625 -1.421875 17.65625 -0.515625 \nQ 12.796875 0.390625 7.625 2.203125 \nL 7.625 11.71875 \nQ 11.71875 9.328125 16.59375 8.109375 \nQ 21.484375 6.890625 26.8125 6.890625 \nQ 36.078125 6.890625 40.9375 10.546875 \nQ 45.796875 14.203125 45.796875 21.1875 \nQ 45.796875 27.640625 41.28125 31.265625 \nQ 36.765625 34.90625 28.71875 34.90625 \nL 20.21875 34.90625 \nL 20.21875 43.015625 \nL 29.109375 43.015625 \nQ 36.375 43.015625 40.234375 45.921875 \nQ 44.09375 48.828125 44.09375 54.296875 \nQ 44.09375 59.90625 40.109375 62.90625 \nQ 36.140625 65.921875 28.71875 65.921875 \nQ 24.65625 65.921875 20.015625 65.03125 \nQ 15.375 64.15625 9.8125 62.3125 \nL 9.8125 71.09375 \nQ 15.4375 72.65625 20.34375 73.4375 \nQ 25.25 74.21875 29.59375 74.21875 \nQ 40.828125 74.21875 47.359375 69.109375 \nQ 53.90625 64.015625 53.90625 55.328125 \nQ 53.90625 49.265625 50.4375 45.09375 \nQ 46.96875 40.921875 40.578125 39.3125 \nz\n\" id=\"DejaVuSans-51\"/>\n       </defs>\n       <use xlink:href=\"#DejaVuSans-51\"/>\n      </g>\n     </g>\n    </g>\n    <g id=\"xtick_5\">\n     <g id=\"line2d_5\">\n      <g>\n       <use style=\"stroke:#000000;stroke-width:0.8;\" x=\"305.674716\" xlink:href=\"#mca53960f5c\" y=\"224.64\"/>\n      </g>\n     </g>\n     <g id=\"text_5\">\n      <!-- 4 -->\n      <g transform=\"translate(302.493466 239.238437)scale(0.1 -0.1)\">\n       <defs>\n        <path d=\"M 37.796875 64.3125 \nL 12.890625 25.390625 \nL 37.796875 25.390625 \nz\nM 35.203125 72.90625 \nL 47.609375 72.90625 \nL 47.609375 25.390625 \nL 58.015625 25.390625 \nL 58.015625 17.1875 \nL 47.609375 17.1875 \nL 47.609375 0 \nL 37.796875 0 \nL 37.796875 17.1875 \nL 4.890625 17.1875 \nL 4.890625 26.703125 \nz\n\" id=\"DejaVuSans-52\"/>\n       </defs>\n       <use xlink:href=\"#DejaVuSans-52\"/>\n      </g>\n     </g>\n    </g>\n    <g id=\"xtick_6\">\n     <g id=\"line2d_6\">\n      <g>\n       <use style=\"stroke:#000000;stroke-width:0.8;\" x=\"366.547443\" xlink:href=\"#mca53960f5c\" y=\"224.64\"/>\n      </g>\n     </g>\n     <g id=\"text_6\">\n      <!-- 5 -->\n      <g transform=\"translate(363.366193 239.238437)scale(0.1 -0.1)\">\n       <defs>\n        <path d=\"M 10.796875 72.90625 \nL 49.515625 72.90625 \nL 49.515625 64.59375 \nL 19.828125 64.59375 \nL 19.828125 46.734375 \nQ 21.96875 47.46875 24.109375 47.828125 \nQ 26.265625 48.1875 28.421875 48.1875 \nQ 40.625 48.1875 47.75 41.5 \nQ 54.890625 34.8125 54.890625 23.390625 \nQ 54.890625 11.625 47.5625 5.09375 \nQ 40.234375 -1.421875 26.90625 -1.421875 \nQ 22.3125 -1.421875 17.546875 -0.640625 \nQ 12.796875 0.140625 7.71875 1.703125 \nL 7.71875 11.625 \nQ 12.109375 9.234375 16.796875 8.0625 \nQ 21.484375 6.890625 26.703125 6.890625 \nQ 35.15625 6.890625 40.078125 11.328125 \nQ 45.015625 15.765625 45.015625 23.390625 \nQ 45.015625 31 40.078125 35.4375 \nQ 35.15625 39.890625 26.703125 39.890625 \nQ 22.75 39.890625 18.8125 39.015625 \nQ 14.890625 38.140625 10.796875 36.28125 \nz\n\" id=\"DejaVuSans-53\"/>\n       </defs>\n       <use xlink:href=\"#DejaVuSans-53\"/>\n      </g>\n     </g>\n    </g>\n   </g>\n   <g id=\"matplotlib.axis_2\">\n    <g id=\"ytick_1\">\n     <g id=\"line2d_7\">\n      <defs>\n       <path d=\"M 0 0 \nL -3.5 0 \n\" id=\"mf12a39e519\" style=\"stroke:#000000;stroke-width:0.8;\"/>\n      </defs>\n      <g>\n       <use style=\"stroke:#000000;stroke-width:0.8;\" x=\"46.965625\" xlink:href=\"#mf12a39e519\" y=\"224.64\"/>\n      </g>\n     </g>\n     <g id=\"text_7\">\n      <!-- 0 -->\n      <g transform=\"translate(33.603125 228.439219)scale(0.1 -0.1)\">\n       <use xlink:href=\"#DejaVuSans-48\"/>\n      </g>\n     </g>\n    </g>\n    <g id=\"ytick_2\">\n     <g id=\"line2d_8\">\n      <g>\n       <use style=\"stroke:#000000;stroke-width:0.8;\" x=\"46.965625\" xlink:href=\"#mf12a39e519\" y=\"194.843494\"/>\n      </g>\n     </g>\n     <g id=\"text_8\">\n      <!-- 20 -->\n      <g transform=\"translate(27.240625 198.642713)scale(0.1 -0.1)\">\n       <use xlink:href=\"#DejaVuSans-50\"/>\n       <use x=\"63.623047\" xlink:href=\"#DejaVuSans-48\"/>\n      </g>\n     </g>\n    </g>\n    <g id=\"ytick_3\">\n     <g id=\"line2d_9\">\n      <g>\n       <use style=\"stroke:#000000;stroke-width:0.8;\" x=\"46.965625\" xlink:href=\"#mf12a39e519\" y=\"165.046989\"/>\n      </g>\n     </g>\n     <g id=\"text_9\">\n      <!-- 40 -->\n      <g transform=\"translate(27.240625 168.846207)scale(0.1 -0.1)\">\n       <use xlink:href=\"#DejaVuSans-52\"/>\n       <use x=\"63.623047\" xlink:href=\"#DejaVuSans-48\"/>\n      </g>\n     </g>\n    </g>\n    <g id=\"ytick_4\">\n     <g id=\"line2d_10\">\n      <g>\n       <use style=\"stroke:#000000;stroke-width:0.8;\" x=\"46.965625\" xlink:href=\"#mf12a39e519\" y=\"135.250483\"/>\n      </g>\n     </g>\n     <g id=\"text_10\">\n      <!-- 60 -->\n      <g transform=\"translate(27.240625 139.049702)scale(0.1 -0.1)\">\n       <defs>\n        <path d=\"M 33.015625 40.375 \nQ 26.375 40.375 22.484375 35.828125 \nQ 18.609375 31.296875 18.609375 23.390625 \nQ 18.609375 15.53125 22.484375 10.953125 \nQ 26.375 6.390625 33.015625 6.390625 \nQ 39.65625 6.390625 43.53125 10.953125 \nQ 47.40625 15.53125 47.40625 23.390625 \nQ 47.40625 31.296875 43.53125 35.828125 \nQ 39.65625 40.375 33.015625 40.375 \nz\nM 52.59375 71.296875 \nL 52.59375 62.3125 \nQ 48.875 64.0625 45.09375 64.984375 \nQ 41.3125 65.921875 37.59375 65.921875 \nQ 27.828125 65.921875 22.671875 59.328125 \nQ 17.53125 52.734375 16.796875 39.40625 \nQ 19.671875 43.65625 24.015625 45.921875 \nQ 28.375 48.1875 33.59375 48.1875 \nQ 44.578125 48.1875 50.953125 41.515625 \nQ 57.328125 34.859375 57.328125 23.390625 \nQ 57.328125 12.15625 50.6875 5.359375 \nQ 44.046875 -1.421875 33.015625 -1.421875 \nQ 20.359375 -1.421875 13.671875 8.265625 \nQ 6.984375 17.96875 6.984375 36.375 \nQ 6.984375 53.65625 15.1875 63.9375 \nQ 23.390625 74.21875 37.203125 74.21875 \nQ 40.921875 74.21875 44.703125 73.484375 \nQ 48.484375 72.75 52.59375 71.296875 \nz\n\" id=\"DejaVuSans-54\"/>\n       </defs>\n       <use xlink:href=\"#DejaVuSans-54\"/>\n       <use x=\"63.623047\" xlink:href=\"#DejaVuSans-48\"/>\n      </g>\n     </g>\n    </g>\n    <g id=\"ytick_5\">\n     <g id=\"line2d_11\">\n      <g>\n       <use style=\"stroke:#000000;stroke-width:0.8;\" x=\"46.965625\" xlink:href=\"#mf12a39e519\" y=\"105.453977\"/>\n      </g>\n     </g>\n     <g id=\"text_11\">\n      <!-- 80 -->\n      <g transform=\"translate(27.240625 109.253196)scale(0.1 -0.1)\">\n       <defs>\n        <path d=\"M 31.78125 34.625 \nQ 24.75 34.625 20.71875 30.859375 \nQ 16.703125 27.09375 16.703125 20.515625 \nQ 16.703125 13.921875 20.71875 10.15625 \nQ 24.75 6.390625 31.78125 6.390625 \nQ 38.8125 6.390625 42.859375 10.171875 \nQ 46.921875 13.96875 46.921875 20.515625 \nQ 46.921875 27.09375 42.890625 30.859375 \nQ 38.875 34.625 31.78125 34.625 \nz\nM 21.921875 38.8125 \nQ 15.578125 40.375 12.03125 44.71875 \nQ 8.5 49.078125 8.5 55.328125 \nQ 8.5 64.0625 14.71875 69.140625 \nQ 20.953125 74.21875 31.78125 74.21875 \nQ 42.671875 74.21875 48.875 69.140625 \nQ 55.078125 64.0625 55.078125 55.328125 \nQ 55.078125 49.078125 51.53125 44.71875 \nQ 48 40.375 41.703125 38.8125 \nQ 48.828125 37.15625 52.796875 32.3125 \nQ 56.78125 27.484375 56.78125 20.515625 \nQ 56.78125 9.90625 50.3125 4.234375 \nQ 43.84375 -1.421875 31.78125 -1.421875 \nQ 19.734375 -1.421875 13.25 4.234375 \nQ 6.78125 9.90625 6.78125 20.515625 \nQ 6.78125 27.484375 10.78125 32.3125 \nQ 14.796875 37.15625 21.921875 38.8125 \nz\nM 18.3125 54.390625 \nQ 18.3125 48.734375 21.84375 45.5625 \nQ 25.390625 42.390625 31.78125 42.390625 \nQ 38.140625 42.390625 41.71875 45.5625 \nQ 45.3125 48.734375 45.3125 54.390625 \nQ 45.3125 60.0625 41.71875 63.234375 \nQ 38.140625 66.40625 31.78125 66.40625 \nQ 25.390625 66.40625 21.84375 63.234375 \nQ 18.3125 60.0625 18.3125 54.390625 \nz\n\" id=\"DejaVuSans-56\"/>\n       </defs>\n       <use xlink:href=\"#DejaVuSans-56\"/>\n       <use x=\"63.623047\" xlink:href=\"#DejaVuSans-48\"/>\n      </g>\n     </g>\n    </g>\n    <g id=\"ytick_6\">\n     <g id=\"line2d_12\">\n      <g>\n       <use style=\"stroke:#000000;stroke-width:0.8;\" x=\"46.965625\" xlink:href=\"#mf12a39e519\" y=\"75.657472\"/>\n      </g>\n     </g>\n     <g id=\"text_12\">\n      <!-- 100 -->\n      <g transform=\"translate(20.878125 79.45669)scale(0.1 -0.1)\">\n       <use xlink:href=\"#DejaVuSans-49\"/>\n       <use x=\"63.623047\" xlink:href=\"#DejaVuSans-48\"/>\n       <use x=\"127.246094\" xlink:href=\"#DejaVuSans-48\"/>\n      </g>\n     </g>\n    </g>\n    <g id=\"ytick_7\">\n     <g id=\"line2d_13\">\n      <g>\n       <use style=\"stroke:#000000;stroke-width:0.8;\" x=\"46.965625\" xlink:href=\"#mf12a39e519\" y=\"45.860966\"/>\n      </g>\n     </g>\n     <g id=\"text_13\">\n      <!-- 120 -->\n      <g transform=\"translate(20.878125 49.660185)scale(0.1 -0.1)\">\n       <use xlink:href=\"#DejaVuSans-49\"/>\n       <use x=\"63.623047\" xlink:href=\"#DejaVuSans-50\"/>\n       <use x=\"127.246094\" xlink:href=\"#DejaVuSans-48\"/>\n      </g>\n     </g>\n    </g>\n    <g id=\"ytick_8\">\n     <g id=\"line2d_14\">\n      <g>\n       <use style=\"stroke:#000000;stroke-width:0.8;\" x=\"46.965625\" xlink:href=\"#mf12a39e519\" y=\"16.06446\"/>\n      </g>\n     </g>\n     <g id=\"text_14\">\n      <!-- 140 -->\n      <g transform=\"translate(20.878125 19.863679)scale(0.1 -0.1)\">\n       <use xlink:href=\"#DejaVuSans-49\"/>\n       <use x=\"63.623047\" xlink:href=\"#DejaVuSans-52\"/>\n       <use x=\"127.246094\" xlink:href=\"#DejaVuSans-48\"/>\n      </g>\n     </g>\n    </g>\n    <g id=\"text_15\">\n     <!-- Count -->\n     <g transform=\"translate(14.798438 130.768437)rotate(-90)scale(0.1 -0.1)\">\n      <defs>\n       <path d=\"M 64.40625 67.28125 \nL 64.40625 56.890625 \nQ 59.421875 61.53125 53.78125 63.8125 \nQ 48.140625 66.109375 41.796875 66.109375 \nQ 29.296875 66.109375 22.65625 58.46875 \nQ 16.015625 50.828125 16.015625 36.375 \nQ 16.015625 21.96875 22.65625 14.328125 \nQ 29.296875 6.6875 41.796875 6.6875 \nQ 48.140625 6.6875 53.78125 8.984375 \nQ 59.421875 11.28125 64.40625 15.921875 \nL 64.40625 5.609375 \nQ 59.234375 2.09375 53.4375 0.328125 \nQ 47.65625 -1.421875 41.21875 -1.421875 \nQ 24.65625 -1.421875 15.125 8.703125 \nQ 5.609375 18.84375 5.609375 36.375 \nQ 5.609375 53.953125 15.125 64.078125 \nQ 24.65625 74.21875 41.21875 74.21875 \nQ 47.75 74.21875 53.53125 72.484375 \nQ 59.328125 70.75 64.40625 67.28125 \nz\n\" id=\"DejaVuSans-67\"/>\n       <path d=\"M 30.609375 48.390625 \nQ 23.390625 48.390625 19.1875 42.75 \nQ 14.984375 37.109375 14.984375 27.296875 \nQ 14.984375 17.484375 19.15625 11.84375 \nQ 23.34375 6.203125 30.609375 6.203125 \nQ 37.796875 6.203125 41.984375 11.859375 \nQ 46.1875 17.53125 46.1875 27.296875 \nQ 46.1875 37.015625 41.984375 42.703125 \nQ 37.796875 48.390625 30.609375 48.390625 \nz\nM 30.609375 56 \nQ 42.328125 56 49.015625 48.375 \nQ 55.71875 40.765625 55.71875 27.296875 \nQ 55.71875 13.875 49.015625 6.21875 \nQ 42.328125 -1.421875 30.609375 -1.421875 \nQ 18.84375 -1.421875 12.171875 6.21875 \nQ 5.515625 13.875 5.515625 27.296875 \nQ 5.515625 40.765625 12.171875 48.375 \nQ 18.84375 56 30.609375 56 \nz\n\" id=\"DejaVuSans-111\"/>\n       <path d=\"M 8.5 21.578125 \nL 8.5 54.6875 \nL 17.484375 54.6875 \nL 17.484375 21.921875 \nQ 17.484375 14.15625 20.5 10.265625 \nQ 23.53125 6.390625 29.59375 6.390625 \nQ 36.859375 6.390625 41.078125 11.03125 \nQ 45.3125 15.671875 45.3125 23.6875 \nL 45.3125 54.6875 \nL 54.296875 54.6875 \nL 54.296875 0 \nL 45.3125 0 \nL 45.3125 8.40625 \nQ 42.046875 3.421875 37.71875 1 \nQ 33.40625 -1.421875 27.6875 -1.421875 \nQ 18.265625 -1.421875 13.375 4.4375 \nQ 8.5 10.296875 8.5 21.578125 \nz\nM 31.109375 56 \nz\n\" id=\"DejaVuSans-117\"/>\n       <path d=\"M 54.890625 33.015625 \nL 54.890625 0 \nL 45.90625 0 \nL 45.90625 32.71875 \nQ 45.90625 40.484375 42.875 44.328125 \nQ 39.84375 48.1875 33.796875 48.1875 \nQ 26.515625 48.1875 22.3125 43.546875 \nQ 18.109375 38.921875 18.109375 30.90625 \nL 18.109375 0 \nL 9.078125 0 \nL 9.078125 54.6875 \nL 18.109375 54.6875 \nL 18.109375 46.1875 \nQ 21.34375 51.125 25.703125 53.5625 \nQ 30.078125 56 35.796875 56 \nQ 45.21875 56 50.046875 50.171875 \nQ 54.890625 44.34375 54.890625 33.015625 \nz\n\" id=\"DejaVuSans-110\"/>\n       <path d=\"M 18.3125 70.21875 \nL 18.3125 54.6875 \nL 36.8125 54.6875 \nL 36.8125 47.703125 \nL 18.3125 47.703125 \nL 18.3125 18.015625 \nQ 18.3125 11.328125 20.140625 9.421875 \nQ 21.96875 7.515625 27.59375 7.515625 \nL 36.8125 7.515625 \nL 36.8125 0 \nL 27.59375 0 \nQ 17.1875 0 13.234375 3.875 \nQ 9.28125 7.765625 9.28125 18.015625 \nL 9.28125 47.703125 \nL 2.6875 47.703125 \nL 2.6875 54.6875 \nL 9.28125 54.6875 \nL 9.28125 70.21875 \nz\n\" id=\"DejaVuSans-116\"/>\n      </defs>\n      <use xlink:href=\"#DejaVuSans-67\"/>\n      <use x=\"69.824219\" xlink:href=\"#DejaVuSans-111\"/>\n      <use x=\"131.005859\" xlink:href=\"#DejaVuSans-117\"/>\n      <use x=\"194.384766\" xlink:href=\"#DejaVuSans-110\"/>\n      <use x=\"257.763672\" xlink:href=\"#DejaVuSans-116\"/>\n     </g>\n    </g>\n   </g>\n   <g id=\"patch_83\">\n    <path d=\"M 46.965625 224.64 \nL 46.965625 7.2 \n\" style=\"fill:none;stroke:#000000;stroke-linecap:square;stroke-linejoin:miter;stroke-width:0.8;\"/>\n   </g>\n   <g id=\"patch_84\">\n    <path d=\"M 381.765625 224.64 \nL 381.765625 7.2 \n\" style=\"fill:none;stroke:#000000;stroke-linecap:square;stroke-linejoin:miter;stroke-width:0.8;\"/>\n   </g>\n   <g id=\"patch_85\">\n    <path d=\"M 46.965625 224.64 \nL 381.765625 224.64 \n\" style=\"fill:none;stroke:#000000;stroke-linecap:square;stroke-linejoin:miter;stroke-width:0.8;\"/>\n   </g>\n   <g id=\"patch_86\">\n    <path d=\"M 46.965625 7.2 \nL 381.765625 7.2 \n\" style=\"fill:none;stroke:#000000;stroke-linecap:square;stroke-linejoin:miter;stroke-width:0.8;\"/>\n   </g>\n   <g id=\"legend_1\">\n    <g id=\"patch_87\">\n     <path d=\"M 317.048438 44.55625 \nL 374.765625 44.55625 \nQ 376.765625 44.55625 376.765625 42.55625 \nL 376.765625 14.2 \nQ 376.765625 12.2 374.765625 12.2 \nL 317.048438 12.2 \nQ 315.048438 12.2 315.048438 14.2 \nL 315.048438 42.55625 \nQ 315.048438 44.55625 317.048438 44.55625 \nz\n\" style=\"fill:#ffffff;opacity:0.8;stroke:#cccccc;stroke-linejoin:miter;\"/>\n    </g>\n    <g id=\"patch_88\">\n     <path d=\"M 319.048438 23.798437 \nL 339.048438 23.798437 \nL 339.048438 16.798437 \nL 319.048438 16.798437 \nz\n\" style=\"fill:#1f77b4;fill-opacity:0.75;stroke:#000000;stroke-linejoin:miter;\"/>\n    </g>\n    <g id=\"text_16\">\n     <!-- Stars -->\n     <g transform=\"translate(347.048438 23.798437)scale(0.1 -0.1)\">\n      <defs>\n       <path d=\"M 53.515625 70.515625 \nL 53.515625 60.890625 \nQ 47.90625 63.578125 42.921875 64.890625 \nQ 37.9375 66.21875 33.296875 66.21875 \nQ 25.25 66.21875 20.875 63.09375 \nQ 16.5 59.96875 16.5 54.203125 \nQ 16.5 49.359375 19.40625 46.890625 \nQ 22.3125 44.4375 30.421875 42.921875 \nL 36.375 41.703125 \nQ 47.40625 39.59375 52.65625 34.296875 \nQ 57.90625 29 57.90625 20.125 \nQ 57.90625 9.515625 50.796875 4.046875 \nQ 43.703125 -1.421875 29.984375 -1.421875 \nQ 24.8125 -1.421875 18.96875 -0.25 \nQ 13.140625 0.921875 6.890625 3.21875 \nL 6.890625 13.375 \nQ 12.890625 10.015625 18.65625 8.296875 \nQ 24.421875 6.59375 29.984375 6.59375 \nQ 38.421875 6.59375 43.015625 9.90625 \nQ 47.609375 13.234375 47.609375 19.390625 \nQ 47.609375 24.75 44.3125 27.78125 \nQ 41.015625 30.8125 33.5 32.328125 \nL 27.484375 33.5 \nQ 16.453125 35.6875 11.515625 40.375 \nQ 6.59375 45.0625 6.59375 53.421875 \nQ 6.59375 63.09375 13.40625 68.65625 \nQ 20.21875 74.21875 32.171875 74.21875 \nQ 37.3125 74.21875 42.625 73.28125 \nQ 47.953125 72.359375 53.515625 70.515625 \nz\n\" id=\"DejaVuSans-83\"/>\n       <path d=\"M 34.28125 27.484375 \nQ 23.390625 27.484375 19.1875 25 \nQ 14.984375 22.515625 14.984375 16.5 \nQ 14.984375 11.71875 18.140625 8.90625 \nQ 21.296875 6.109375 26.703125 6.109375 \nQ 34.1875 6.109375 38.703125 11.40625 \nQ 43.21875 16.703125 43.21875 25.484375 \nL 43.21875 27.484375 \nz\nM 52.203125 31.203125 \nL 52.203125 0 \nL 43.21875 0 \nL 43.21875 8.296875 \nQ 40.140625 3.328125 35.546875 0.953125 \nQ 30.953125 -1.421875 24.3125 -1.421875 \nQ 15.921875 -1.421875 10.953125 3.296875 \nQ 6 8.015625 6 15.921875 \nQ 6 25.140625 12.171875 29.828125 \nQ 18.359375 34.515625 30.609375 34.515625 \nL 43.21875 34.515625 \nL 43.21875 35.40625 \nQ 43.21875 41.609375 39.140625 45 \nQ 35.0625 48.390625 27.6875 48.390625 \nQ 23 48.390625 18.546875 47.265625 \nQ 14.109375 46.140625 10.015625 43.890625 \nL 10.015625 52.203125 \nQ 14.9375 54.109375 19.578125 55.046875 \nQ 24.21875 56 28.609375 56 \nQ 40.484375 56 46.34375 49.84375 \nQ 52.203125 43.703125 52.203125 31.203125 \nz\n\" id=\"DejaVuSans-97\"/>\n       <path d=\"M 41.109375 46.296875 \nQ 39.59375 47.171875 37.8125 47.578125 \nQ 36.03125 48 33.890625 48 \nQ 26.265625 48 22.1875 43.046875 \nQ 18.109375 38.09375 18.109375 28.8125 \nL 18.109375 0 \nL 9.078125 0 \nL 9.078125 54.6875 \nL 18.109375 54.6875 \nL 18.109375 46.1875 \nQ 20.953125 51.171875 25.484375 53.578125 \nQ 30.03125 56 36.53125 56 \nQ 37.453125 56 38.578125 55.875 \nQ 39.703125 55.765625 41.0625 55.515625 \nz\n\" id=\"DejaVuSans-114\"/>\n       <path d=\"M 44.28125 53.078125 \nL 44.28125 44.578125 \nQ 40.484375 46.53125 36.375 47.5 \nQ 32.28125 48.484375 27.875 48.484375 \nQ 21.1875 48.484375 17.84375 46.4375 \nQ 14.5 44.390625 14.5 40.28125 \nQ 14.5 37.15625 16.890625 35.375 \nQ 19.28125 33.59375 26.515625 31.984375 \nL 29.59375 31.296875 \nQ 39.15625 29.25 43.1875 25.515625 \nQ 47.21875 21.78125 47.21875 15.09375 \nQ 47.21875 7.46875 41.1875 3.015625 \nQ 35.15625 -1.421875 24.609375 -1.421875 \nQ 20.21875 -1.421875 15.453125 -0.5625 \nQ 10.6875 0.296875 5.421875 2 \nL 5.421875 11.28125 \nQ 10.40625 8.6875 15.234375 7.390625 \nQ 20.0625 6.109375 24.8125 6.109375 \nQ 31.15625 6.109375 34.5625 8.28125 \nQ 37.984375 10.453125 37.984375 14.40625 \nQ 37.984375 18.0625 35.515625 20.015625 \nQ 33.0625 21.96875 24.703125 23.78125 \nL 21.578125 24.515625 \nQ 13.234375 26.265625 9.515625 29.90625 \nQ 5.8125 33.546875 5.8125 39.890625 \nQ 5.8125 47.609375 11.28125 51.796875 \nQ 16.75 56 26.8125 56 \nQ 31.78125 56 36.171875 55.265625 \nQ 40.578125 54.546875 44.28125 53.078125 \nz\n\" id=\"DejaVuSans-115\"/>\n      </defs>\n      <use xlink:href=\"#DejaVuSans-83\"/>\n      <use x=\"63.476562\" xlink:href=\"#DejaVuSans-116\"/>\n      <use x=\"102.685547\" xlink:href=\"#DejaVuSans-97\"/>\n      <use x=\"163.964844\" xlink:href=\"#DejaVuSans-114\"/>\n      <use x=\"205.078125\" xlink:href=\"#DejaVuSans-115\"/>\n     </g>\n    </g>\n    <g id=\"patch_89\">\n     <path d=\"M 319.048438 38.476562 \nL 339.048438 38.476562 \nL 339.048438 31.476562 \nL 319.048438 31.476562 \nz\n\" style=\"fill:#ff7f0e;fill-opacity:0.75;stroke:#000000;stroke-linejoin:miter;\"/>\n    </g>\n    <g id=\"text_17\">\n     <!-- 1 -->\n     <g transform=\"translate(347.048438 38.476562)scale(0.1 -0.1)\">\n      <use xlink:href=\"#DejaVuSans-49\"/>\n     </g>\n    </g>\n   </g>\n  </g>\n </g>\n <defs>\n  <clipPath id=\"p02a947578a\">\n   <rect height=\"217.44\" width=\"334.8\" x=\"46.965625\" y=\"7.2\"/>\n  </clipPath>\n </defs>\n</svg>\n",
      "image/png": "[encoded data removed]"
     },
     "metadata": {
      "needs_background": "light"
     }
    }
   ],
   "source": [
    "sns.histplot([y_test,y_pred]);"
   ]
  },
  {
   "cell_type": "code",
   "execution_count": 56,
   "metadata": {},
   "outputs": [],
   "source": [
    "newRandoData ={ \n",
    "    'Brand':'Master Kong',\n",
    "    'Variety':'Onion Soy sauce sour kimchi prawn ramyun',\n",
    "    'Style':'cup',\n",
    "    'Country': 'Japan'\n",
    "}\n",
    "newSeries = pd.Series(newRandoData)"
   ]
  },
  {
   "cell_type": "code",
   "execution_count": 57,
   "metadata": {},
   "outputs": [],
   "source": [
    "def randomNoods():\n",
    "    nood = [random.choice(df[i]) for i in df.columns.to_list()]\n",
    "    print(nood)\n",
    "    return nood"
   ]
  },
  {
   "cell_type": "code",
   "execution_count": 58,
   "metadata": {},
   "outputs": [
    {
     "output_type": "execute_result",
     "data": {
      "text/plain": [
       "array([4.29577195])"
      ]
     },
     "metadata": {},
     "execution_count": 58
    }
   ],
   "source": [
    "loaded_model.predict([newSeries])"
   ]
  },
  {
   "cell_type": "code",
   "execution_count": 59,
   "metadata": {},
   "outputs": [
    {
     "output_type": "stream",
     "name": "stdout",
     "text": [
      "['JML', 'South Korean Broad Noodle', 'Pack', 'Singapore']\n"
     ]
    },
    {
     "output_type": "error",
     "ename": "ValueError",
     "evalue": "SimpleImputer does not support data with dtype <U25. Please provide either a numeric array (with a floating point or integer dtype) or categorical data represented either as an array with integer dtype or an array of string values with an object dtype.",
     "traceback": [
      "\u001b[0;31m---------------------------------------------------------------------------\u001b[0m",
      "\u001b[0;31mValueError\u001b[0m                                Traceback (most recent call last)",
      "\u001b[0;32m<ipython-input-59-4d45139004c6>\u001b[0m in \u001b[0;36m<module>\u001b[0;34m\u001b[0m\n\u001b[0;32m----> 1\u001b[0;31m \u001b[0mloaded_model\u001b[0m\u001b[0;34m.\u001b[0m\u001b[0mpredict\u001b[0m\u001b[0;34m(\u001b[0m\u001b[0;34m[\u001b[0m\u001b[0mrandomNoods\u001b[0m\u001b[0;34m(\u001b[0m\u001b[0;34m)\u001b[0m\u001b[0;34m]\u001b[0m\u001b[0;34m)\u001b[0m\u001b[0;34m\u001b[0m\u001b[0;34m\u001b[0m\u001b[0m\n\u001b[0m",
      "\u001b[0;32m~/opt/anaconda3/lib/python3.8/site-packages/sklearn/utils/metaestimators.py\u001b[0m in \u001b[0;36m<lambda>\u001b[0;34m(*args, **kwargs)\u001b[0m\n\u001b[1;32m    117\u001b[0m \u001b[0;34m\u001b[0m\u001b[0m\n\u001b[1;32m    118\u001b[0m         \u001b[0;31m# lambda, but not partial, allows help() to work with update_wrapper\u001b[0m\u001b[0;34m\u001b[0m\u001b[0;34m\u001b[0m\u001b[0;34m\u001b[0m\u001b[0m\n\u001b[0;32m--> 119\u001b[0;31m         \u001b[0mout\u001b[0m \u001b[0;34m=\u001b[0m \u001b[0;32mlambda\u001b[0m \u001b[0;34m*\u001b[0m\u001b[0margs\u001b[0m\u001b[0;34m,\u001b[0m \u001b[0;34m**\u001b[0m\u001b[0mkwargs\u001b[0m\u001b[0;34m:\u001b[0m \u001b[0mself\u001b[0m\u001b[0;34m.\u001b[0m\u001b[0mfn\u001b[0m\u001b[0;34m(\u001b[0m\u001b[0mobj\u001b[0m\u001b[0;34m,\u001b[0m \u001b[0;34m*\u001b[0m\u001b[0margs\u001b[0m\u001b[0;34m,\u001b[0m \u001b[0;34m**\u001b[0m\u001b[0mkwargs\u001b[0m\u001b[0;34m)\u001b[0m\u001b[0;34m\u001b[0m\u001b[0;34m\u001b[0m\u001b[0m\n\u001b[0m\u001b[1;32m    120\u001b[0m         \u001b[0;31m# update the docstring of the returned function\u001b[0m\u001b[0;34m\u001b[0m\u001b[0;34m\u001b[0m\u001b[0;34m\u001b[0m\u001b[0m\n\u001b[1;32m    121\u001b[0m         \u001b[0mupdate_wrapper\u001b[0m\u001b[0;34m(\u001b[0m\u001b[0mout\u001b[0m\u001b[0;34m,\u001b[0m \u001b[0mself\u001b[0m\u001b[0;34m.\u001b[0m\u001b[0mfn\u001b[0m\u001b[0;34m)\u001b[0m\u001b[0;34m\u001b[0m\u001b[0;34m\u001b[0m\u001b[0m\n",
      "\u001b[0;32m~/opt/anaconda3/lib/python3.8/site-packages/sklearn/model_selection/_search.py\u001b[0m in \u001b[0;36mpredict\u001b[0;34m(self, X)\u001b[0m\n\u001b[1;32m    485\u001b[0m         \"\"\"\n\u001b[1;32m    486\u001b[0m         \u001b[0mself\u001b[0m\u001b[0;34m.\u001b[0m\u001b[0m_check_is_fitted\u001b[0m\u001b[0;34m(\u001b[0m\u001b[0;34m'predict'\u001b[0m\u001b[0;34m)\u001b[0m\u001b[0;34m\u001b[0m\u001b[0;34m\u001b[0m\u001b[0m\n\u001b[0;32m--> 487\u001b[0;31m         \u001b[0;32mreturn\u001b[0m \u001b[0mself\u001b[0m\u001b[0;34m.\u001b[0m\u001b[0mbest_estimator_\u001b[0m\u001b[0;34m.\u001b[0m\u001b[0mpredict\u001b[0m\u001b[0;34m(\u001b[0m\u001b[0mX\u001b[0m\u001b[0;34m)\u001b[0m\u001b[0;34m\u001b[0m\u001b[0;34m\u001b[0m\u001b[0m\n\u001b[0m\u001b[1;32m    488\u001b[0m \u001b[0;34m\u001b[0m\u001b[0m\n\u001b[1;32m    489\u001b[0m     \u001b[0;34m@\u001b[0m\u001b[0mif_delegate_has_method\u001b[0m\u001b[0;34m(\u001b[0m\u001b[0mdelegate\u001b[0m\u001b[0;34m=\u001b[0m\u001b[0;34m(\u001b[0m\u001b[0;34m'best_estimator_'\u001b[0m\u001b[0;34m,\u001b[0m \u001b[0;34m'estimator'\u001b[0m\u001b[0;34m)\u001b[0m\u001b[0;34m)\u001b[0m\u001b[0;34m\u001b[0m\u001b[0;34m\u001b[0m\u001b[0m\n",
      "\u001b[0;32m~/opt/anaconda3/lib/python3.8/site-packages/sklearn/utils/metaestimators.py\u001b[0m in \u001b[0;36m<lambda>\u001b[0;34m(*args, **kwargs)\u001b[0m\n\u001b[1;32m    117\u001b[0m \u001b[0;34m\u001b[0m\u001b[0m\n\u001b[1;32m    118\u001b[0m         \u001b[0;31m# lambda, but not partial, allows help() to work with update_wrapper\u001b[0m\u001b[0;34m\u001b[0m\u001b[0;34m\u001b[0m\u001b[0;34m\u001b[0m\u001b[0m\n\u001b[0;32m--> 119\u001b[0;31m         \u001b[0mout\u001b[0m \u001b[0;34m=\u001b[0m \u001b[0;32mlambda\u001b[0m \u001b[0;34m*\u001b[0m\u001b[0margs\u001b[0m\u001b[0;34m,\u001b[0m \u001b[0;34m**\u001b[0m\u001b[0mkwargs\u001b[0m\u001b[0;34m:\u001b[0m \u001b[0mself\u001b[0m\u001b[0;34m.\u001b[0m\u001b[0mfn\u001b[0m\u001b[0;34m(\u001b[0m\u001b[0mobj\u001b[0m\u001b[0;34m,\u001b[0m \u001b[0;34m*\u001b[0m\u001b[0margs\u001b[0m\u001b[0;34m,\u001b[0m \u001b[0;34m**\u001b[0m\u001b[0mkwargs\u001b[0m\u001b[0;34m)\u001b[0m\u001b[0;34m\u001b[0m\u001b[0;34m\u001b[0m\u001b[0m\n\u001b[0m\u001b[1;32m    120\u001b[0m         \u001b[0;31m# update the docstring of the returned function\u001b[0m\u001b[0;34m\u001b[0m\u001b[0;34m\u001b[0m\u001b[0;34m\u001b[0m\u001b[0m\n\u001b[1;32m    121\u001b[0m         \u001b[0mupdate_wrapper\u001b[0m\u001b[0;34m(\u001b[0m\u001b[0mout\u001b[0m\u001b[0;34m,\u001b[0m \u001b[0mself\u001b[0m\u001b[0;34m.\u001b[0m\u001b[0mfn\u001b[0m\u001b[0;34m)\u001b[0m\u001b[0;34m\u001b[0m\u001b[0;34m\u001b[0m\u001b[0m\n",
      "\u001b[0;32m~/opt/anaconda3/lib/python3.8/site-packages/sklearn/pipeline.py\u001b[0m in \u001b[0;36mpredict\u001b[0;34m(self, X, **predict_params)\u001b[0m\n\u001b[1;32m    405\u001b[0m         \u001b[0mXt\u001b[0m \u001b[0;34m=\u001b[0m \u001b[0mX\u001b[0m\u001b[0;34m\u001b[0m\u001b[0;34m\u001b[0m\u001b[0m\n\u001b[1;32m    406\u001b[0m         \u001b[0;32mfor\u001b[0m \u001b[0m_\u001b[0m\u001b[0;34m,\u001b[0m \u001b[0mname\u001b[0m\u001b[0;34m,\u001b[0m \u001b[0mtransform\u001b[0m \u001b[0;32min\u001b[0m \u001b[0mself\u001b[0m\u001b[0;34m.\u001b[0m\u001b[0m_iter\u001b[0m\u001b[0;34m(\u001b[0m\u001b[0mwith_final\u001b[0m\u001b[0;34m=\u001b[0m\u001b[0;32mFalse\u001b[0m\u001b[0;34m)\u001b[0m\u001b[0;34m:\u001b[0m\u001b[0;34m\u001b[0m\u001b[0;34m\u001b[0m\u001b[0m\n\u001b[0;32m--> 407\u001b[0;31m             \u001b[0mXt\u001b[0m \u001b[0;34m=\u001b[0m \u001b[0mtransform\u001b[0m\u001b[0;34m.\u001b[0m\u001b[0mtransform\u001b[0m\u001b[0;34m(\u001b[0m\u001b[0mXt\u001b[0m\u001b[0;34m)\u001b[0m\u001b[0;34m\u001b[0m\u001b[0;34m\u001b[0m\u001b[0m\n\u001b[0m\u001b[1;32m    408\u001b[0m         \u001b[0;32mreturn\u001b[0m \u001b[0mself\u001b[0m\u001b[0;34m.\u001b[0m\u001b[0msteps\u001b[0m\u001b[0;34m[\u001b[0m\u001b[0;34m-\u001b[0m\u001b[0;36m1\u001b[0m\u001b[0;34m]\u001b[0m\u001b[0;34m[\u001b[0m\u001b[0;34m-\u001b[0m\u001b[0;36m1\u001b[0m\u001b[0;34m]\u001b[0m\u001b[0;34m.\u001b[0m\u001b[0mpredict\u001b[0m\u001b[0;34m(\u001b[0m\u001b[0mXt\u001b[0m\u001b[0;34m,\u001b[0m \u001b[0;34m**\u001b[0m\u001b[0mpredict_params\u001b[0m\u001b[0;34m)\u001b[0m\u001b[0;34m\u001b[0m\u001b[0;34m\u001b[0m\u001b[0m\n\u001b[1;32m    409\u001b[0m \u001b[0;34m\u001b[0m\u001b[0m\n",
      "\u001b[0;32m~/opt/anaconda3/lib/python3.8/site-packages/sklearn/pipeline.py\u001b[0m in \u001b[0;36m_transform\u001b[0;34m(self, X)\u001b[0m\n\u001b[1;32m    547\u001b[0m         \u001b[0mXt\u001b[0m \u001b[0;34m=\u001b[0m \u001b[0mX\u001b[0m\u001b[0;34m\u001b[0m\u001b[0;34m\u001b[0m\u001b[0m\n\u001b[1;32m    548\u001b[0m         \u001b[0;32mfor\u001b[0m \u001b[0m_\u001b[0m\u001b[0;34m,\u001b[0m \u001b[0m_\u001b[0m\u001b[0;34m,\u001b[0m \u001b[0mtransform\u001b[0m \u001b[0;32min\u001b[0m \u001b[0mself\u001b[0m\u001b[0;34m.\u001b[0m\u001b[0m_iter\u001b[0m\u001b[0;34m(\u001b[0m\u001b[0;34m)\u001b[0m\u001b[0;34m:\u001b[0m\u001b[0;34m\u001b[0m\u001b[0;34m\u001b[0m\u001b[0m\n\u001b[0;32m--> 549\u001b[0;31m             \u001b[0mXt\u001b[0m \u001b[0;34m=\u001b[0m \u001b[0mtransform\u001b[0m\u001b[0;34m.\u001b[0m\u001b[0mtransform\u001b[0m\u001b[0;34m(\u001b[0m\u001b[0mXt\u001b[0m\u001b[0;34m)\u001b[0m\u001b[0;34m\u001b[0m\u001b[0;34m\u001b[0m\u001b[0m\n\u001b[0m\u001b[1;32m    550\u001b[0m         \u001b[0;32mreturn\u001b[0m \u001b[0mXt\u001b[0m\u001b[0;34m\u001b[0m\u001b[0;34m\u001b[0m\u001b[0m\n\u001b[1;32m    551\u001b[0m \u001b[0;34m\u001b[0m\u001b[0m\n",
      "\u001b[0;32m~/opt/anaconda3/lib/python3.8/site-packages/sklearn/impute/_base.py\u001b[0m in \u001b[0;36mtransform\u001b[0;34m(self, X)\u001b[0m\n\u001b[1;32m    413\u001b[0m         \u001b[0mcheck_is_fitted\u001b[0m\u001b[0;34m(\u001b[0m\u001b[0mself\u001b[0m\u001b[0;34m)\u001b[0m\u001b[0;34m\u001b[0m\u001b[0;34m\u001b[0m\u001b[0m\n\u001b[1;32m    414\u001b[0m \u001b[0;34m\u001b[0m\u001b[0m\n\u001b[0;32m--> 415\u001b[0;31m         \u001b[0mX\u001b[0m \u001b[0;34m=\u001b[0m \u001b[0mself\u001b[0m\u001b[0;34m.\u001b[0m\u001b[0m_validate_input\u001b[0m\u001b[0;34m(\u001b[0m\u001b[0mX\u001b[0m\u001b[0;34m,\u001b[0m \u001b[0min_fit\u001b[0m\u001b[0;34m=\u001b[0m\u001b[0;32mFalse\u001b[0m\u001b[0;34m)\u001b[0m\u001b[0;34m\u001b[0m\u001b[0;34m\u001b[0m\u001b[0m\n\u001b[0m\u001b[1;32m    416\u001b[0m         \u001b[0mX_indicator\u001b[0m \u001b[0;34m=\u001b[0m \u001b[0msuper\u001b[0m\u001b[0;34m(\u001b[0m\u001b[0;34m)\u001b[0m\u001b[0;34m.\u001b[0m\u001b[0m_transform_indicator\u001b[0m\u001b[0;34m(\u001b[0m\u001b[0mX\u001b[0m\u001b[0;34m)\u001b[0m\u001b[0;34m\u001b[0m\u001b[0;34m\u001b[0m\u001b[0m\n\u001b[1;32m    417\u001b[0m \u001b[0;34m\u001b[0m\u001b[0m\n",
      "\u001b[0;32m~/opt/anaconda3/lib/python3.8/site-packages/sklearn/impute/_base.py\u001b[0m in \u001b[0;36m_validate_input\u001b[0;34m(self, X, in_fit)\u001b[0m\n\u001b[1;32m    253\u001b[0m         \u001b[0m_check_inputs_dtype\u001b[0m\u001b[0;34m(\u001b[0m\u001b[0mX\u001b[0m\u001b[0;34m,\u001b[0m \u001b[0mself\u001b[0m\u001b[0;34m.\u001b[0m\u001b[0mmissing_values\u001b[0m\u001b[0;34m)\u001b[0m\u001b[0;34m\u001b[0m\u001b[0;34m\u001b[0m\u001b[0m\n\u001b[1;32m    254\u001b[0m         \u001b[0;32mif\u001b[0m \u001b[0mX\u001b[0m\u001b[0;34m.\u001b[0m\u001b[0mdtype\u001b[0m\u001b[0;34m.\u001b[0m\u001b[0mkind\u001b[0m \u001b[0;32mnot\u001b[0m \u001b[0;32min\u001b[0m \u001b[0;34m(\u001b[0m\u001b[0;34m\"i\"\u001b[0m\u001b[0;34m,\u001b[0m \u001b[0;34m\"u\"\u001b[0m\u001b[0;34m,\u001b[0m \u001b[0;34m\"f\"\u001b[0m\u001b[0;34m,\u001b[0m \u001b[0;34m\"O\"\u001b[0m\u001b[0;34m)\u001b[0m\u001b[0;34m:\u001b[0m\u001b[0;34m\u001b[0m\u001b[0;34m\u001b[0m\u001b[0m\n\u001b[0;32m--> 255\u001b[0;31m             raise ValueError(\"SimpleImputer does not support data with dtype \"\n\u001b[0m\u001b[1;32m    256\u001b[0m                              \u001b[0;34m\"{0}. Please provide either a numeric array (with\"\u001b[0m\u001b[0;34m\u001b[0m\u001b[0;34m\u001b[0m\u001b[0m\n\u001b[1;32m    257\u001b[0m                              \u001b[0;34m\" a floating point or integer dtype) or \"\u001b[0m\u001b[0;34m\u001b[0m\u001b[0;34m\u001b[0m\u001b[0m\n",
      "\u001b[0;31mValueError\u001b[0m: SimpleImputer does not support data with dtype <U25. Please provide either a numeric array (with a floating point or integer dtype) or categorical data represented either as an array with integer dtype or an array of string values with an object dtype."
     ]
    }
   ],
   "source": [
    "loaded_model.predict([randomNoods()])"
   ]
  },
  {
   "cell_type": "code",
   "execution_count": null,
   "metadata": {},
   "outputs": [],
   "source": [
    "df.head()"
   ]
  },
  {
   "cell_type": "code",
   "execution_count": null,
   "metadata": {},
   "outputs": [],
   "source": [
    "dropDownVals = {\n",
    "    'Brand' : df.Brand.unique().tolist(),\n",
    "    'Style' : df.Style.unique().tolist(),\n",
    "    'Country' : df.Country.unique().tolist()\n",
    "    }"
   ]
  },
  {
   "cell_type": "code",
   "execution_count": null,
   "metadata": {},
   "outputs": [],
   "source": [
    "import json"
   ]
  },
  {
   "cell_type": "code",
   "execution_count": null,
   "metadata": {},
   "outputs": [],
   "source": [
    "jsonFilename = 'DjangoRamenMLDropDownVals'\n",
    "with open(f'{modelPath}/{jsonFilename}.json', 'w') as fp:\n",
    "    json.dump(dropDownVals, fp)"
   ]
  },
  {
   "cell_type": "code",
   "execution_count": null,
   "metadata": {},
   "outputs": [],
   "source": []
  }
 ]
}